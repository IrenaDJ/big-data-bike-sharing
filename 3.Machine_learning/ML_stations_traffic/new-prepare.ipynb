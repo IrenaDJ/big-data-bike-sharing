{
 "metadata": {
  "language_info": {
   "codemirror_mode": {
    "name": "ipython",
    "version": 3
   },
   "file_extension": ".py",
   "mimetype": "text/x-python",
   "name": "python",
   "nbconvert_exporter": "python",
   "pygments_lexer": "ipython3",
   "version": "3.7.9-final"
  },
  "orig_nbformat": 2,
  "kernelspec": {
   "name": "Python 3.7.9 64-bit ('bigdata': conda)",
   "display_name": "Python 3.7.9 64-bit ('bigdata': conda)",
   "metadata": {
    "interpreter": {
     "hash": "40e50a53370bcdeb27a80424468b60995c94b295e609bd60d133ab3a198646dd"
    }
   }
  }
 },
 "nbformat": 4,
 "nbformat_minor": 2,
 "cells": [
  {
   "cell_type": "code",
   "execution_count": 1,
   "metadata": {},
   "outputs": [],
   "source": [
    "import pandas as pd"
   ]
  },
  {
   "cell_type": "code",
   "execution_count": 2,
   "metadata": {},
   "outputs": [],
   "source": [
    "base = pd.read_parquet(\"G:\\\\Master\\\\Big Data\\\\Data\\\\D.C\\\\New\\\\HELP\\\\empty_base.parquet\")"
   ]
  },
  {
   "cell_type": "code",
   "execution_count": 3,
   "metadata": {},
   "outputs": [
    {
     "output_type": "execute_result",
     "data": {
      "text/plain": [
       "         hour  dayofyear  month   air_temp  visibility  wind_speed  \\\n",
       "0           5        346     12  -0.655556        10.0    6.262222   \n",
       "1           5        346     12  -0.655556        10.0    6.262222   \n",
       "2           5        346     12  -0.655556        10.0    6.262222   \n",
       "3           5        346     12  -0.655556        10.0    6.262222   \n",
       "4           5        346     12  -0.655556        10.0    6.262222   \n",
       "...       ...        ...    ...        ...         ...         ...   \n",
       "5063929    22        167      6  28.800000        10.0   11.559906   \n",
       "5063930    22        167      6  28.800000        10.0   11.559906   \n",
       "5063931    22        167      6  28.800000        10.0   11.559906   \n",
       "5063932    22        167      6  28.800000        10.0   11.559906   \n",
       "5063933    22        167      6  28.800000        10.0   11.559906   \n",
       "\n",
       "        weather_class station  count  \n",
       "0               clear   31118      0  \n",
       "1               clear   31518      0  \n",
       "2               clear   31039      0  \n",
       "3               clear   31713      0  \n",
       "4               clear   31067      0  \n",
       "...               ...     ...    ...  \n",
       "5063929         clear   31815      0  \n",
       "5063930         clear   31269      0  \n",
       "5063931         clear   31100      0  \n",
       "5063932         clear   31078      0  \n",
       "5063933         clear   31910      0  \n",
       "\n",
       "[5063934 rows x 9 columns]"
      ],
      "text/html": "<div>\n<style scoped>\n    .dataframe tbody tr th:only-of-type {\n        vertical-align: middle;\n    }\n\n    .dataframe tbody tr th {\n        vertical-align: top;\n    }\n\n    .dataframe thead th {\n        text-align: right;\n    }\n</style>\n<table border=\"1\" class=\"dataframe\">\n  <thead>\n    <tr style=\"text-align: right;\">\n      <th></th>\n      <th>hour</th>\n      <th>dayofyear</th>\n      <th>month</th>\n      <th>air_temp</th>\n      <th>visibility</th>\n      <th>wind_speed</th>\n      <th>weather_class</th>\n      <th>station</th>\n      <th>count</th>\n    </tr>\n  </thead>\n  <tbody>\n    <tr>\n      <th>0</th>\n      <td>5</td>\n      <td>346</td>\n      <td>12</td>\n      <td>-0.655556</td>\n      <td>10.0</td>\n      <td>6.262222</td>\n      <td>clear</td>\n      <td>31118</td>\n      <td>0</td>\n    </tr>\n    <tr>\n      <th>1</th>\n      <td>5</td>\n      <td>346</td>\n      <td>12</td>\n      <td>-0.655556</td>\n      <td>10.0</td>\n      <td>6.262222</td>\n      <td>clear</td>\n      <td>31518</td>\n      <td>0</td>\n    </tr>\n    <tr>\n      <th>2</th>\n      <td>5</td>\n      <td>346</td>\n      <td>12</td>\n      <td>-0.655556</td>\n      <td>10.0</td>\n      <td>6.262222</td>\n      <td>clear</td>\n      <td>31039</td>\n      <td>0</td>\n    </tr>\n    <tr>\n      <th>3</th>\n      <td>5</td>\n      <td>346</td>\n      <td>12</td>\n      <td>-0.655556</td>\n      <td>10.0</td>\n      <td>6.262222</td>\n      <td>clear</td>\n      <td>31713</td>\n      <td>0</td>\n    </tr>\n    <tr>\n      <th>4</th>\n      <td>5</td>\n      <td>346</td>\n      <td>12</td>\n      <td>-0.655556</td>\n      <td>10.0</td>\n      <td>6.262222</td>\n      <td>clear</td>\n      <td>31067</td>\n      <td>0</td>\n    </tr>\n    <tr>\n      <th>...</th>\n      <td>...</td>\n      <td>...</td>\n      <td>...</td>\n      <td>...</td>\n      <td>...</td>\n      <td>...</td>\n      <td>...</td>\n      <td>...</td>\n      <td>...</td>\n    </tr>\n    <tr>\n      <th>5063929</th>\n      <td>22</td>\n      <td>167</td>\n      <td>6</td>\n      <td>28.800000</td>\n      <td>10.0</td>\n      <td>11.559906</td>\n      <td>clear</td>\n      <td>31815</td>\n      <td>0</td>\n    </tr>\n    <tr>\n      <th>5063930</th>\n      <td>22</td>\n      <td>167</td>\n      <td>6</td>\n      <td>28.800000</td>\n      <td>10.0</td>\n      <td>11.559906</td>\n      <td>clear</td>\n      <td>31269</td>\n      <td>0</td>\n    </tr>\n    <tr>\n      <th>5063931</th>\n      <td>22</td>\n      <td>167</td>\n      <td>6</td>\n      <td>28.800000</td>\n      <td>10.0</td>\n      <td>11.559906</td>\n      <td>clear</td>\n      <td>31100</td>\n      <td>0</td>\n    </tr>\n    <tr>\n      <th>5063932</th>\n      <td>22</td>\n      <td>167</td>\n      <td>6</td>\n      <td>28.800000</td>\n      <td>10.0</td>\n      <td>11.559906</td>\n      <td>clear</td>\n      <td>31078</td>\n      <td>0</td>\n    </tr>\n    <tr>\n      <th>5063933</th>\n      <td>22</td>\n      <td>167</td>\n      <td>6</td>\n      <td>28.800000</td>\n      <td>10.0</td>\n      <td>11.559906</td>\n      <td>clear</td>\n      <td>31910</td>\n      <td>0</td>\n    </tr>\n  </tbody>\n</table>\n<p>5063934 rows × 9 columns</p>\n</div>"
     },
     "metadata": {},
     "execution_count": 3
    }
   ],
   "source": [
    "base"
   ]
  },
  {
   "cell_type": "code",
   "execution_count": 4,
   "metadata": {},
   "outputs": [],
   "source": [
    "generated = pd.read_parquet(\"G:\\\\Master\\\\Big Data\\\\Data\\\\D.C\\\\New\\\\ml_dataset_extended_final.parquet\")"
   ]
  },
  {
   "cell_type": "code",
   "execution_count": 5,
   "metadata": {},
   "outputs": [
    {
     "output_type": "execute_result",
     "data": {
      "text/plain": [
       "         hour  dayofyear  month start_station_id  total_duration  count  \\\n",
       "0           0         24      1            31270             409      1   \n",
       "1           0         36      2            31283            1033      1   \n",
       "2           0         39      2            31241             426      1   \n",
       "3           0         41      2            31408             597      1   \n",
       "4           0         51      2            31503             867      1   \n",
       "...       ...        ...    ...              ...             ...    ...   \n",
       "1277503    23        332     11            31281             303      1   \n",
       "1277504    23        335     12            31256             803      2   \n",
       "1277505    23        337     12            31229            1262      2   \n",
       "1277506    23        350     12            31236            1877      2   \n",
       "1277507    23        362     12            31649            1147      1   \n",
       "\n",
       "         air_temp  visibility  wind_speed  abs_distance weather_class  \\\n",
       "0            7.60        10.0        0.00        1058.0        cloudy   \n",
       "1            8.90        10.0        0.00        2403.0         clear   \n",
       "2           10.00        10.0        3.44        1391.0        cloudy   \n",
       "3           -1.20        10.0        8.05        1574.0         clear   \n",
       "4            1.60        10.0        4.61        1868.0         clear   \n",
       "...           ...         ...         ...           ...           ...   \n",
       "1277503      6.80        10.0       17.27         506.0         clear   \n",
       "1277504      6.20        10.0        5.75         848.0        cloudy   \n",
       "1277505      5.00        10.0        9.22        1493.5         clear   \n",
       "1277506      1.25        10.0        9.22        2878.5        cloudy   \n",
       "1277507     10.70        10.0        5.75        3970.0         clear   \n",
       "\n",
       "               lat       long  \n",
       "0        38.894851 -77.023240  \n",
       "1        38.903658 -77.031737  \n",
       "2        38.905900 -77.032500  \n",
       "3        38.975219 -77.016855  \n",
       "4        38.912600 -77.013500  \n",
       "...            ...        ...  \n",
       "1277503  38.908640 -77.022770  \n",
       "1277504  38.895914 -77.026064  \n",
       "1277505  38.915540 -77.038180  \n",
       "1277506  38.907740 -77.071652  \n",
       "1277507  38.931991 -77.032956  \n",
       "\n",
       "[1277508 rows x 13 columns]"
      ],
      "text/html": "<div>\n<style scoped>\n    .dataframe tbody tr th:only-of-type {\n        vertical-align: middle;\n    }\n\n    .dataframe tbody tr th {\n        vertical-align: top;\n    }\n\n    .dataframe thead th {\n        text-align: right;\n    }\n</style>\n<table border=\"1\" class=\"dataframe\">\n  <thead>\n    <tr style=\"text-align: right;\">\n      <th></th>\n      <th>hour</th>\n      <th>dayofyear</th>\n      <th>month</th>\n      <th>start_station_id</th>\n      <th>total_duration</th>\n      <th>count</th>\n      <th>air_temp</th>\n      <th>visibility</th>\n      <th>wind_speed</th>\n      <th>abs_distance</th>\n      <th>weather_class</th>\n      <th>lat</th>\n      <th>long</th>\n    </tr>\n  </thead>\n  <tbody>\n    <tr>\n      <th>0</th>\n      <td>0</td>\n      <td>24</td>\n      <td>1</td>\n      <td>31270</td>\n      <td>409</td>\n      <td>1</td>\n      <td>7.60</td>\n      <td>10.0</td>\n      <td>0.00</td>\n      <td>1058.0</td>\n      <td>cloudy</td>\n      <td>38.894851</td>\n      <td>-77.023240</td>\n    </tr>\n    <tr>\n      <th>1</th>\n      <td>0</td>\n      <td>36</td>\n      <td>2</td>\n      <td>31283</td>\n      <td>1033</td>\n      <td>1</td>\n      <td>8.90</td>\n      <td>10.0</td>\n      <td>0.00</td>\n      <td>2403.0</td>\n      <td>clear</td>\n      <td>38.903658</td>\n      <td>-77.031737</td>\n    </tr>\n    <tr>\n      <th>2</th>\n      <td>0</td>\n      <td>39</td>\n      <td>2</td>\n      <td>31241</td>\n      <td>426</td>\n      <td>1</td>\n      <td>10.00</td>\n      <td>10.0</td>\n      <td>3.44</td>\n      <td>1391.0</td>\n      <td>cloudy</td>\n      <td>38.905900</td>\n      <td>-77.032500</td>\n    </tr>\n    <tr>\n      <th>3</th>\n      <td>0</td>\n      <td>41</td>\n      <td>2</td>\n      <td>31408</td>\n      <td>597</td>\n      <td>1</td>\n      <td>-1.20</td>\n      <td>10.0</td>\n      <td>8.05</td>\n      <td>1574.0</td>\n      <td>clear</td>\n      <td>38.975219</td>\n      <td>-77.016855</td>\n    </tr>\n    <tr>\n      <th>4</th>\n      <td>0</td>\n      <td>51</td>\n      <td>2</td>\n      <td>31503</td>\n      <td>867</td>\n      <td>1</td>\n      <td>1.60</td>\n      <td>10.0</td>\n      <td>4.61</td>\n      <td>1868.0</td>\n      <td>clear</td>\n      <td>38.912600</td>\n      <td>-77.013500</td>\n    </tr>\n    <tr>\n      <th>...</th>\n      <td>...</td>\n      <td>...</td>\n      <td>...</td>\n      <td>...</td>\n      <td>...</td>\n      <td>...</td>\n      <td>...</td>\n      <td>...</td>\n      <td>...</td>\n      <td>...</td>\n      <td>...</td>\n      <td>...</td>\n      <td>...</td>\n    </tr>\n    <tr>\n      <th>1277503</th>\n      <td>23</td>\n      <td>332</td>\n      <td>11</td>\n      <td>31281</td>\n      <td>303</td>\n      <td>1</td>\n      <td>6.80</td>\n      <td>10.0</td>\n      <td>17.27</td>\n      <td>506.0</td>\n      <td>clear</td>\n      <td>38.908640</td>\n      <td>-77.022770</td>\n    </tr>\n    <tr>\n      <th>1277504</th>\n      <td>23</td>\n      <td>335</td>\n      <td>12</td>\n      <td>31256</td>\n      <td>803</td>\n      <td>2</td>\n      <td>6.20</td>\n      <td>10.0</td>\n      <td>5.75</td>\n      <td>848.0</td>\n      <td>cloudy</td>\n      <td>38.895914</td>\n      <td>-77.026064</td>\n    </tr>\n    <tr>\n      <th>1277505</th>\n      <td>23</td>\n      <td>337</td>\n      <td>12</td>\n      <td>31229</td>\n      <td>1262</td>\n      <td>2</td>\n      <td>5.00</td>\n      <td>10.0</td>\n      <td>9.22</td>\n      <td>1493.5</td>\n      <td>clear</td>\n      <td>38.915540</td>\n      <td>-77.038180</td>\n    </tr>\n    <tr>\n      <th>1277506</th>\n      <td>23</td>\n      <td>350</td>\n      <td>12</td>\n      <td>31236</td>\n      <td>1877</td>\n      <td>2</td>\n      <td>1.25</td>\n      <td>10.0</td>\n      <td>9.22</td>\n      <td>2878.5</td>\n      <td>cloudy</td>\n      <td>38.907740</td>\n      <td>-77.071652</td>\n    </tr>\n    <tr>\n      <th>1277507</th>\n      <td>23</td>\n      <td>362</td>\n      <td>12</td>\n      <td>31649</td>\n      <td>1147</td>\n      <td>1</td>\n      <td>10.70</td>\n      <td>10.0</td>\n      <td>5.75</td>\n      <td>3970.0</td>\n      <td>clear</td>\n      <td>38.931991</td>\n      <td>-77.032956</td>\n    </tr>\n  </tbody>\n</table>\n<p>1277508 rows × 13 columns</p>\n</div>"
     },
     "metadata": {},
     "execution_count": 5
    }
   ],
   "source": [
    "generated"
   ]
  },
  {
   "cell_type": "code",
   "execution_count": 14,
   "metadata": {},
   "outputs": [],
   "source": [
    "reduced = generated[[\"hour\", \"dayofyear\", \"month\", \"air_temp\", \"visibility\", \"wind_speed\", \"weather_class\", \"start_station_id\", \"count\"]]"
   ]
  },
  {
   "cell_type": "code",
   "execution_count": 15,
   "metadata": {},
   "outputs": [
    {
     "output_type": "execute_result",
     "data": {
      "text/plain": [
       "         hour  dayofyear  month  air_temp  visibility  wind_speed  \\\n",
       "0           0         24      1      7.60        10.0        0.00   \n",
       "1           0         36      2      8.90        10.0        0.00   \n",
       "2           0         39      2     10.00        10.0        3.44   \n",
       "3           0         41      2     -1.20        10.0        8.05   \n",
       "4           0         51      2      1.60        10.0        4.61   \n",
       "...       ...        ...    ...       ...         ...         ...   \n",
       "1277503    23        332     11      6.80        10.0       17.27   \n",
       "1277504    23        335     12      6.20        10.0        5.75   \n",
       "1277505    23        337     12      5.00        10.0        9.22   \n",
       "1277506    23        350     12      1.25        10.0        9.22   \n",
       "1277507    23        362     12     10.70        10.0        5.75   \n",
       "\n",
       "        weather_class start_station_id  count  \n",
       "0              cloudy            31270      1  \n",
       "1               clear            31283      1  \n",
       "2              cloudy            31241      1  \n",
       "3               clear            31408      1  \n",
       "4               clear            31503      1  \n",
       "...               ...              ...    ...  \n",
       "1277503         clear            31281      1  \n",
       "1277504        cloudy            31256      2  \n",
       "1277505         clear            31229      2  \n",
       "1277506        cloudy            31236      2  \n",
       "1277507         clear            31649      1  \n",
       "\n",
       "[1277508 rows x 9 columns]"
      ],
      "text/html": "<div>\n<style scoped>\n    .dataframe tbody tr th:only-of-type {\n        vertical-align: middle;\n    }\n\n    .dataframe tbody tr th {\n        vertical-align: top;\n    }\n\n    .dataframe thead th {\n        text-align: right;\n    }\n</style>\n<table border=\"1\" class=\"dataframe\">\n  <thead>\n    <tr style=\"text-align: right;\">\n      <th></th>\n      <th>hour</th>\n      <th>dayofyear</th>\n      <th>month</th>\n      <th>air_temp</th>\n      <th>visibility</th>\n      <th>wind_speed</th>\n      <th>weather_class</th>\n      <th>start_station_id</th>\n      <th>count</th>\n    </tr>\n  </thead>\n  <tbody>\n    <tr>\n      <th>0</th>\n      <td>0</td>\n      <td>24</td>\n      <td>1</td>\n      <td>7.60</td>\n      <td>10.0</td>\n      <td>0.00</td>\n      <td>cloudy</td>\n      <td>31270</td>\n      <td>1</td>\n    </tr>\n    <tr>\n      <th>1</th>\n      <td>0</td>\n      <td>36</td>\n      <td>2</td>\n      <td>8.90</td>\n      <td>10.0</td>\n      <td>0.00</td>\n      <td>clear</td>\n      <td>31283</td>\n      <td>1</td>\n    </tr>\n    <tr>\n      <th>2</th>\n      <td>0</td>\n      <td>39</td>\n      <td>2</td>\n      <td>10.00</td>\n      <td>10.0</td>\n      <td>3.44</td>\n      <td>cloudy</td>\n      <td>31241</td>\n      <td>1</td>\n    </tr>\n    <tr>\n      <th>3</th>\n      <td>0</td>\n      <td>41</td>\n      <td>2</td>\n      <td>-1.20</td>\n      <td>10.0</td>\n      <td>8.05</td>\n      <td>clear</td>\n      <td>31408</td>\n      <td>1</td>\n    </tr>\n    <tr>\n      <th>4</th>\n      <td>0</td>\n      <td>51</td>\n      <td>2</td>\n      <td>1.60</td>\n      <td>10.0</td>\n      <td>4.61</td>\n      <td>clear</td>\n      <td>31503</td>\n      <td>1</td>\n    </tr>\n    <tr>\n      <th>...</th>\n      <td>...</td>\n      <td>...</td>\n      <td>...</td>\n      <td>...</td>\n      <td>...</td>\n      <td>...</td>\n      <td>...</td>\n      <td>...</td>\n      <td>...</td>\n    </tr>\n    <tr>\n      <th>1277503</th>\n      <td>23</td>\n      <td>332</td>\n      <td>11</td>\n      <td>6.80</td>\n      <td>10.0</td>\n      <td>17.27</td>\n      <td>clear</td>\n      <td>31281</td>\n      <td>1</td>\n    </tr>\n    <tr>\n      <th>1277504</th>\n      <td>23</td>\n      <td>335</td>\n      <td>12</td>\n      <td>6.20</td>\n      <td>10.0</td>\n      <td>5.75</td>\n      <td>cloudy</td>\n      <td>31256</td>\n      <td>2</td>\n    </tr>\n    <tr>\n      <th>1277505</th>\n      <td>23</td>\n      <td>337</td>\n      <td>12</td>\n      <td>5.00</td>\n      <td>10.0</td>\n      <td>9.22</td>\n      <td>clear</td>\n      <td>31229</td>\n      <td>2</td>\n    </tr>\n    <tr>\n      <th>1277506</th>\n      <td>23</td>\n      <td>350</td>\n      <td>12</td>\n      <td>1.25</td>\n      <td>10.0</td>\n      <td>9.22</td>\n      <td>cloudy</td>\n      <td>31236</td>\n      <td>2</td>\n    </tr>\n    <tr>\n      <th>1277507</th>\n      <td>23</td>\n      <td>362</td>\n      <td>12</td>\n      <td>10.70</td>\n      <td>10.0</td>\n      <td>5.75</td>\n      <td>clear</td>\n      <td>31649</td>\n      <td>1</td>\n    </tr>\n  </tbody>\n</table>\n<p>1277508 rows × 9 columns</p>\n</div>"
     },
     "metadata": {},
     "execution_count": 15
    }
   ],
   "source": [
    "reduced"
   ]
  },
  {
   "cell_type": "code",
   "execution_count": 16,
   "metadata": {},
   "outputs": [],
   "source": [
    "reduced.columns = [\"hour\", \"dayofyear\", \"month\", \"air_temp\", \"visibility\", \"wind_speed\", \"weather_class\", \"station\", \"count\"]"
   ]
  },
  {
   "cell_type": "code",
   "execution_count": 17,
   "metadata": {},
   "outputs": [
    {
     "output_type": "execute_result",
     "data": {
      "text/plain": [
       "         hour  dayofyear  month  air_temp  visibility  wind_speed  \\\n",
       "0           0         24      1      7.60        10.0        0.00   \n",
       "1           0         36      2      8.90        10.0        0.00   \n",
       "2           0         39      2     10.00        10.0        3.44   \n",
       "3           0         41      2     -1.20        10.0        8.05   \n",
       "4           0         51      2      1.60        10.0        4.61   \n",
       "...       ...        ...    ...       ...         ...         ...   \n",
       "1277503    23        332     11      6.80        10.0       17.27   \n",
       "1277504    23        335     12      6.20        10.0        5.75   \n",
       "1277505    23        337     12      5.00        10.0        9.22   \n",
       "1277506    23        350     12      1.25        10.0        9.22   \n",
       "1277507    23        362     12     10.70        10.0        5.75   \n",
       "\n",
       "        weather_class station  count  \n",
       "0              cloudy   31270      1  \n",
       "1               clear   31283      1  \n",
       "2              cloudy   31241      1  \n",
       "3               clear   31408      1  \n",
       "4               clear   31503      1  \n",
       "...               ...     ...    ...  \n",
       "1277503         clear   31281      1  \n",
       "1277504        cloudy   31256      2  \n",
       "1277505         clear   31229      2  \n",
       "1277506        cloudy   31236      2  \n",
       "1277507         clear   31649      1  \n",
       "\n",
       "[1277508 rows x 9 columns]"
      ],
      "text/html": "<div>\n<style scoped>\n    .dataframe tbody tr th:only-of-type {\n        vertical-align: middle;\n    }\n\n    .dataframe tbody tr th {\n        vertical-align: top;\n    }\n\n    .dataframe thead th {\n        text-align: right;\n    }\n</style>\n<table border=\"1\" class=\"dataframe\">\n  <thead>\n    <tr style=\"text-align: right;\">\n      <th></th>\n      <th>hour</th>\n      <th>dayofyear</th>\n      <th>month</th>\n      <th>air_temp</th>\n      <th>visibility</th>\n      <th>wind_speed</th>\n      <th>weather_class</th>\n      <th>station</th>\n      <th>count</th>\n    </tr>\n  </thead>\n  <tbody>\n    <tr>\n      <th>0</th>\n      <td>0</td>\n      <td>24</td>\n      <td>1</td>\n      <td>7.60</td>\n      <td>10.0</td>\n      <td>0.00</td>\n      <td>cloudy</td>\n      <td>31270</td>\n      <td>1</td>\n    </tr>\n    <tr>\n      <th>1</th>\n      <td>0</td>\n      <td>36</td>\n      <td>2</td>\n      <td>8.90</td>\n      <td>10.0</td>\n      <td>0.00</td>\n      <td>clear</td>\n      <td>31283</td>\n      <td>1</td>\n    </tr>\n    <tr>\n      <th>2</th>\n      <td>0</td>\n      <td>39</td>\n      <td>2</td>\n      <td>10.00</td>\n      <td>10.0</td>\n      <td>3.44</td>\n      <td>cloudy</td>\n      <td>31241</td>\n      <td>1</td>\n    </tr>\n    <tr>\n      <th>3</th>\n      <td>0</td>\n      <td>41</td>\n      <td>2</td>\n      <td>-1.20</td>\n      <td>10.0</td>\n      <td>8.05</td>\n      <td>clear</td>\n      <td>31408</td>\n      <td>1</td>\n    </tr>\n    <tr>\n      <th>4</th>\n      <td>0</td>\n      <td>51</td>\n      <td>2</td>\n      <td>1.60</td>\n      <td>10.0</td>\n      <td>4.61</td>\n      <td>clear</td>\n      <td>31503</td>\n      <td>1</td>\n    </tr>\n    <tr>\n      <th>...</th>\n      <td>...</td>\n      <td>...</td>\n      <td>...</td>\n      <td>...</td>\n      <td>...</td>\n      <td>...</td>\n      <td>...</td>\n      <td>...</td>\n      <td>...</td>\n    </tr>\n    <tr>\n      <th>1277503</th>\n      <td>23</td>\n      <td>332</td>\n      <td>11</td>\n      <td>6.80</td>\n      <td>10.0</td>\n      <td>17.27</td>\n      <td>clear</td>\n      <td>31281</td>\n      <td>1</td>\n    </tr>\n    <tr>\n      <th>1277504</th>\n      <td>23</td>\n      <td>335</td>\n      <td>12</td>\n      <td>6.20</td>\n      <td>10.0</td>\n      <td>5.75</td>\n      <td>cloudy</td>\n      <td>31256</td>\n      <td>2</td>\n    </tr>\n    <tr>\n      <th>1277505</th>\n      <td>23</td>\n      <td>337</td>\n      <td>12</td>\n      <td>5.00</td>\n      <td>10.0</td>\n      <td>9.22</td>\n      <td>clear</td>\n      <td>31229</td>\n      <td>2</td>\n    </tr>\n    <tr>\n      <th>1277506</th>\n      <td>23</td>\n      <td>350</td>\n      <td>12</td>\n      <td>1.25</td>\n      <td>10.0</td>\n      <td>9.22</td>\n      <td>cloudy</td>\n      <td>31236</td>\n      <td>2</td>\n    </tr>\n    <tr>\n      <th>1277507</th>\n      <td>23</td>\n      <td>362</td>\n      <td>12</td>\n      <td>10.70</td>\n      <td>10.0</td>\n      <td>5.75</td>\n      <td>clear</td>\n      <td>31649</td>\n      <td>1</td>\n    </tr>\n  </tbody>\n</table>\n<p>1277508 rows × 9 columns</p>\n</div>"
     },
     "metadata": {},
     "execution_count": 17
    }
   ],
   "source": [
    "reduced"
   ]
  },
  {
   "cell_type": "code",
   "execution_count": 18,
   "metadata": {},
   "outputs": [],
   "source": [
    "result = pd.concat([reduced, base])"
   ]
  },
  {
   "cell_type": "code",
   "execution_count": 25,
   "metadata": {},
   "outputs": [
    {
     "output_type": "execute_result",
     "data": {
      "text/plain": [
       "hour             6341442\n",
       "dayofyear        6341442\n",
       "month            6341442\n",
       "air_temp         6341442\n",
       "visibility       6341187\n",
       "wind_speed       6341442\n",
       "weather_class    6341442\n",
       "station          6341442\n",
       "count            6341442\n",
       "dtype: int64"
      ]
     },
     "metadata": {},
     "execution_count": 25
    }
   ],
   "source": [
    "result.count()"
   ]
  },
  {
   "cell_type": "code",
   "execution_count": 26,
   "metadata": {},
   "outputs": [],
   "source": [
    "result = result.sort_values(by=['count'], ascending=False)"
   ]
  },
  {
   "cell_type": "code",
   "execution_count": null,
   "metadata": {},
   "outputs": [],
   "source": []
  },
  {
   "cell_type": "code",
   "execution_count": 27,
   "metadata": {},
   "outputs": [],
   "source": [
    "result = result.drop_duplicates(subset=[\"hour\", \"dayofyear\", \"month\", \"station\"], keep='first')"
   ]
  },
  {
   "cell_type": "code",
   "execution_count": 28,
   "metadata": {},
   "outputs": [
    {
     "output_type": "execute_result",
     "data": {
      "text/plain": [
       "         hour  dayofyear  month   air_temp  visibility  wind_speed  \\\n",
       "779268     23        274     10  26.650495        10.0    4.518713   \n",
       "312697      0        299     10  14.500000        10.0    3.440000   \n",
       "203825     23        288     10  14.587209        10.0    4.623256   \n",
       "1139733    13         97      4  12.582432        10.0    4.610000   \n",
       "433440     23        287     10  17.800000        10.0    0.000000   \n",
       "...       ...        ...    ...        ...         ...         ...   \n",
       "5060543    23        217      8  25.356522        10.0    7.950000   \n",
       "5060542    23        217      8  25.356522        10.0    7.950000   \n",
       "5060541    23        217      8  25.356522        10.0    7.950000   \n",
       "5060540    23        217      8  25.356522        10.0    7.950000   \n",
       "5063933    22        167      6  28.800000        10.0   11.559906   \n",
       "\n",
       "        weather_class station  count  \n",
       "779268          clear   31209    101  \n",
       "312697         cloudy   31209     87  \n",
       "203825          clear   31209     86  \n",
       "1139733        cloudy   31288     74  \n",
       "433440          clear   31209     70  \n",
       "...               ...     ...    ...  \n",
       "5060543         clear   31823      0  \n",
       "5060542         clear   32217      0  \n",
       "5060541         clear   31206      0  \n",
       "5060540         clear   32034      0  \n",
       "5063933         clear   31910      0  \n",
       "\n",
       "[5063934 rows x 9 columns]"
      ],
      "text/html": "<div>\n<style scoped>\n    .dataframe tbody tr th:only-of-type {\n        vertical-align: middle;\n    }\n\n    .dataframe tbody tr th {\n        vertical-align: top;\n    }\n\n    .dataframe thead th {\n        text-align: right;\n    }\n</style>\n<table border=\"1\" class=\"dataframe\">\n  <thead>\n    <tr style=\"text-align: right;\">\n      <th></th>\n      <th>hour</th>\n      <th>dayofyear</th>\n      <th>month</th>\n      <th>air_temp</th>\n      <th>visibility</th>\n      <th>wind_speed</th>\n      <th>weather_class</th>\n      <th>station</th>\n      <th>count</th>\n    </tr>\n  </thead>\n  <tbody>\n    <tr>\n      <th>779268</th>\n      <td>23</td>\n      <td>274</td>\n      <td>10</td>\n      <td>26.650495</td>\n      <td>10.0</td>\n      <td>4.518713</td>\n      <td>clear</td>\n      <td>31209</td>\n      <td>101</td>\n    </tr>\n    <tr>\n      <th>312697</th>\n      <td>0</td>\n      <td>299</td>\n      <td>10</td>\n      <td>14.500000</td>\n      <td>10.0</td>\n      <td>3.440000</td>\n      <td>cloudy</td>\n      <td>31209</td>\n      <td>87</td>\n    </tr>\n    <tr>\n      <th>203825</th>\n      <td>23</td>\n      <td>288</td>\n      <td>10</td>\n      <td>14.587209</td>\n      <td>10.0</td>\n      <td>4.623256</td>\n      <td>clear</td>\n      <td>31209</td>\n      <td>86</td>\n    </tr>\n    <tr>\n      <th>1139733</th>\n      <td>13</td>\n      <td>97</td>\n      <td>4</td>\n      <td>12.582432</td>\n      <td>10.0</td>\n      <td>4.610000</td>\n      <td>cloudy</td>\n      <td>31288</td>\n      <td>74</td>\n    </tr>\n    <tr>\n      <th>433440</th>\n      <td>23</td>\n      <td>287</td>\n      <td>10</td>\n      <td>17.800000</td>\n      <td>10.0</td>\n      <td>0.000000</td>\n      <td>clear</td>\n      <td>31209</td>\n      <td>70</td>\n    </tr>\n    <tr>\n      <th>...</th>\n      <td>...</td>\n      <td>...</td>\n      <td>...</td>\n      <td>...</td>\n      <td>...</td>\n      <td>...</td>\n      <td>...</td>\n      <td>...</td>\n      <td>...</td>\n    </tr>\n    <tr>\n      <th>5060543</th>\n      <td>23</td>\n      <td>217</td>\n      <td>8</td>\n      <td>25.356522</td>\n      <td>10.0</td>\n      <td>7.950000</td>\n      <td>clear</td>\n      <td>31823</td>\n      <td>0</td>\n    </tr>\n    <tr>\n      <th>5060542</th>\n      <td>23</td>\n      <td>217</td>\n      <td>8</td>\n      <td>25.356522</td>\n      <td>10.0</td>\n      <td>7.950000</td>\n      <td>clear</td>\n      <td>32217</td>\n      <td>0</td>\n    </tr>\n    <tr>\n      <th>5060541</th>\n      <td>23</td>\n      <td>217</td>\n      <td>8</td>\n      <td>25.356522</td>\n      <td>10.0</td>\n      <td>7.950000</td>\n      <td>clear</td>\n      <td>31206</td>\n      <td>0</td>\n    </tr>\n    <tr>\n      <th>5060540</th>\n      <td>23</td>\n      <td>217</td>\n      <td>8</td>\n      <td>25.356522</td>\n      <td>10.0</td>\n      <td>7.950000</td>\n      <td>clear</td>\n      <td>32034</td>\n      <td>0</td>\n    </tr>\n    <tr>\n      <th>5063933</th>\n      <td>22</td>\n      <td>167</td>\n      <td>6</td>\n      <td>28.800000</td>\n      <td>10.0</td>\n      <td>11.559906</td>\n      <td>clear</td>\n      <td>31910</td>\n      <td>0</td>\n    </tr>\n  </tbody>\n</table>\n<p>5063934 rows × 9 columns</p>\n</div>"
     },
     "metadata": {},
     "execution_count": 28
    }
   ],
   "source": [
    "result.sort_values(by=['count'], ascending=False)"
   ]
  },
  {
   "cell_type": "code",
   "execution_count": 29,
   "metadata": {},
   "outputs": [
    {
     "output_type": "execute_result",
     "data": {
      "text/plain": [
       "         hour  dayofyear  month   air_temp  visibility  wind_speed  \\\n",
       "779268     23        274     10  26.650495        10.0    4.518713   \n",
       "312697      0        299     10  14.500000        10.0    3.440000   \n",
       "203825     23        288     10  14.587209        10.0    4.623256   \n",
       "1139733    13         97      4  12.582432        10.0    4.610000   \n",
       "433440     23        287     10  17.800000        10.0    0.000000   \n",
       "...       ...        ...    ...        ...         ...         ...   \n",
       "1687975    15        260      9  23.990290        10.0   10.439625   \n",
       "1687974    15        260      9  23.990290        10.0   10.439625   \n",
       "1687973    15        260      9  23.990290        10.0   10.439625   \n",
       "1687971    15        260      9  23.990290        10.0   10.439625   \n",
       "5063933    22        167      6  28.800000        10.0   11.559906   \n",
       "\n",
       "        weather_class station  count  \n",
       "779268          clear   31209    101  \n",
       "312697         cloudy   31209     87  \n",
       "203825          clear   31209     86  \n",
       "1139733        cloudy   31288     74  \n",
       "433440          clear   31209     70  \n",
       "...               ...     ...    ...  \n",
       "1687975         clear   31092      0  \n",
       "1687974         clear   32422      0  \n",
       "1687973         clear   31004      0  \n",
       "1687971         clear   32211      0  \n",
       "5063933         clear   31910      0  \n",
       "\n",
       "[5063934 rows x 9 columns]"
      ],
      "text/html": "<div>\n<style scoped>\n    .dataframe tbody tr th:only-of-type {\n        vertical-align: middle;\n    }\n\n    .dataframe tbody tr th {\n        vertical-align: top;\n    }\n\n    .dataframe thead th {\n        text-align: right;\n    }\n</style>\n<table border=\"1\" class=\"dataframe\">\n  <thead>\n    <tr style=\"text-align: right;\">\n      <th></th>\n      <th>hour</th>\n      <th>dayofyear</th>\n      <th>month</th>\n      <th>air_temp</th>\n      <th>visibility</th>\n      <th>wind_speed</th>\n      <th>weather_class</th>\n      <th>station</th>\n      <th>count</th>\n    </tr>\n  </thead>\n  <tbody>\n    <tr>\n      <th>779268</th>\n      <td>23</td>\n      <td>274</td>\n      <td>10</td>\n      <td>26.650495</td>\n      <td>10.0</td>\n      <td>4.518713</td>\n      <td>clear</td>\n      <td>31209</td>\n      <td>101</td>\n    </tr>\n    <tr>\n      <th>312697</th>\n      <td>0</td>\n      <td>299</td>\n      <td>10</td>\n      <td>14.500000</td>\n      <td>10.0</td>\n      <td>3.440000</td>\n      <td>cloudy</td>\n      <td>31209</td>\n      <td>87</td>\n    </tr>\n    <tr>\n      <th>203825</th>\n      <td>23</td>\n      <td>288</td>\n      <td>10</td>\n      <td>14.587209</td>\n      <td>10.0</td>\n      <td>4.623256</td>\n      <td>clear</td>\n      <td>31209</td>\n      <td>86</td>\n    </tr>\n    <tr>\n      <th>1139733</th>\n      <td>13</td>\n      <td>97</td>\n      <td>4</td>\n      <td>12.582432</td>\n      <td>10.0</td>\n      <td>4.610000</td>\n      <td>cloudy</td>\n      <td>31288</td>\n      <td>74</td>\n    </tr>\n    <tr>\n      <th>433440</th>\n      <td>23</td>\n      <td>287</td>\n      <td>10</td>\n      <td>17.800000</td>\n      <td>10.0</td>\n      <td>0.000000</td>\n      <td>clear</td>\n      <td>31209</td>\n      <td>70</td>\n    </tr>\n    <tr>\n      <th>...</th>\n      <td>...</td>\n      <td>...</td>\n      <td>...</td>\n      <td>...</td>\n      <td>...</td>\n      <td>...</td>\n      <td>...</td>\n      <td>...</td>\n      <td>...</td>\n    </tr>\n    <tr>\n      <th>1687975</th>\n      <td>15</td>\n      <td>260</td>\n      <td>9</td>\n      <td>23.990290</td>\n      <td>10.0</td>\n      <td>10.439625</td>\n      <td>clear</td>\n      <td>31092</td>\n      <td>0</td>\n    </tr>\n    <tr>\n      <th>1687974</th>\n      <td>15</td>\n      <td>260</td>\n      <td>9</td>\n      <td>23.990290</td>\n      <td>10.0</td>\n      <td>10.439625</td>\n      <td>clear</td>\n      <td>32422</td>\n      <td>0</td>\n    </tr>\n    <tr>\n      <th>1687973</th>\n      <td>15</td>\n      <td>260</td>\n      <td>9</td>\n      <td>23.990290</td>\n      <td>10.0</td>\n      <td>10.439625</td>\n      <td>clear</td>\n      <td>31004</td>\n      <td>0</td>\n    </tr>\n    <tr>\n      <th>1687971</th>\n      <td>15</td>\n      <td>260</td>\n      <td>9</td>\n      <td>23.990290</td>\n      <td>10.0</td>\n      <td>10.439625</td>\n      <td>clear</td>\n      <td>32211</td>\n      <td>0</td>\n    </tr>\n    <tr>\n      <th>5063933</th>\n      <td>22</td>\n      <td>167</td>\n      <td>6</td>\n      <td>28.800000</td>\n      <td>10.0</td>\n      <td>11.559906</td>\n      <td>clear</td>\n      <td>31910</td>\n      <td>0</td>\n    </tr>\n  </tbody>\n</table>\n<p>5063934 rows × 9 columns</p>\n</div>"
     },
     "metadata": {},
     "execution_count": 29
    }
   ],
   "source": [
    "result"
   ]
  },
  {
   "cell_type": "code",
   "execution_count": 30,
   "metadata": {},
   "outputs": [],
   "source": [
    "import pyspark\n",
    "from pyspark.sql import SparkSession\n",
    "from pyspark.sql import functions as F\n",
    "from pyspark.sql.types import *"
   ]
  },
  {
   "cell_type": "code",
   "execution_count": 31,
   "metadata": {},
   "outputs": [],
   "source": [
    "#Starting session\n",
    "spark = SparkSession.builder.appName('BigData1').getOrCreate()\n",
    "spark.sparkContext.setLogLevel(\"ERROR\")"
   ]
  },
  {
   "cell_type": "code",
   "execution_count": 32,
   "metadata": {},
   "outputs": [],
   "source": [
    "spark.conf.set(\"spark.sql.execution.arrow.enabled\", \"true\")"
   ]
  },
  {
   "cell_type": "code",
   "execution_count": 33,
   "metadata": {},
   "outputs": [],
   "source": [
    "df = spark.createDataFrame(result)"
   ]
  },
  {
   "cell_type": "code",
   "execution_count": null,
   "metadata": {},
   "outputs": [],
   "source": []
  }
 ]
}