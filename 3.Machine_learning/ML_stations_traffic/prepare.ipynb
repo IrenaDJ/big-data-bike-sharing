{
 "metadata": {
  "language_info": {
   "codemirror_mode": {
    "name": "ipython",
    "version": 3
   },
   "file_extension": ".py",
   "mimetype": "text/x-python",
   "name": "python",
   "nbconvert_exporter": "python",
   "pygments_lexer": "ipython3",
   "version": "3.7.9-final"
  },
  "orig_nbformat": 2,
  "kernelspec": {
   "name": "Python 3.7.9 64-bit ('bigdata': conda)",
   "display_name": "Python 3.7.9 64-bit ('bigdata': conda)",
   "metadata": {
    "interpreter": {
     "hash": "40e50a53370bcdeb27a80424468b60995c94b295e609bd60d133ab3a198646dd"
    }
   }
  }
 },
 "nbformat": 4,
 "nbformat_minor": 2,
 "cells": [
  {
   "cell_type": "code",
   "execution_count": 1,
   "metadata": {},
   "outputs": [],
   "source": [
    "import pyspark\n",
    "from pyspark.sql import SparkSession\n",
    "from pyspark.sql import functions as F\n",
    "from pyspark.sql.types import *"
   ]
  },
  {
   "cell_type": "code",
   "execution_count": 2,
   "metadata": {},
   "outputs": [],
   "source": [
    "#Starting session\n",
    "config = pyspark.SparkConf().setAll([('spark.executor.memory', '8g')])\n",
    "spark = SparkSession.builder.appName('BigData1').getOrCreate()\n",
    "spark.sparkContext.setLogLevel(\"ERROR\")"
   ]
  },
  {
   "cell_type": "code",
   "execution_count": 3,
   "metadata": {},
   "outputs": [],
   "source": [
    "spark.conf.set(\"spark.sql.repl.eagerEval.enabled\", True)"
   ]
  },
  {
   "cell_type": "code",
   "execution_count": 7,
   "metadata": {},
   "outputs": [],
   "source": [
    "joined = spark.read.parquet(\"G:\\\\Master\\\\Big Data\\\\Data\\\\D.C\\\\New\\\\joined_extended.parquet\")"
   ]
  },
  {
   "cell_type": "code",
   "execution_count": 5,
   "metadata": {},
   "outputs": [
    {
     "output_type": "execute_result",
     "data": {
      "text/plain": [
       "+-------------------+--------+-------------------+-------------------+----------------+--------------------+--------------+--------------------+-----------+-----------+-----------------+------------------+-----------------+------------------+------------+-------------------+--------+----------+---------------+-----------------+----------+-------------+\n",
       "|               time|duration|         start_date|           end_date|start_station_id|  start_station_name|end_station_id|    end_station_name|bike_number|member_type|        lat_start|        long_start|          lat_end|          long_end|abs_distance|          date_time|air_temp|wind_speed|weather_summary|weather_condition|visibility|weather_class|\n",
       "+-------------------+--------+-------------------+-------------------+----------------+--------------------+--------------+--------------------+-----------+-----------+-----------------+------------------+-----------------+------------------+------------+-------------------+--------+----------+---------------+-----------------+----------+-------------+\n",
       "|2019-10-31 09:51:09|     251|2019-10-31 09:51:09|2019-10-31 09:55:20|           31641|2nd St & Massachu...|         31655|New Jersey Ave & ...|     W21832|     Member|        38.894972|        -77.003135|        38.897108|        -77.011616|         771|2019-10-31 09:19:00|    19.0|      13.8|       overcast|             null|      10.0|       cloudy|\n",
       "|2019-10-31 09:51:30|     213|2019-10-31 09:51:30|2019-10-31 09:55:04|           31612|D St & Maryland A...|         31623|Columbus Circle /...|     W23251|     Member|        38.894758|        -76.997114|         38.89696|         -77.00493|         719|2019-10-31 09:19:00|    19.0|      13.8|       overcast|             null|      10.0|       cloudy|\n",
       "|2019-10-31 09:51:30|     186|2019-10-31 09:51:30|2019-10-31 09:54:37|           31610|Eastern Market / ...|         31605|       3rd & D St SE|     W01026|     Member|        38.886952|        -76.996806|          38.8851|          -77.0023|         518|2019-10-31 09:19:00|    19.0|      13.8|       overcast|             null|      10.0|       cloudy|\n",
       "|2019-10-31 09:51:39|     296|2019-10-31 09:51:39|2019-10-31 09:56:36|           31255|      24th & N St NW|         31293|  31st & Water St NW|     W23751|     Member|          38.9066|         -77.05152|        38.902814|        -77.061043|         925|2019-10-31 09:19:00|    19.0|      13.8|       overcast|             null|      10.0|       cloudy|\n",
       "|2019-10-31 09:51:45|     121|2019-10-31 09:51:45|2019-10-31 09:53:47|           31263|      10th & K St NW|         31227|13th St & New Yor...|     W23787|     Member|          38.9024|         -77.02622|        38.900283|        -77.029822|         391|2019-10-31 09:19:00|    19.0|      13.8|       overcast|             null|      10.0|       cloudy|\n",
       "|2019-10-31 09:52:00|    1119|2019-10-31 09:52:00|2019-10-31 10:10:39|           31529| Edgewood Rec Center|         31244|       4th & E St SW|     W22220|     Member|        38.924144|        -77.002098|         38.88412|        -77.017445|        4644|2019-10-31 09:19:00|    19.0|      13.8|       overcast|             null|      10.0|       cloudy|\n",
       "|2019-10-31 09:52:00|     802|2019-10-31 09:52:00|2019-10-31 10:05:23|           31124| 14th & Irving St NW|         31221|      18th & M St NW|     W00563|     Member|        38.928552|        -77.032224|38.90506687455313|-77.04177886247635|        2739|2019-10-31 09:19:00|    19.0|      13.8|       overcast|             null|      10.0|       cloudy|\n",
       "|2019-10-31 09:52:00|     465|2019-10-31 09:52:00|2019-10-31 09:59:46|           31285|      22nd & P ST NW|         31257|22nd & I St NW / ...|     W20321|     Member|        38.909394|        -77.048728|         38.90088|        -77.048911|         947|2019-10-31 09:19:00|    19.0|      13.8|       overcast|             null|      10.0|       cloudy|\n",
       "|2019-10-31 09:52:01|     303|2019-10-31 09:52:01|2019-10-31 09:57:04|           31127|      22nd & H St NW|         31293|  31st & Water St NW|     W22289|     Member|38.89892546716842|-77.04885238395946|        38.902814|        -77.061043|        1140|2019-10-31 09:19:00|    19.0|      13.8|       overcast|             null|      10.0|       cloudy|\n",
       "|2019-10-31 09:52:10|     621|2019-10-31 09:52:10|2019-10-31 10:02:31|           31636|New Jersey Ave & ...|         31232|7th & F St NW / N...|     W20672|     Member|38.90733256111448|-77.01536044478416|38.89728304853854|-77.02219069004059|        1264|2019-10-31 09:19:00|    19.0|      13.8|       overcast|             null|      10.0|       cloudy|\n",
       "|2019-10-31 09:52:14|    1116|2019-10-31 09:52:14|2019-10-31 10:10:50|           31105|14th & Harvard St NW|         31215|Georgetown Harbor...|     W20769|     Member|          38.9268|          -77.0322|       38.9022212|        -77.059219|        3596|2019-10-31 09:19:00|    19.0|      13.8|       overcast|             null|      10.0|       cloudy|\n",
       "|2019-10-31 09:52:22|     953|2019-10-31 09:52:22|2019-10-31 10:08:16|           31642|    4th St & K St NW|         31634|  3rd & Tingey St SE|     W00751|     Member|38.90240556584194|-77.01600551605225|         38.87501|          -77.0024|        3266|2019-10-31 09:19:00|    19.0|      13.8|       overcast|             null|      10.0|       cloudy|\n",
       "|2019-10-31 09:52:31|     366|2019-10-31 09:52:31|2019-10-31 09:58:38|           31257|22nd & I St NW / ...|         31204|      20th & E St NW|     W24354|     Member|         38.90088|        -77.048911|          38.8963|           -77.045|         611|2019-10-31 09:19:00|    19.0|      13.8|       overcast|             null|      10.0|       cloudy|\n",
       "|2019-10-31 09:52:34|     188|2019-10-31 09:52:34|2019-10-31 09:55:43|           31216|14th St & New Yor...|         31263|      10th & K St NW|     W24148|     Member|        38.899632|        -77.031686|          38.9024|         -77.02622|         564|2019-10-31 09:19:00|    19.0|      13.8|       overcast|             null|      10.0|       cloudy|\n",
       "|2019-10-31 09:52:37|     288|2019-10-31 09:52:37|2019-10-31 09:57:26|           31229|New Hampshire Ave...|         31267|17th St & Massach...|     W20812|     Member|         38.91554|         -77.03818|        38.908142|        -77.038359|         823|2019-10-31 09:19:00|    19.0|      13.8|       overcast|             null|      10.0|       cloudy|\n",
       "|2019-10-31 09:52:42|     326|2019-10-31 09:52:42|2019-10-31 09:58:09|           31124| 14th & Irving St NW|         31296|Columbia & Ontari...|     W23050|     Member|        38.928552|        -77.032224|        38.924088|        -77.040787|         892|2019-10-31 09:19:00|    19.0|      13.8|       overcast|             null|      10.0|       cloudy|\n",
       "|2019-10-31 09:52:47|     252|2019-10-31 09:52:47|2019-10-31 09:57:00|           31639|       2nd & G St NE|         31655|New Jersey Ave & ...|     W00474|     Member|         38.89967|        -77.003666|        38.897108|        -77.011616|         745|2019-10-31 09:19:00|    19.0|      13.8|       overcast|             null|      10.0|       cloudy|\n",
       "|2019-10-31 09:53:07|     203|2019-10-31 09:53:07|2019-10-31 09:56:31|           31219|10th St & Constit...|         31274|      10th & G St NW|     W23895|     Member|        38.893028|        -77.026013|38.89824328774852|-77.02623546123505|         580|2019-10-31 09:19:00|    19.0|      13.8|       overcast|             null|      10.0|       cloudy|\n",
       "|2019-10-31 09:53:11|      87|2019-10-31 09:53:11|2019-10-31 09:54:38|           31077|Iwo Jima Memorial...|         31917|N Lynn St & Fairf...|     W23728|     Member|         38.88992|        -77.071301|         38.89386|        -77.070862|         440|2019-10-31 09:19:00|    19.0|      13.8|       overcast|             null|      10.0|       cloudy|\n",
       "|2019-10-31 09:53:15|     263|2019-10-31 09:53:15|2019-10-31 09:57:39|           31612|D St & Maryland A...|         31629|8th & East Capito...|     W23901|     Member|        38.894758|        -76.997114|        38.889988|        -76.995193|         556|2019-10-31 09:19:00|    19.0|      13.8|       overcast|             null|      10.0|       cloudy|\n",
       "+-------------------+--------+-------------------+-------------------+----------------+--------------------+--------------+--------------------+-----------+-----------+-----------------+------------------+-----------------+------------------+------------+-------------------+--------+----------+---------------+-----------------+----------+-------------+\n",
       "only showing top 20 rows"
      ],
      "text/html": "<table border='1'>\n<tr><th>time</th><th>duration</th><th>start_date</th><th>end_date</th><th>start_station_id</th><th>start_station_name</th><th>end_station_id</th><th>end_station_name</th><th>bike_number</th><th>member_type</th><th>lat_start</th><th>long_start</th><th>lat_end</th><th>long_end</th><th>abs_distance</th><th>date_time</th><th>air_temp</th><th>wind_speed</th><th>weather_summary</th><th>weather_condition</th><th>visibility</th><th>weather_class</th></tr>\n<tr><td>2019-10-31 09:51:09</td><td>251</td><td>2019-10-31 09:51:09</td><td>2019-10-31 09:55:20</td><td>31641</td><td>2nd St &amp; Massachu...</td><td>31655</td><td>New Jersey Ave &amp; ...</td><td>W21832</td><td>Member</td><td>38.894972</td><td>-77.003135</td><td>38.897108</td><td>-77.011616</td><td>771</td><td>2019-10-31 09:19:00</td><td>19.0</td><td>13.8</td><td>overcast</td><td>null</td><td>10.0</td><td>cloudy</td></tr>\n<tr><td>2019-10-31 09:51:30</td><td>213</td><td>2019-10-31 09:51:30</td><td>2019-10-31 09:55:04</td><td>31612</td><td>D St &amp; Maryland A...</td><td>31623</td><td>Columbus Circle /...</td><td>W23251</td><td>Member</td><td>38.894758</td><td>-76.997114</td><td>38.89696</td><td>-77.00493</td><td>719</td><td>2019-10-31 09:19:00</td><td>19.0</td><td>13.8</td><td>overcast</td><td>null</td><td>10.0</td><td>cloudy</td></tr>\n<tr><td>2019-10-31 09:51:30</td><td>186</td><td>2019-10-31 09:51:30</td><td>2019-10-31 09:54:37</td><td>31610</td><td>Eastern Market / ...</td><td>31605</td><td>3rd &amp; D St SE</td><td>W01026</td><td>Member</td><td>38.886952</td><td>-76.996806</td><td>38.8851</td><td>-77.0023</td><td>518</td><td>2019-10-31 09:19:00</td><td>19.0</td><td>13.8</td><td>overcast</td><td>null</td><td>10.0</td><td>cloudy</td></tr>\n<tr><td>2019-10-31 09:51:39</td><td>296</td><td>2019-10-31 09:51:39</td><td>2019-10-31 09:56:36</td><td>31255</td><td>24th &amp; N St NW</td><td>31293</td><td>31st &amp; Water St NW</td><td>W23751</td><td>Member</td><td>38.9066</td><td>-77.05152</td><td>38.902814</td><td>-77.061043</td><td>925</td><td>2019-10-31 09:19:00</td><td>19.0</td><td>13.8</td><td>overcast</td><td>null</td><td>10.0</td><td>cloudy</td></tr>\n<tr><td>2019-10-31 09:51:45</td><td>121</td><td>2019-10-31 09:51:45</td><td>2019-10-31 09:53:47</td><td>31263</td><td>10th &amp; K St NW</td><td>31227</td><td>13th St &amp; New Yor...</td><td>W23787</td><td>Member</td><td>38.9024</td><td>-77.02622</td><td>38.900283</td><td>-77.029822</td><td>391</td><td>2019-10-31 09:19:00</td><td>19.0</td><td>13.8</td><td>overcast</td><td>null</td><td>10.0</td><td>cloudy</td></tr>\n<tr><td>2019-10-31 09:52:00</td><td>1119</td><td>2019-10-31 09:52:00</td><td>2019-10-31 10:10:39</td><td>31529</td><td>Edgewood Rec Center</td><td>31244</td><td>4th &amp; E St SW</td><td>W22220</td><td>Member</td><td>38.924144</td><td>-77.002098</td><td>38.88412</td><td>-77.017445</td><td>4644</td><td>2019-10-31 09:19:00</td><td>19.0</td><td>13.8</td><td>overcast</td><td>null</td><td>10.0</td><td>cloudy</td></tr>\n<tr><td>2019-10-31 09:52:00</td><td>802</td><td>2019-10-31 09:52:00</td><td>2019-10-31 10:05:23</td><td>31124</td><td>14th &amp; Irving St NW</td><td>31221</td><td>18th &amp; M St NW</td><td>W00563</td><td>Member</td><td>38.928552</td><td>-77.032224</td><td>38.90506687455313</td><td>-77.04177886247635</td><td>2739</td><td>2019-10-31 09:19:00</td><td>19.0</td><td>13.8</td><td>overcast</td><td>null</td><td>10.0</td><td>cloudy</td></tr>\n<tr><td>2019-10-31 09:52:00</td><td>465</td><td>2019-10-31 09:52:00</td><td>2019-10-31 09:59:46</td><td>31285</td><td>22nd &amp; P ST NW</td><td>31257</td><td>22nd &amp; I St NW / ...</td><td>W20321</td><td>Member</td><td>38.909394</td><td>-77.048728</td><td>38.90088</td><td>-77.048911</td><td>947</td><td>2019-10-31 09:19:00</td><td>19.0</td><td>13.8</td><td>overcast</td><td>null</td><td>10.0</td><td>cloudy</td></tr>\n<tr><td>2019-10-31 09:52:01</td><td>303</td><td>2019-10-31 09:52:01</td><td>2019-10-31 09:57:04</td><td>31127</td><td>22nd &amp; H St NW</td><td>31293</td><td>31st &amp; Water St NW</td><td>W22289</td><td>Member</td><td>38.89892546716842</td><td>-77.04885238395946</td><td>38.902814</td><td>-77.061043</td><td>1140</td><td>2019-10-31 09:19:00</td><td>19.0</td><td>13.8</td><td>overcast</td><td>null</td><td>10.0</td><td>cloudy</td></tr>\n<tr><td>2019-10-31 09:52:10</td><td>621</td><td>2019-10-31 09:52:10</td><td>2019-10-31 10:02:31</td><td>31636</td><td>New Jersey Ave &amp; ...</td><td>31232</td><td>7th &amp; F St NW / N...</td><td>W20672</td><td>Member</td><td>38.90733256111448</td><td>-77.01536044478416</td><td>38.89728304853854</td><td>-77.02219069004059</td><td>1264</td><td>2019-10-31 09:19:00</td><td>19.0</td><td>13.8</td><td>overcast</td><td>null</td><td>10.0</td><td>cloudy</td></tr>\n<tr><td>2019-10-31 09:52:14</td><td>1116</td><td>2019-10-31 09:52:14</td><td>2019-10-31 10:10:50</td><td>31105</td><td>14th &amp; Harvard St NW</td><td>31215</td><td>Georgetown Harbor...</td><td>W20769</td><td>Member</td><td>38.9268</td><td>-77.0322</td><td>38.9022212</td><td>-77.059219</td><td>3596</td><td>2019-10-31 09:19:00</td><td>19.0</td><td>13.8</td><td>overcast</td><td>null</td><td>10.0</td><td>cloudy</td></tr>\n<tr><td>2019-10-31 09:52:22</td><td>953</td><td>2019-10-31 09:52:22</td><td>2019-10-31 10:08:16</td><td>31642</td><td>4th St &amp; K St NW</td><td>31634</td><td>3rd &amp; Tingey St SE</td><td>W00751</td><td>Member</td><td>38.90240556584194</td><td>-77.01600551605225</td><td>38.87501</td><td>-77.0024</td><td>3266</td><td>2019-10-31 09:19:00</td><td>19.0</td><td>13.8</td><td>overcast</td><td>null</td><td>10.0</td><td>cloudy</td></tr>\n<tr><td>2019-10-31 09:52:31</td><td>366</td><td>2019-10-31 09:52:31</td><td>2019-10-31 09:58:38</td><td>31257</td><td>22nd &amp; I St NW / ...</td><td>31204</td><td>20th &amp; E St NW</td><td>W24354</td><td>Member</td><td>38.90088</td><td>-77.048911</td><td>38.8963</td><td>-77.045</td><td>611</td><td>2019-10-31 09:19:00</td><td>19.0</td><td>13.8</td><td>overcast</td><td>null</td><td>10.0</td><td>cloudy</td></tr>\n<tr><td>2019-10-31 09:52:34</td><td>188</td><td>2019-10-31 09:52:34</td><td>2019-10-31 09:55:43</td><td>31216</td><td>14th St &amp; New Yor...</td><td>31263</td><td>10th &amp; K St NW</td><td>W24148</td><td>Member</td><td>38.899632</td><td>-77.031686</td><td>38.9024</td><td>-77.02622</td><td>564</td><td>2019-10-31 09:19:00</td><td>19.0</td><td>13.8</td><td>overcast</td><td>null</td><td>10.0</td><td>cloudy</td></tr>\n<tr><td>2019-10-31 09:52:37</td><td>288</td><td>2019-10-31 09:52:37</td><td>2019-10-31 09:57:26</td><td>31229</td><td>New Hampshire Ave...</td><td>31267</td><td>17th St &amp; Massach...</td><td>W20812</td><td>Member</td><td>38.91554</td><td>-77.03818</td><td>38.908142</td><td>-77.038359</td><td>823</td><td>2019-10-31 09:19:00</td><td>19.0</td><td>13.8</td><td>overcast</td><td>null</td><td>10.0</td><td>cloudy</td></tr>\n<tr><td>2019-10-31 09:52:42</td><td>326</td><td>2019-10-31 09:52:42</td><td>2019-10-31 09:58:09</td><td>31124</td><td>14th &amp; Irving St NW</td><td>31296</td><td>Columbia &amp; Ontari...</td><td>W23050</td><td>Member</td><td>38.928552</td><td>-77.032224</td><td>38.924088</td><td>-77.040787</td><td>892</td><td>2019-10-31 09:19:00</td><td>19.0</td><td>13.8</td><td>overcast</td><td>null</td><td>10.0</td><td>cloudy</td></tr>\n<tr><td>2019-10-31 09:52:47</td><td>252</td><td>2019-10-31 09:52:47</td><td>2019-10-31 09:57:00</td><td>31639</td><td>2nd &amp; G St NE</td><td>31655</td><td>New Jersey Ave &amp; ...</td><td>W00474</td><td>Member</td><td>38.89967</td><td>-77.003666</td><td>38.897108</td><td>-77.011616</td><td>745</td><td>2019-10-31 09:19:00</td><td>19.0</td><td>13.8</td><td>overcast</td><td>null</td><td>10.0</td><td>cloudy</td></tr>\n<tr><td>2019-10-31 09:53:07</td><td>203</td><td>2019-10-31 09:53:07</td><td>2019-10-31 09:56:31</td><td>31219</td><td>10th St &amp; Constit...</td><td>31274</td><td>10th &amp; G St NW</td><td>W23895</td><td>Member</td><td>38.893028</td><td>-77.026013</td><td>38.89824328774852</td><td>-77.02623546123505</td><td>580</td><td>2019-10-31 09:19:00</td><td>19.0</td><td>13.8</td><td>overcast</td><td>null</td><td>10.0</td><td>cloudy</td></tr>\n<tr><td>2019-10-31 09:53:11</td><td>87</td><td>2019-10-31 09:53:11</td><td>2019-10-31 09:54:38</td><td>31077</td><td>Iwo Jima Memorial...</td><td>31917</td><td>N Lynn St &amp; Fairf...</td><td>W23728</td><td>Member</td><td>38.88992</td><td>-77.071301</td><td>38.89386</td><td>-77.070862</td><td>440</td><td>2019-10-31 09:19:00</td><td>19.0</td><td>13.8</td><td>overcast</td><td>null</td><td>10.0</td><td>cloudy</td></tr>\n<tr><td>2019-10-31 09:53:15</td><td>263</td><td>2019-10-31 09:53:15</td><td>2019-10-31 09:57:39</td><td>31612</td><td>D St &amp; Maryland A...</td><td>31629</td><td>8th &amp; East Capito...</td><td>W23901</td><td>Member</td><td>38.894758</td><td>-76.997114</td><td>38.889988</td><td>-76.995193</td><td>556</td><td>2019-10-31 09:19:00</td><td>19.0</td><td>13.8</td><td>overcast</td><td>null</td><td>10.0</td><td>cloudy</td></tr>\n</table>\nonly showing top 20 rows\n"
     },
     "metadata": {},
     "execution_count": 5
    }
   ],
   "source": [
    "joined"
   ]
  },
  {
   "cell_type": "code",
   "execution_count": 8,
   "metadata": {},
   "outputs": [],
   "source": [
    "from pyspark.sql.functions import dayofyear, month, hour, sum, avg, count\n",
    "\n",
    "joined = joined.withColumn('dayofyear', dayofyear(joined[\"time\"]))\n",
    "joined = joined.withColumn('hour', hour(joined[\"time\"]))\n",
    "joined = joined.withColumn('month', month(joined[\"time\"]))"
   ]
  },
  {
   "cell_type": "code",
   "execution_count": 9,
   "metadata": {},
   "outputs": [],
   "source": [
    "@F.udf\n",
    "def mode(x):\n",
    "    from collections import Counter\n",
    "    return Counter(x).most_common(1)[0][0]"
   ]
  },
  {
   "cell_type": "code",
   "execution_count": 8,
   "metadata": {},
   "outputs": [],
   "source": [
    "from pyspark.sql.functions import col, collect_list\n",
    "from pyspark.sql.functions import dayofyear, month, sum, avg, count\n",
    "\n",
    "generated = joined.groupBy(col('hour'), col('dayofyear'), col('month'), col('start_station_id')).agg(sum(\"duration\").alias(\"total_duration\"), count('time').alias('count'), avg('air_temp').alias('air_temp'), avg('visibility').alias('visibility'), avg('wind_speed').alias('wind_speed'), avg('abs_distance').alias('abs_distance'), mode(collect_list('weather_class')).alias('weather_class'), avg('lat_start').alias('lat'), avg('long_start').alias('long'))"
   ]
  },
  {
   "cell_type": "code",
   "execution_count": 9,
   "metadata": {},
   "outputs": [
    {
     "output_type": "execute_result",
     "data": {
      "text/plain": [
       "+----+---------+-----+----------------+--------------+-----+-------------------+----------+----------+------------+-------------+---------+----------+\n",
       "|hour|dayofyear|month|start_station_id|total_duration|count|           air_temp|visibility|wind_speed|abs_distance|weather_class|      lat|      long|\n",
       "+----+---------+-----+----------------+--------------+-----+-------------------+----------+----------+------------+-------------+---------+----------+\n",
       "|   0|       24|    1|           31270|           409|    1| 7.6000000000000005|      10.0|       0.0|      1058.0|       cloudy|38.894851| -77.02324|\n",
       "|   0|       36|    2|           31283|          1033|    1|  8.900000000000002|      10.0|       0.0|      2403.0|        clear|38.903658|-77.031737|\n",
       "|   0|       39|    2|           31241|           426|    1|               10.0|      10.0|      3.44|      1391.0|       cloudy|  38.9059|  -77.0325|\n",
       "|   0|       41|    2|           31408|           597|    1|-1.2000000000000002|      10.0|      8.05|      1574.0|        clear|38.975219|-77.016855|\n",
       "|   0|       51|    2|           31503|           867|    1| 1.6000000000000014|      10.0|      4.61|      1868.0|        clear|  38.9126|  -77.0135|\n",
       "|   0|       61|    3|           31201|           367|    1| 0.9999999999999984|      10.0|      9.22|       921.0|   light rain| 38.90985|-77.034438|\n",
       "|   0|       68|    3|           31261|          4932|    2|0.29999999999999954|       3.0|       0.0|      3069.0|        snowy|38.892459|-77.046567|\n",
       "|   0|       73|    3|           31251|           667|    1|-2.5999999999999996|      10.0|       0.0|         0.0|        clear|38.903819|  -77.0284|\n",
       "|   0|       75|    3|           31299|          1505|    2|               20.4|      10.0|     18.41|      2000.0|        clear|38.912644| -77.04564|\n",
       "|   0|       90|    3|           31121|           234|    1| 20.700000000000003|      10.0|      11.5|       650.0|       cloudy|38.923583|-77.050046|\n",
       "|   0|       93|    4|           31108|          1652|    1|  5.999999999999998|      10.0|      8.05|      4737.0|        clear|  38.8767|  -77.0178|\n",
       "|   0|       94|    4|           31309|           206|    1|               17.1|      10.0|      6.91|       887.0|        clear|38.954812|-77.082426|\n",
       "|   0|       99|    4|           31101|          1103|    2| 17.800000000000004|      10.0|      6.91|      1846.5|        clear|38.917931|-77.032112|\n",
       "|   0|      101|    4|           31298|          1522|    1| 14.000000000000002|       9.0|       0.0|      2583.0|        clear|38.905424|-77.034674|\n",
       "|   0|      118|    4|           31102|           461|    1|               18.7|      10.0|     12.66|      1789.0|       cloudy|38.929464|-77.027822|\n",
       "|   0|      120|    4|           31228|           633|    1|               12.0|      10.0|     10.36|      1673.0|       cloudy|  38.8997|-77.023086|\n",
       "|   0|      120|    4|           31655|           754|    1|               12.0|      10.0|      11.5|      1088.0|       cloudy|38.897108|-77.011616|\n",
       "|   0|      124|    5|           31288|          3727|    1|               19.6|      10.0|      6.91|       999.0|        clear|38.890493|-77.017253|\n",
       "|   0|      127|    5|           31228|           411|    1| 19.499999999999996|      10.0|      5.75|       649.0|        clear|  38.8997|-77.023086|\n",
       "|   0|      130|    5|           31647|          1461|    2| 21.100000000000005|      10.0|     12.66|      1439.5|        clear| 38.89222| -76.99602|\n",
       "+----+---------+-----+----------------+--------------+-----+-------------------+----------+----------+------------+-------------+---------+----------+\n",
       "only showing top 20 rows"
      ],
      "text/html": "<table border='1'>\n<tr><th>hour</th><th>dayofyear</th><th>month</th><th>start_station_id</th><th>total_duration</th><th>count</th><th>air_temp</th><th>visibility</th><th>wind_speed</th><th>abs_distance</th><th>weather_class</th><th>lat</th><th>long</th></tr>\n<tr><td>0</td><td>24</td><td>1</td><td>31270</td><td>409</td><td>1</td><td>7.6000000000000005</td><td>10.0</td><td>0.0</td><td>1058.0</td><td>cloudy</td><td>38.894851</td><td>-77.02324</td></tr>\n<tr><td>0</td><td>36</td><td>2</td><td>31283</td><td>1033</td><td>1</td><td>8.900000000000002</td><td>10.0</td><td>0.0</td><td>2403.0</td><td>clear</td><td>38.903658</td><td>-77.031737</td></tr>\n<tr><td>0</td><td>39</td><td>2</td><td>31241</td><td>426</td><td>1</td><td>10.0</td><td>10.0</td><td>3.44</td><td>1391.0</td><td>cloudy</td><td>38.9059</td><td>-77.0325</td></tr>\n<tr><td>0</td><td>41</td><td>2</td><td>31408</td><td>597</td><td>1</td><td>-1.2000000000000002</td><td>10.0</td><td>8.05</td><td>1574.0</td><td>clear</td><td>38.975219</td><td>-77.016855</td></tr>\n<tr><td>0</td><td>51</td><td>2</td><td>31503</td><td>867</td><td>1</td><td>1.6000000000000014</td><td>10.0</td><td>4.61</td><td>1868.0</td><td>clear</td><td>38.9126</td><td>-77.0135</td></tr>\n<tr><td>0</td><td>61</td><td>3</td><td>31201</td><td>367</td><td>1</td><td>0.9999999999999984</td><td>10.0</td><td>9.22</td><td>921.0</td><td>light rain</td><td>38.90985</td><td>-77.034438</td></tr>\n<tr><td>0</td><td>68</td><td>3</td><td>31261</td><td>4932</td><td>2</td><td>0.29999999999999954</td><td>3.0</td><td>0.0</td><td>3069.0</td><td>snowy</td><td>38.892459</td><td>-77.046567</td></tr>\n<tr><td>0</td><td>73</td><td>3</td><td>31251</td><td>667</td><td>1</td><td>-2.5999999999999996</td><td>10.0</td><td>0.0</td><td>0.0</td><td>clear</td><td>38.903819</td><td>-77.0284</td></tr>\n<tr><td>0</td><td>75</td><td>3</td><td>31299</td><td>1505</td><td>2</td><td>20.4</td><td>10.0</td><td>18.41</td><td>2000.0</td><td>clear</td><td>38.912644</td><td>-77.04564</td></tr>\n<tr><td>0</td><td>90</td><td>3</td><td>31121</td><td>234</td><td>1</td><td>20.700000000000003</td><td>10.0</td><td>11.5</td><td>650.0</td><td>cloudy</td><td>38.923583</td><td>-77.050046</td></tr>\n<tr><td>0</td><td>93</td><td>4</td><td>31108</td><td>1652</td><td>1</td><td>5.999999999999998</td><td>10.0</td><td>8.05</td><td>4737.0</td><td>clear</td><td>38.8767</td><td>-77.0178</td></tr>\n<tr><td>0</td><td>94</td><td>4</td><td>31309</td><td>206</td><td>1</td><td>17.1</td><td>10.0</td><td>6.91</td><td>887.0</td><td>clear</td><td>38.954812</td><td>-77.082426</td></tr>\n<tr><td>0</td><td>99</td><td>4</td><td>31101</td><td>1103</td><td>2</td><td>17.800000000000004</td><td>10.0</td><td>6.91</td><td>1846.5</td><td>clear</td><td>38.917931</td><td>-77.032112</td></tr>\n<tr><td>0</td><td>101</td><td>4</td><td>31298</td><td>1522</td><td>1</td><td>14.000000000000002</td><td>9.0</td><td>0.0</td><td>2583.0</td><td>clear</td><td>38.905424</td><td>-77.034674</td></tr>\n<tr><td>0</td><td>118</td><td>4</td><td>31102</td><td>461</td><td>1</td><td>18.7</td><td>10.0</td><td>12.66</td><td>1789.0</td><td>cloudy</td><td>38.929464</td><td>-77.027822</td></tr>\n<tr><td>0</td><td>120</td><td>4</td><td>31228</td><td>633</td><td>1</td><td>12.0</td><td>10.0</td><td>10.36</td><td>1673.0</td><td>cloudy</td><td>38.8997</td><td>-77.023086</td></tr>\n<tr><td>0</td><td>120</td><td>4</td><td>31655</td><td>754</td><td>1</td><td>12.0</td><td>10.0</td><td>11.5</td><td>1088.0</td><td>cloudy</td><td>38.897108</td><td>-77.011616</td></tr>\n<tr><td>0</td><td>124</td><td>5</td><td>31288</td><td>3727</td><td>1</td><td>19.6</td><td>10.0</td><td>6.91</td><td>999.0</td><td>clear</td><td>38.890493</td><td>-77.017253</td></tr>\n<tr><td>0</td><td>127</td><td>5</td><td>31228</td><td>411</td><td>1</td><td>19.499999999999996</td><td>10.0</td><td>5.75</td><td>649.0</td><td>clear</td><td>38.8997</td><td>-77.023086</td></tr>\n<tr><td>0</td><td>130</td><td>5</td><td>31647</td><td>1461</td><td>2</td><td>21.100000000000005</td><td>10.0</td><td>12.66</td><td>1439.5</td><td>clear</td><td>38.89222</td><td>-76.99602</td></tr>\n</table>\nonly showing top 20 rows\n"
     },
     "metadata": {},
     "execution_count": 9
    }
   ],
   "source": [
    "generated"
   ]
  },
  {
   "cell_type": "code",
   "execution_count": 11,
   "metadata": {},
   "outputs": [
    {
     "output_type": "execute_result",
     "data": {
      "text/plain": [
       "+----------+\n",
       "|max(count)|\n",
       "+----------+\n",
       "|       101|\n",
       "+----------+"
      ],
      "text/html": "<table border='1'>\n<tr><th>max(count)</th></tr>\n<tr><td>101</td></tr>\n</table>\n"
     },
     "metadata": {},
     "execution_count": 11
    }
   ],
   "source": [
    "generated.select(F.max(\"count\"))"
   ]
  },
  {
   "cell_type": "code",
   "execution_count": 26,
   "metadata": {},
   "outputs": [
    {
     "output_type": "execute_result",
     "data": {
      "text/plain": [
       "1277508"
      ]
     },
     "metadata": {},
     "execution_count": 26
    }
   ],
   "source": [
    "generated.count()"
   ]
  },
  {
   "cell_type": "code",
   "execution_count": 12,
   "metadata": {},
   "outputs": [],
   "source": [
    "generated.write.parquet(\"G:\\\\Master\\\\Big Data\\\\Data\\\\D.C\\\\New\\\\ml_dataset_extended_final.parquet\")"
   ]
  },
  {
   "cell_type": "code",
   "execution_count": 4,
   "metadata": {},
   "outputs": [],
   "source": [
    "generated = spark.read.parquet(\"G:\\\\Master\\\\Big Data\\\\Data\\\\D.C\\\\New\\\\ml_dataset_extended_final.parquet\")"
   ]
  },
  {
   "cell_type": "code",
   "execution_count": null,
   "metadata": {},
   "outputs": [],
   "source": [
    "#fill with zeros where neccessary - missing stations - find distinct stations"
   ]
  },
  {
   "cell_type": "code",
   "execution_count": 5,
   "metadata": {},
   "outputs": [],
   "source": [
    "distinct_stations = generated.select('start_station_id').distinct()"
   ]
  },
  {
   "cell_type": "code",
   "execution_count": 6,
   "metadata": {},
   "outputs": [
    {
     "output_type": "execute_result",
     "data": {
      "text/plain": [
       "579"
      ]
     },
     "metadata": {},
     "execution_count": 6
    }
   ],
   "source": [
    "distinct_stations.count()"
   ]
  },
  {
   "cell_type": "code",
   "execution_count": 11,
   "metadata": {},
   "outputs": [],
   "source": [
    "from pyspark.sql.functions import col, collect_list\n",
    "from pyspark.sql.functions import dayofyear, month, sum, avg, count\n",
    "\n",
    "the_base_distinct = joined.groupBy(col('hour'), col('dayofyear'), col('month')).agg(avg('air_temp').alias('air_temp'), avg('visibility').alias('visibility'), avg('wind_speed').alias('wind_speed'), mode(collect_list('weather_class')).alias('weather_class'))"
   ]
  },
  {
   "cell_type": "code",
   "execution_count": 11,
   "metadata": {},
   "outputs": [
    {
     "output_type": "execute_result",
     "data": {
      "text/plain": [
       "+----+---------+-----+-------------------+----------+------------------+-------------+\n",
       "|hour|dayofyear|month|           air_temp|visibility|        wind_speed|weather_class|\n",
       "+----+---------+-----+-------------------+----------+------------------+-------------+\n",
       "|   5|      346|   12|-0.6555555555555549|      10.0| 6.262222222222224|        clear|\n",
       "|  11|      143|    5| 16.225619834710777|      10.0|  8.34938016528931|        clear|\n",
       "|  11|      308|   11| 0.4163538873994616|      10.0|               0.0|        foggy|\n",
       "|  13|      306|   11|  3.713470115967837|      10.0|               0.0|        foggy|\n",
       "|  17|      346|   12|  2.425912838633716|      10.0|  4.31135453474679|        clear|\n",
       "|  22|      142|    5| 21.064768683274067|      10.0| 8.049999999999988|        clear|\n",
       "|   1|      191|    7|  23.57435897435899|      10.0| 5.690769230769231|        clear|\n",
       "|   1|      268|    9| 21.327777777777783|      10.0| 5.430555555555555|        clear|\n",
       "|   5|       12|    1|-3.6999999999999997|      10.0|3.4400000000000004|        clear|\n",
       "|   6|       84|    3|  7.708813559322077|      10.0|5.2432203389830505|       cloudy|\n",
       "|  12|      284|   10|   9.96326530612235|      10.0| 10.29020408163259|        clear|\n",
       "|  15|       83|    3| 13.084377478191914|      10.0| 10.08215701823956|        clear|\n",
       "|  16|       56|    2|  5.806192660550462|      10.0|25.605481651376024|        clear|\n",
       "|   3|      199|    7|  24.34444444444444|      10.0| 4.865555555555556|       cloudy|\n",
       "|   3|      225|    8| 25.866666666666664|      10.0|             10.17|        clear|\n",
       "|   4|      273|    9| 21.275000000000006|      10.0|3.2679999999999993|        clear|\n",
       "|   5|      200|    7|  24.43131313131313|      10.0| 3.743333333333332|        clear|\n",
       "|  11|      224|    8| 17.623595505618102|      10.0|               0.0|        clear|\n",
       "|  14|       44|    2|  4.426865671641769|      10.0|7.2747388059701805|        clear|\n",
       "|  14|      224|    8| 27.015369261476863|      10.0|               0.0|        clear|\n",
       "+----+---------+-----+-------------------+----------+------------------+-------------+\n",
       "only showing top 20 rows"
      ],
      "text/html": "<table border='1'>\n<tr><th>hour</th><th>dayofyear</th><th>month</th><th>air_temp</th><th>visibility</th><th>wind_speed</th><th>weather_class</th></tr>\n<tr><td>5</td><td>346</td><td>12</td><td>-0.6555555555555549</td><td>10.0</td><td>6.262222222222224</td><td>clear</td></tr>\n<tr><td>11</td><td>143</td><td>5</td><td>16.225619834710777</td><td>10.0</td><td>8.34938016528931</td><td>clear</td></tr>\n<tr><td>11</td><td>308</td><td>11</td><td>0.4163538873994616</td><td>10.0</td><td>0.0</td><td>foggy</td></tr>\n<tr><td>13</td><td>306</td><td>11</td><td>3.713470115967837</td><td>10.0</td><td>0.0</td><td>foggy</td></tr>\n<tr><td>17</td><td>346</td><td>12</td><td>2.425912838633716</td><td>10.0</td><td>4.31135453474679</td><td>clear</td></tr>\n<tr><td>22</td><td>142</td><td>5</td><td>21.064768683274067</td><td>10.0</td><td>8.049999999999988</td><td>clear</td></tr>\n<tr><td>1</td><td>191</td><td>7</td><td>23.57435897435899</td><td>10.0</td><td>5.690769230769231</td><td>clear</td></tr>\n<tr><td>1</td><td>268</td><td>9</td><td>21.327777777777783</td><td>10.0</td><td>5.430555555555555</td><td>clear</td></tr>\n<tr><td>5</td><td>12</td><td>1</td><td>-3.6999999999999997</td><td>10.0</td><td>3.4400000000000004</td><td>clear</td></tr>\n<tr><td>6</td><td>84</td><td>3</td><td>7.708813559322077</td><td>10.0</td><td>5.2432203389830505</td><td>cloudy</td></tr>\n<tr><td>12</td><td>284</td><td>10</td><td>9.96326530612235</td><td>10.0</td><td>10.29020408163259</td><td>clear</td></tr>\n<tr><td>15</td><td>83</td><td>3</td><td>13.084377478191914</td><td>10.0</td><td>10.08215701823956</td><td>clear</td></tr>\n<tr><td>16</td><td>56</td><td>2</td><td>5.806192660550462</td><td>10.0</td><td>25.605481651376024</td><td>clear</td></tr>\n<tr><td>3</td><td>199</td><td>7</td><td>24.34444444444444</td><td>10.0</td><td>4.865555555555556</td><td>cloudy</td></tr>\n<tr><td>3</td><td>225</td><td>8</td><td>25.866666666666664</td><td>10.0</td><td>10.17</td><td>clear</td></tr>\n<tr><td>4</td><td>273</td><td>9</td><td>21.275000000000006</td><td>10.0</td><td>3.2679999999999993</td><td>clear</td></tr>\n<tr><td>5</td><td>200</td><td>7</td><td>24.43131313131313</td><td>10.0</td><td>3.743333333333332</td><td>clear</td></tr>\n<tr><td>11</td><td>224</td><td>8</td><td>17.623595505618102</td><td>10.0</td><td>0.0</td><td>clear</td></tr>\n<tr><td>14</td><td>44</td><td>2</td><td>4.426865671641769</td><td>10.0</td><td>7.2747388059701805</td><td>clear</td></tr>\n<tr><td>14</td><td>224</td><td>8</td><td>27.015369261476863</td><td>10.0</td><td>0.0</td><td>clear</td></tr>\n</table>\nonly showing top 20 rows\n"
     },
     "metadata": {},
     "execution_count": 11
    }
   ],
   "source": [
    "the_base_distinct.cache()"
   ]
  },
  {
   "cell_type": "code",
   "execution_count": 12,
   "metadata": {},
   "outputs": [
    {
     "output_type": "execute_result",
     "data": {
      "text/plain": [
       "8746"
      ]
     },
     "metadata": {},
     "execution_count": 12
    }
   ],
   "source": [
    "the_base_distinct.count()"
   ]
  },
  {
   "cell_type": "code",
   "execution_count": 13,
   "metadata": {},
   "outputs": [],
   "source": [
    "stations_list = distinct_stations.toPandas()"
   ]
  },
  {
   "cell_type": "code",
   "execution_count": 20,
   "metadata": {},
   "outputs": [],
   "source": [
    "stations_list.to_pickle(\"G:\\\\Master\\\\Big Data\\\\Data\\\\D.C\\\\New\\\\stations.pickle\")"
   ]
  },
  {
   "cell_type": "code",
   "execution_count": 13,
   "metadata": {},
   "outputs": [],
   "source": [
    "import pandas as pd\n",
    "\n",
    "stations_list = pd.read_pickle(\"G:\\\\Master\\\\Big Data\\\\Data\\\\D.C\\\\New\\\\stations.pickle\")"
   ]
  },
  {
   "cell_type": "code",
   "execution_count": 14,
   "metadata": {},
   "outputs": [],
   "source": [
    "stations_list = list(stations_list[\"start_station_id\"])"
   ]
  },
  {
   "cell_type": "code",
   "execution_count": 15,
   "metadata": {},
   "outputs": [],
   "source": [
    "the_base_distinct = the_base_distinct.withColumn(\"station_list\", F.array([F.lit(x) for x in stations_list]))"
   ]
  },
  {
   "cell_type": "code",
   "execution_count": 16,
   "metadata": {},
   "outputs": [],
   "source": [
    "new_base = the_base_distinct.select(\"hour\", \"dayofyear\", \"month\", \"air_temp\", \"visibility\", \"wind_speed\", \"weather_class\", F.explode(\"station_list\").alias(\"station\"))"
   ]
  },
  {
   "cell_type": "code",
   "execution_count": 20,
   "metadata": {},
   "outputs": [
    {
     "output_type": "execute_result",
     "data": {
      "text/plain": [
       "+----+---------+-----+-------------------+----------+-----------------+-------------+-------+\n",
       "|hour|dayofyear|month|           air_temp|visibility|       wind_speed|weather_class|station|\n",
       "+----+---------+-----+-------------------+----------+-----------------+-------------+-------+\n",
       "|   5|      346|   12|-0.6555555555555549|      10.0|6.262222222222224|        clear|  31118|\n",
       "|   5|      346|   12|-0.6555555555555549|      10.0|6.262222222222224|        clear|  31518|\n",
       "|   5|      346|   12|-0.6555555555555549|      10.0|6.262222222222224|        clear|  31039|\n",
       "|   5|      346|   12|-0.6555555555555549|      10.0|6.262222222222224|        clear|  31713|\n",
       "|   5|      346|   12|-0.6555555555555549|      10.0|6.262222222222224|        clear|  31067|\n",
       "|   5|      346|   12|-0.6555555555555549|      10.0|6.262222222222224|        clear|  31418|\n",
       "|   5|      346|   12|-0.6555555555555549|      10.0|6.262222222222224|        clear|  31217|\n",
       "|   5|      346|   12|-0.6555555555555549|      10.0|6.262222222222224|        clear|  31290|\n",
       "|   5|      346|   12|-0.6555555555555549|      10.0|6.262222222222224|        clear|  32052|\n",
       "|   5|      346|   12|-0.6555555555555549|      10.0|6.262222222222224|        clear|  31205|\n",
       "|   5|      346|   12|-0.6555555555555549|      10.0|6.262222222222224|        clear|  32606|\n",
       "|   5|      346|   12|-0.6555555555555549|      10.0|6.262222222222224|        clear|  31005|\n",
       "|   5|      346|   12|-0.6555555555555549|      10.0|6.262222222222224|        clear|  31224|\n",
       "|   5|      346|   12|-0.6555555555555549|      10.0|6.262222222222224|        clear|  31641|\n",
       "|   5|      346|   12|-0.6555555555555549|      10.0|6.262222222222224|        clear|  31918|\n",
       "|   5|      346|   12|-0.6555555555555549|      10.0|6.262222222222224|        clear|  32018|\n",
       "|   5|      346|   12|-0.6555555555555549|      10.0|6.262222222222224|        clear|  32201|\n",
       "|   5|      346|   12|-0.6555555555555549|      10.0|6.262222222222224|        clear|  31260|\n",
       "|   5|      346|   12|-0.6555555555555549|      10.0|6.262222222222224|        clear|  31051|\n",
       "|   5|      346|   12|-0.6555555555555549|      10.0|6.262222222222224|        clear|  31600|\n",
       "+----+---------+-----+-------------------+----------+-----------------+-------------+-------+\n",
       "only showing top 20 rows"
      ],
      "text/html": "<table border='1'>\n<tr><th>hour</th><th>dayofyear</th><th>month</th><th>air_temp</th><th>visibility</th><th>wind_speed</th><th>weather_class</th><th>station</th></tr>\n<tr><td>5</td><td>346</td><td>12</td><td>-0.6555555555555549</td><td>10.0</td><td>6.262222222222224</td><td>clear</td><td>31118</td></tr>\n<tr><td>5</td><td>346</td><td>12</td><td>-0.6555555555555549</td><td>10.0</td><td>6.262222222222224</td><td>clear</td><td>31518</td></tr>\n<tr><td>5</td><td>346</td><td>12</td><td>-0.6555555555555549</td><td>10.0</td><td>6.262222222222224</td><td>clear</td><td>31039</td></tr>\n<tr><td>5</td><td>346</td><td>12</td><td>-0.6555555555555549</td><td>10.0</td><td>6.262222222222224</td><td>clear</td><td>31713</td></tr>\n<tr><td>5</td><td>346</td><td>12</td><td>-0.6555555555555549</td><td>10.0</td><td>6.262222222222224</td><td>clear</td><td>31067</td></tr>\n<tr><td>5</td><td>346</td><td>12</td><td>-0.6555555555555549</td><td>10.0</td><td>6.262222222222224</td><td>clear</td><td>31418</td></tr>\n<tr><td>5</td><td>346</td><td>12</td><td>-0.6555555555555549</td><td>10.0</td><td>6.262222222222224</td><td>clear</td><td>31217</td></tr>\n<tr><td>5</td><td>346</td><td>12</td><td>-0.6555555555555549</td><td>10.0</td><td>6.262222222222224</td><td>clear</td><td>31290</td></tr>\n<tr><td>5</td><td>346</td><td>12</td><td>-0.6555555555555549</td><td>10.0</td><td>6.262222222222224</td><td>clear</td><td>32052</td></tr>\n<tr><td>5</td><td>346</td><td>12</td><td>-0.6555555555555549</td><td>10.0</td><td>6.262222222222224</td><td>clear</td><td>31205</td></tr>\n<tr><td>5</td><td>346</td><td>12</td><td>-0.6555555555555549</td><td>10.0</td><td>6.262222222222224</td><td>clear</td><td>32606</td></tr>\n<tr><td>5</td><td>346</td><td>12</td><td>-0.6555555555555549</td><td>10.0</td><td>6.262222222222224</td><td>clear</td><td>31005</td></tr>\n<tr><td>5</td><td>346</td><td>12</td><td>-0.6555555555555549</td><td>10.0</td><td>6.262222222222224</td><td>clear</td><td>31224</td></tr>\n<tr><td>5</td><td>346</td><td>12</td><td>-0.6555555555555549</td><td>10.0</td><td>6.262222222222224</td><td>clear</td><td>31641</td></tr>\n<tr><td>5</td><td>346</td><td>12</td><td>-0.6555555555555549</td><td>10.0</td><td>6.262222222222224</td><td>clear</td><td>31918</td></tr>\n<tr><td>5</td><td>346</td><td>12</td><td>-0.6555555555555549</td><td>10.0</td><td>6.262222222222224</td><td>clear</td><td>32018</td></tr>\n<tr><td>5</td><td>346</td><td>12</td><td>-0.6555555555555549</td><td>10.0</td><td>6.262222222222224</td><td>clear</td><td>32201</td></tr>\n<tr><td>5</td><td>346</td><td>12</td><td>-0.6555555555555549</td><td>10.0</td><td>6.262222222222224</td><td>clear</td><td>31260</td></tr>\n<tr><td>5</td><td>346</td><td>12</td><td>-0.6555555555555549</td><td>10.0</td><td>6.262222222222224</td><td>clear</td><td>31051</td></tr>\n<tr><td>5</td><td>346</td><td>12</td><td>-0.6555555555555549</td><td>10.0</td><td>6.262222222222224</td><td>clear</td><td>31600</td></tr>\n</table>\nonly showing top 20 rows\n"
     },
     "metadata": {},
     "execution_count": 20
    }
   ],
   "source": [
    "new_base"
   ]
  },
  {
   "cell_type": "code",
   "execution_count": 17,
   "metadata": {},
   "outputs": [],
   "source": [
    "new_base = new_base.withColumn(\"count\", F.lit(0))"
   ]
  },
  {
   "cell_type": "code",
   "execution_count": 22,
   "metadata": {},
   "outputs": [
    {
     "output_type": "execute_result",
     "data": {
      "text/plain": [
       "+----+---------+-----+-------------------+----------+-----------------+-------------+-------+-----+\n",
       "|hour|dayofyear|month|           air_temp|visibility|       wind_speed|weather_class|station|count|\n",
       "+----+---------+-----+-------------------+----------+-----------------+-------------+-------+-----+\n",
       "|   5|      346|   12|-0.6555555555555549|      10.0|6.262222222222224|        clear|  31118|    0|\n",
       "|   5|      346|   12|-0.6555555555555549|      10.0|6.262222222222224|        clear|  31518|    0|\n",
       "|   5|      346|   12|-0.6555555555555549|      10.0|6.262222222222224|        clear|  31039|    0|\n",
       "|   5|      346|   12|-0.6555555555555549|      10.0|6.262222222222224|        clear|  31713|    0|\n",
       "|   5|      346|   12|-0.6555555555555549|      10.0|6.262222222222224|        clear|  31067|    0|\n",
       "|   5|      346|   12|-0.6555555555555549|      10.0|6.262222222222224|        clear|  31418|    0|\n",
       "|   5|      346|   12|-0.6555555555555549|      10.0|6.262222222222224|        clear|  31217|    0|\n",
       "|   5|      346|   12|-0.6555555555555549|      10.0|6.262222222222224|        clear|  31290|    0|\n",
       "|   5|      346|   12|-0.6555555555555549|      10.0|6.262222222222224|        clear|  32052|    0|\n",
       "|   5|      346|   12|-0.6555555555555549|      10.0|6.262222222222224|        clear|  31205|    0|\n",
       "|   5|      346|   12|-0.6555555555555549|      10.0|6.262222222222224|        clear|  32606|    0|\n",
       "|   5|      346|   12|-0.6555555555555549|      10.0|6.262222222222224|        clear|  31005|    0|\n",
       "|   5|      346|   12|-0.6555555555555549|      10.0|6.262222222222224|        clear|  31224|    0|\n",
       "|   5|      346|   12|-0.6555555555555549|      10.0|6.262222222222224|        clear|  31641|    0|\n",
       "|   5|      346|   12|-0.6555555555555549|      10.0|6.262222222222224|        clear|  31918|    0|\n",
       "|   5|      346|   12|-0.6555555555555549|      10.0|6.262222222222224|        clear|  32018|    0|\n",
       "|   5|      346|   12|-0.6555555555555549|      10.0|6.262222222222224|        clear|  32201|    0|\n",
       "|   5|      346|   12|-0.6555555555555549|      10.0|6.262222222222224|        clear|  31260|    0|\n",
       "|   5|      346|   12|-0.6555555555555549|      10.0|6.262222222222224|        clear|  31051|    0|\n",
       "|   5|      346|   12|-0.6555555555555549|      10.0|6.262222222222224|        clear|  31600|    0|\n",
       "+----+---------+-----+-------------------+----------+-----------------+-------------+-------+-----+\n",
       "only showing top 20 rows"
      ],
      "text/html": "<table border='1'>\n<tr><th>hour</th><th>dayofyear</th><th>month</th><th>air_temp</th><th>visibility</th><th>wind_speed</th><th>weather_class</th><th>station</th><th>count</th></tr>\n<tr><td>5</td><td>346</td><td>12</td><td>-0.6555555555555549</td><td>10.0</td><td>6.262222222222224</td><td>clear</td><td>31118</td><td>0</td></tr>\n<tr><td>5</td><td>346</td><td>12</td><td>-0.6555555555555549</td><td>10.0</td><td>6.262222222222224</td><td>clear</td><td>31518</td><td>0</td></tr>\n<tr><td>5</td><td>346</td><td>12</td><td>-0.6555555555555549</td><td>10.0</td><td>6.262222222222224</td><td>clear</td><td>31039</td><td>0</td></tr>\n<tr><td>5</td><td>346</td><td>12</td><td>-0.6555555555555549</td><td>10.0</td><td>6.262222222222224</td><td>clear</td><td>31713</td><td>0</td></tr>\n<tr><td>5</td><td>346</td><td>12</td><td>-0.6555555555555549</td><td>10.0</td><td>6.262222222222224</td><td>clear</td><td>31067</td><td>0</td></tr>\n<tr><td>5</td><td>346</td><td>12</td><td>-0.6555555555555549</td><td>10.0</td><td>6.262222222222224</td><td>clear</td><td>31418</td><td>0</td></tr>\n<tr><td>5</td><td>346</td><td>12</td><td>-0.6555555555555549</td><td>10.0</td><td>6.262222222222224</td><td>clear</td><td>31217</td><td>0</td></tr>\n<tr><td>5</td><td>346</td><td>12</td><td>-0.6555555555555549</td><td>10.0</td><td>6.262222222222224</td><td>clear</td><td>31290</td><td>0</td></tr>\n<tr><td>5</td><td>346</td><td>12</td><td>-0.6555555555555549</td><td>10.0</td><td>6.262222222222224</td><td>clear</td><td>32052</td><td>0</td></tr>\n<tr><td>5</td><td>346</td><td>12</td><td>-0.6555555555555549</td><td>10.0</td><td>6.262222222222224</td><td>clear</td><td>31205</td><td>0</td></tr>\n<tr><td>5</td><td>346</td><td>12</td><td>-0.6555555555555549</td><td>10.0</td><td>6.262222222222224</td><td>clear</td><td>32606</td><td>0</td></tr>\n<tr><td>5</td><td>346</td><td>12</td><td>-0.6555555555555549</td><td>10.0</td><td>6.262222222222224</td><td>clear</td><td>31005</td><td>0</td></tr>\n<tr><td>5</td><td>346</td><td>12</td><td>-0.6555555555555549</td><td>10.0</td><td>6.262222222222224</td><td>clear</td><td>31224</td><td>0</td></tr>\n<tr><td>5</td><td>346</td><td>12</td><td>-0.6555555555555549</td><td>10.0</td><td>6.262222222222224</td><td>clear</td><td>31641</td><td>0</td></tr>\n<tr><td>5</td><td>346</td><td>12</td><td>-0.6555555555555549</td><td>10.0</td><td>6.262222222222224</td><td>clear</td><td>31918</td><td>0</td></tr>\n<tr><td>5</td><td>346</td><td>12</td><td>-0.6555555555555549</td><td>10.0</td><td>6.262222222222224</td><td>clear</td><td>32018</td><td>0</td></tr>\n<tr><td>5</td><td>346</td><td>12</td><td>-0.6555555555555549</td><td>10.0</td><td>6.262222222222224</td><td>clear</td><td>32201</td><td>0</td></tr>\n<tr><td>5</td><td>346</td><td>12</td><td>-0.6555555555555549</td><td>10.0</td><td>6.262222222222224</td><td>clear</td><td>31260</td><td>0</td></tr>\n<tr><td>5</td><td>346</td><td>12</td><td>-0.6555555555555549</td><td>10.0</td><td>6.262222222222224</td><td>clear</td><td>31051</td><td>0</td></tr>\n<tr><td>5</td><td>346</td><td>12</td><td>-0.6555555555555549</td><td>10.0</td><td>6.262222222222224</td><td>clear</td><td>31600</td><td>0</td></tr>\n</table>\nonly showing top 20 rows\n"
     },
     "metadata": {},
     "execution_count": 22
    }
   ],
   "source": [
    "new_base"
   ]
  },
  {
   "cell_type": "code",
   "execution_count": 25,
   "metadata": {},
   "outputs": [],
   "source": [
    "generated = generated.withColumnRenamed(\"start_station_id\", \"station\")"
   ]
  },
  {
   "cell_type": "code",
   "execution_count": 23,
   "metadata": {},
   "outputs": [
    {
     "output_type": "execute_result",
     "data": {
      "text/plain": [
       "5063934"
      ]
     },
     "metadata": {},
     "execution_count": 23
    }
   ],
   "source": [
    "new_base.count()"
   ]
  },
  {
   "cell_type": "code",
   "execution_count": 19,
   "metadata": {},
   "outputs": [],
   "source": [
    "new_base.write.parquet(\"G:\\\\Master\\\\Big Data\\\\Data\\\\D.C\\\\New\\\\HELP\\\\empty_base.parquet\")"
   ]
  },
  {
   "cell_type": "code",
   "execution_count": 26,
   "metadata": {},
   "outputs": [],
   "source": [
    "base = generated.select(\"hour\", \"dayofyear\", \"month\", \"air_temp\", \"visibility\", \"wind_speed\", \"weather_class\", \"count\", \"station\").union(new_base)"
   ]
  },
  {
   "cell_type": "code",
   "execution_count": 37,
   "metadata": {},
   "outputs": [
    {
     "output_type": "error",
     "ename": "Py4JJavaError",
     "evalue": "An error occurred while calling o967.count.\n: org.apache.spark.SparkException: Job aborted due to stage failure: Task 3 in stage 136.0 failed 1 times, most recent failure: Lost task 3.0 in stage 136.0 (TID 10703, localhost, executor driver): java.io.FileNotFoundException: C:\\Users\\IrenaDJ\\AppData\\Local\\Temp\\blockmgr-4f297151-eb73-4d20-b9f7-1103452cbb9b\\2f\\temp_shuffle_c9d886ac-2607-444c-ab57-a7550f6c4be1 (The system cannot find the path specified)\r\n\tat java.io.FileOutputStream.open0(Native Method)\r\n\tat java.io.FileOutputStream.open(FileOutputStream.java:270)\r\n\tat java.io.FileOutputStream.<init>(FileOutputStream.java:213)\r\n\tat org.apache.spark.storage.DiskBlockObjectWriter.initialize(DiskBlockObjectWriter.scala:103)\r\n\tat org.apache.spark.storage.DiskBlockObjectWriter.open(DiskBlockObjectWriter.scala:116)\r\n\tat org.apache.spark.storage.DiskBlockObjectWriter.write(DiskBlockObjectWriter.scala:237)\r\n\tat org.apache.spark.shuffle.sort.BypassMergeSortShuffleWriter.write(BypassMergeSortShuffleWriter.java:151)\r\n\tat org.apache.spark.scheduler.ShuffleMapTask.runTask(ShuffleMapTask.scala:99)\r\n\tat org.apache.spark.scheduler.ShuffleMapTask.runTask(ShuffleMapTask.scala:55)\r\n\tat org.apache.spark.scheduler.Task.run(Task.scala:123)\r\n\tat org.apache.spark.executor.Executor$TaskRunner$$anonfun$10.apply(Executor.scala:408)\r\n\tat org.apache.spark.util.Utils$.tryWithSafeFinally(Utils.scala:1360)\r\n\tat org.apache.spark.executor.Executor$TaskRunner.run(Executor.scala:414)\r\n\tat java.util.concurrent.ThreadPoolExecutor.runWorker(ThreadPoolExecutor.java:1149)\r\n\tat java.util.concurrent.ThreadPoolExecutor$Worker.run(ThreadPoolExecutor.java:624)\r\n\tat java.lang.Thread.run(Thread.java:748)\r\n\nDriver stacktrace:\r\n\tat org.apache.spark.scheduler.DAGScheduler.org$apache$spark$scheduler$DAGScheduler$$failJobAndIndependentStages(DAGScheduler.scala:1925)\r\n\tat org.apache.spark.scheduler.DAGScheduler$$anonfun$abortStage$1.apply(DAGScheduler.scala:1913)\r\n\tat org.apache.spark.scheduler.DAGScheduler$$anonfun$abortStage$1.apply(DAGScheduler.scala:1912)\r\n\tat scala.collection.mutable.ResizableArray$class.foreach(ResizableArray.scala:59)\r\n\tat scala.collection.mutable.ArrayBuffer.foreach(ArrayBuffer.scala:48)\r\n\tat org.apache.spark.scheduler.DAGScheduler.abortStage(DAGScheduler.scala:1912)\r\n\tat org.apache.spark.scheduler.DAGScheduler$$anonfun$handleTaskSetFailed$1.apply(DAGScheduler.scala:948)\r\n\tat org.apache.spark.scheduler.DAGScheduler$$anonfun$handleTaskSetFailed$1.apply(DAGScheduler.scala:948)\r\n\tat scala.Option.foreach(Option.scala:257)\r\n\tat org.apache.spark.scheduler.DAGScheduler.handleTaskSetFailed(DAGScheduler.scala:948)\r\n\tat org.apache.spark.scheduler.DAGSchedulerEventProcessLoop.doOnReceive(DAGScheduler.scala:2146)\r\n\tat org.apache.spark.scheduler.DAGSchedulerEventProcessLoop.onReceive(DAGScheduler.scala:2095)\r\n\tat org.apache.spark.scheduler.DAGSchedulerEventProcessLoop.onReceive(DAGScheduler.scala:2084)\r\n\tat org.apache.spark.util.EventLoop$$anon$1.run(EventLoop.scala:49)\r\n\tat org.apache.spark.scheduler.DAGScheduler.runJob(DAGScheduler.scala:759)\r\n\tat org.apache.spark.SparkContext.runJob(SparkContext.scala:2061)\r\n\tat org.apache.spark.SparkContext.runJob(SparkContext.scala:2082)\r\n\tat org.apache.spark.SparkContext.runJob(SparkContext.scala:2101)\r\n\tat org.apache.spark.SparkContext.runJob(SparkContext.scala:2126)\r\n\tat org.apache.spark.rdd.RDD$$anonfun$collect$1.apply(RDD.scala:990)\r\n\tat org.apache.spark.rdd.RDDOperationScope$.withScope(RDDOperationScope.scala:151)\r\n\tat org.apache.spark.rdd.RDDOperationScope$.withScope(RDDOperationScope.scala:112)\r\n\tat org.apache.spark.rdd.RDD.withScope(RDD.scala:385)\r\n\tat org.apache.spark.rdd.RDD.collect(RDD.scala:989)\r\n\tat org.apache.spark.sql.execution.SparkPlan.executeCollect(SparkPlan.scala:299)\r\n\tat org.apache.spark.sql.Dataset$$anonfun$count$1.apply(Dataset.scala:2836)\r\n\tat org.apache.spark.sql.Dataset$$anonfun$count$1.apply(Dataset.scala:2835)\r\n\tat org.apache.spark.sql.Dataset$$anonfun$52.apply(Dataset.scala:3370)\r\n\tat org.apache.spark.sql.execution.SQLExecution$$anonfun$withNewExecutionId$1.apply(SQLExecution.scala:80)\r\n\tat org.apache.spark.sql.execution.SQLExecution$.withSQLConfPropagated(SQLExecution.scala:127)\r\n\tat org.apache.spark.sql.execution.SQLExecution$.withNewExecutionId(SQLExecution.scala:75)\r\n\tat org.apache.spark.sql.Dataset.org$apache$spark$sql$Dataset$$withAction(Dataset.scala:3369)\r\n\tat org.apache.spark.sql.Dataset.count(Dataset.scala:2835)\r\n\tat sun.reflect.NativeMethodAccessorImpl.invoke0(Native Method)\r\n\tat sun.reflect.NativeMethodAccessorImpl.invoke(NativeMethodAccessorImpl.java:62)\r\n\tat sun.reflect.DelegatingMethodAccessorImpl.invoke(DelegatingMethodAccessorImpl.java:43)\r\n\tat java.lang.reflect.Method.invoke(Method.java:498)\r\n\tat py4j.reflection.MethodInvoker.invoke(MethodInvoker.java:244)\r\n\tat py4j.reflection.ReflectionEngine.invoke(ReflectionEngine.java:357)\r\n\tat py4j.Gateway.invoke(Gateway.java:282)\r\n\tat py4j.commands.AbstractCommand.invokeMethod(AbstractCommand.java:132)\r\n\tat py4j.commands.CallCommand.execute(CallCommand.java:79)\r\n\tat py4j.GatewayConnection.run(GatewayConnection.java:238)\r\n\tat java.lang.Thread.run(Thread.java:748)\r\nCaused by: java.io.FileNotFoundException: C:\\Users\\IrenaDJ\\AppData\\Local\\Temp\\blockmgr-4f297151-eb73-4d20-b9f7-1103452cbb9b\\2f\\temp_shuffle_c9d886ac-2607-444c-ab57-a7550f6c4be1 (The system cannot find the path specified)\r\n\tat java.io.FileOutputStream.open0(Native Method)\r\n\tat java.io.FileOutputStream.open(FileOutputStream.java:270)\r\n\tat java.io.FileOutputStream.<init>(FileOutputStream.java:213)\r\n\tat org.apache.spark.storage.DiskBlockObjectWriter.initialize(DiskBlockObjectWriter.scala:103)\r\n\tat org.apache.spark.storage.DiskBlockObjectWriter.open(DiskBlockObjectWriter.scala:116)\r\n\tat org.apache.spark.storage.DiskBlockObjectWriter.write(DiskBlockObjectWriter.scala:237)\r\n\tat org.apache.spark.shuffle.sort.BypassMergeSortShuffleWriter.write(BypassMergeSortShuffleWriter.java:151)\r\n\tat org.apache.spark.scheduler.ShuffleMapTask.runTask(ShuffleMapTask.scala:99)\r\n\tat org.apache.spark.scheduler.ShuffleMapTask.runTask(ShuffleMapTask.scala:55)\r\n\tat org.apache.spark.scheduler.Task.run(Task.scala:123)\r\n\tat org.apache.spark.executor.Executor$TaskRunner$$anonfun$10.apply(Executor.scala:408)\r\n\tat org.apache.spark.util.Utils$.tryWithSafeFinally(Utils.scala:1360)\r\n\tat org.apache.spark.executor.Executor$TaskRunner.run(Executor.scala:414)\r\n\tat java.util.concurrent.ThreadPoolExecutor.runWorker(ThreadPoolExecutor.java:1149)\r\n\tat java.util.concurrent.ThreadPoolExecutor$Worker.run(ThreadPoolExecutor.java:624)\r\n\t... 1 more\r\n",
     "traceback": [
      "\u001b[1;31m---------------------------------------------------------------------------\u001b[0m",
      "\u001b[1;31mPy4JJavaError\u001b[0m                             Traceback (most recent call last)",
      "\u001b[1;32m<ipython-input-37-63ebe95756ba>\u001b[0m in \u001b[0;36m<module>\u001b[1;34m\u001b[0m\n\u001b[1;32m----> 1\u001b[1;33m \u001b[0mbase\u001b[0m\u001b[1;33m.\u001b[0m\u001b[0mcount\u001b[0m\u001b[1;33m(\u001b[0m\u001b[1;33m)\u001b[0m\u001b[1;33m\u001b[0m\u001b[1;33m\u001b[0m\u001b[0m\n\u001b[0m",
      "\u001b[1;32m~\\Anaconda3\\envs\\bigdata\\lib\\site-packages\\pyspark\\sql\\dataframe.py\u001b[0m in \u001b[0;36mcount\u001b[1;34m(self)\u001b[0m\n\u001b[0;32m    522\u001b[0m         \u001b[1;36m2\u001b[0m\u001b[1;33m\u001b[0m\u001b[1;33m\u001b[0m\u001b[0m\n\u001b[0;32m    523\u001b[0m         \"\"\"\n\u001b[1;32m--> 524\u001b[1;33m         \u001b[1;32mreturn\u001b[0m \u001b[0mint\u001b[0m\u001b[1;33m(\u001b[0m\u001b[0mself\u001b[0m\u001b[1;33m.\u001b[0m\u001b[0m_jdf\u001b[0m\u001b[1;33m.\u001b[0m\u001b[0mcount\u001b[0m\u001b[1;33m(\u001b[0m\u001b[1;33m)\u001b[0m\u001b[1;33m)\u001b[0m\u001b[1;33m\u001b[0m\u001b[1;33m\u001b[0m\u001b[0m\n\u001b[0m\u001b[0;32m    525\u001b[0m \u001b[1;33m\u001b[0m\u001b[0m\n\u001b[0;32m    526\u001b[0m     \u001b[1;33m@\u001b[0m\u001b[0mignore_unicode_prefix\u001b[0m\u001b[1;33m\u001b[0m\u001b[1;33m\u001b[0m\u001b[0m\n",
      "\u001b[1;32m~\\Anaconda3\\envs\\bigdata\\lib\\site-packages\\py4j\\java_gateway.py\u001b[0m in \u001b[0;36m__call__\u001b[1;34m(self, *args)\u001b[0m\n\u001b[0;32m   1255\u001b[0m         \u001b[0manswer\u001b[0m \u001b[1;33m=\u001b[0m \u001b[0mself\u001b[0m\u001b[1;33m.\u001b[0m\u001b[0mgateway_client\u001b[0m\u001b[1;33m.\u001b[0m\u001b[0msend_command\u001b[0m\u001b[1;33m(\u001b[0m\u001b[0mcommand\u001b[0m\u001b[1;33m)\u001b[0m\u001b[1;33m\u001b[0m\u001b[1;33m\u001b[0m\u001b[0m\n\u001b[0;32m   1256\u001b[0m         return_value = get_return_value(\n\u001b[1;32m-> 1257\u001b[1;33m             answer, self.gateway_client, self.target_id, self.name)\n\u001b[0m\u001b[0;32m   1258\u001b[0m \u001b[1;33m\u001b[0m\u001b[0m\n\u001b[0;32m   1259\u001b[0m         \u001b[1;32mfor\u001b[0m \u001b[0mtemp_arg\u001b[0m \u001b[1;32min\u001b[0m \u001b[0mtemp_args\u001b[0m\u001b[1;33m:\u001b[0m\u001b[1;33m\u001b[0m\u001b[1;33m\u001b[0m\u001b[0m\n",
      "\u001b[1;32m~\\Anaconda3\\envs\\bigdata\\lib\\site-packages\\pyspark\\sql\\utils.py\u001b[0m in \u001b[0;36mdeco\u001b[1;34m(*a, **kw)\u001b[0m\n\u001b[0;32m     61\u001b[0m     \u001b[1;32mdef\u001b[0m \u001b[0mdeco\u001b[0m\u001b[1;33m(\u001b[0m\u001b[1;33m*\u001b[0m\u001b[0ma\u001b[0m\u001b[1;33m,\u001b[0m \u001b[1;33m**\u001b[0m\u001b[0mkw\u001b[0m\u001b[1;33m)\u001b[0m\u001b[1;33m:\u001b[0m\u001b[1;33m\u001b[0m\u001b[1;33m\u001b[0m\u001b[0m\n\u001b[0;32m     62\u001b[0m         \u001b[1;32mtry\u001b[0m\u001b[1;33m:\u001b[0m\u001b[1;33m\u001b[0m\u001b[1;33m\u001b[0m\u001b[0m\n\u001b[1;32m---> 63\u001b[1;33m             \u001b[1;32mreturn\u001b[0m \u001b[0mf\u001b[0m\u001b[1;33m(\u001b[0m\u001b[1;33m*\u001b[0m\u001b[0ma\u001b[0m\u001b[1;33m,\u001b[0m \u001b[1;33m**\u001b[0m\u001b[0mkw\u001b[0m\u001b[1;33m)\u001b[0m\u001b[1;33m\u001b[0m\u001b[1;33m\u001b[0m\u001b[0m\n\u001b[0m\u001b[0;32m     64\u001b[0m         \u001b[1;32mexcept\u001b[0m \u001b[0mpy4j\u001b[0m\u001b[1;33m.\u001b[0m\u001b[0mprotocol\u001b[0m\u001b[1;33m.\u001b[0m\u001b[0mPy4JJavaError\u001b[0m \u001b[1;32mas\u001b[0m \u001b[0me\u001b[0m\u001b[1;33m:\u001b[0m\u001b[1;33m\u001b[0m\u001b[1;33m\u001b[0m\u001b[0m\n\u001b[0;32m     65\u001b[0m             \u001b[0ms\u001b[0m \u001b[1;33m=\u001b[0m \u001b[0me\u001b[0m\u001b[1;33m.\u001b[0m\u001b[0mjava_exception\u001b[0m\u001b[1;33m.\u001b[0m\u001b[0mtoString\u001b[0m\u001b[1;33m(\u001b[0m\u001b[1;33m)\u001b[0m\u001b[1;33m\u001b[0m\u001b[1;33m\u001b[0m\u001b[0m\n",
      "\u001b[1;32m~\\Anaconda3\\envs\\bigdata\\lib\\site-packages\\py4j\\protocol.py\u001b[0m in \u001b[0;36mget_return_value\u001b[1;34m(answer, gateway_client, target_id, name)\u001b[0m\n\u001b[0;32m    326\u001b[0m                 raise Py4JJavaError(\n\u001b[0;32m    327\u001b[0m                     \u001b[1;34m\"An error occurred while calling {0}{1}{2}.\\n\"\u001b[0m\u001b[1;33m.\u001b[0m\u001b[1;33m\u001b[0m\u001b[1;33m\u001b[0m\u001b[0m\n\u001b[1;32m--> 328\u001b[1;33m                     format(target_id, \".\", name), value)\n\u001b[0m\u001b[0;32m    329\u001b[0m             \u001b[1;32melse\u001b[0m\u001b[1;33m:\u001b[0m\u001b[1;33m\u001b[0m\u001b[1;33m\u001b[0m\u001b[0m\n\u001b[0;32m    330\u001b[0m                 raise Py4JError(\n",
      "\u001b[1;31mPy4JJavaError\u001b[0m: An error occurred while calling o967.count.\n: org.apache.spark.SparkException: Job aborted due to stage failure: Task 3 in stage 136.0 failed 1 times, most recent failure: Lost task 3.0 in stage 136.0 (TID 10703, localhost, executor driver): java.io.FileNotFoundException: C:\\Users\\IrenaDJ\\AppData\\Local\\Temp\\blockmgr-4f297151-eb73-4d20-b9f7-1103452cbb9b\\2f\\temp_shuffle_c9d886ac-2607-444c-ab57-a7550f6c4be1 (The system cannot find the path specified)\r\n\tat java.io.FileOutputStream.open0(Native Method)\r\n\tat java.io.FileOutputStream.open(FileOutputStream.java:270)\r\n\tat java.io.FileOutputStream.<init>(FileOutputStream.java:213)\r\n\tat org.apache.spark.storage.DiskBlockObjectWriter.initialize(DiskBlockObjectWriter.scala:103)\r\n\tat org.apache.spark.storage.DiskBlockObjectWriter.open(DiskBlockObjectWriter.scala:116)\r\n\tat org.apache.spark.storage.DiskBlockObjectWriter.write(DiskBlockObjectWriter.scala:237)\r\n\tat org.apache.spark.shuffle.sort.BypassMergeSortShuffleWriter.write(BypassMergeSortShuffleWriter.java:151)\r\n\tat org.apache.spark.scheduler.ShuffleMapTask.runTask(ShuffleMapTask.scala:99)\r\n\tat org.apache.spark.scheduler.ShuffleMapTask.runTask(ShuffleMapTask.scala:55)\r\n\tat org.apache.spark.scheduler.Task.run(Task.scala:123)\r\n\tat org.apache.spark.executor.Executor$TaskRunner$$anonfun$10.apply(Executor.scala:408)\r\n\tat org.apache.spark.util.Utils$.tryWithSafeFinally(Utils.scala:1360)\r\n\tat org.apache.spark.executor.Executor$TaskRunner.run(Executor.scala:414)\r\n\tat java.util.concurrent.ThreadPoolExecutor.runWorker(ThreadPoolExecutor.java:1149)\r\n\tat java.util.concurrent.ThreadPoolExecutor$Worker.run(ThreadPoolExecutor.java:624)\r\n\tat java.lang.Thread.run(Thread.java:748)\r\n\nDriver stacktrace:\r\n\tat org.apache.spark.scheduler.DAGScheduler.org$apache$spark$scheduler$DAGScheduler$$failJobAndIndependentStages(DAGScheduler.scala:1925)\r\n\tat org.apache.spark.scheduler.DAGScheduler$$anonfun$abortStage$1.apply(DAGScheduler.scala:1913)\r\n\tat org.apache.spark.scheduler.DAGScheduler$$anonfun$abortStage$1.apply(DAGScheduler.scala:1912)\r\n\tat scala.collection.mutable.ResizableArray$class.foreach(ResizableArray.scala:59)\r\n\tat scala.collection.mutable.ArrayBuffer.foreach(ArrayBuffer.scala:48)\r\n\tat org.apache.spark.scheduler.DAGScheduler.abortStage(DAGScheduler.scala:1912)\r\n\tat org.apache.spark.scheduler.DAGScheduler$$anonfun$handleTaskSetFailed$1.apply(DAGScheduler.scala:948)\r\n\tat org.apache.spark.scheduler.DAGScheduler$$anonfun$handleTaskSetFailed$1.apply(DAGScheduler.scala:948)\r\n\tat scala.Option.foreach(Option.scala:257)\r\n\tat org.apache.spark.scheduler.DAGScheduler.handleTaskSetFailed(DAGScheduler.scala:948)\r\n\tat org.apache.spark.scheduler.DAGSchedulerEventProcessLoop.doOnReceive(DAGScheduler.scala:2146)\r\n\tat org.apache.spark.scheduler.DAGSchedulerEventProcessLoop.onReceive(DAGScheduler.scala:2095)\r\n\tat org.apache.spark.scheduler.DAGSchedulerEventProcessLoop.onReceive(DAGScheduler.scala:2084)\r\n\tat org.apache.spark.util.EventLoop$$anon$1.run(EventLoop.scala:49)\r\n\tat org.apache.spark.scheduler.DAGScheduler.runJob(DAGScheduler.scala:759)\r\n\tat org.apache.spark.SparkContext.runJob(SparkContext.scala:2061)\r\n\tat org.apache.spark.SparkContext.runJob(SparkContext.scala:2082)\r\n\tat org.apache.spark.SparkContext.runJob(SparkContext.scala:2101)\r\n\tat org.apache.spark.SparkContext.runJob(SparkContext.scala:2126)\r\n\tat org.apache.spark.rdd.RDD$$anonfun$collect$1.apply(RDD.scala:990)\r\n\tat org.apache.spark.rdd.RDDOperationScope$.withScope(RDDOperationScope.scala:151)\r\n\tat org.apache.spark.rdd.RDDOperationScope$.withScope(RDDOperationScope.scala:112)\r\n\tat org.apache.spark.rdd.RDD.withScope(RDD.scala:385)\r\n\tat org.apache.spark.rdd.RDD.collect(RDD.scala:989)\r\n\tat org.apache.spark.sql.execution.SparkPlan.executeCollect(SparkPlan.scala:299)\r\n\tat org.apache.spark.sql.Dataset$$anonfun$count$1.apply(Dataset.scala:2836)\r\n\tat org.apache.spark.sql.Dataset$$anonfun$count$1.apply(Dataset.scala:2835)\r\n\tat org.apache.spark.sql.Dataset$$anonfun$52.apply(Dataset.scala:3370)\r\n\tat org.apache.spark.sql.execution.SQLExecution$$anonfun$withNewExecutionId$1.apply(SQLExecution.scala:80)\r\n\tat org.apache.spark.sql.execution.SQLExecution$.withSQLConfPropagated(SQLExecution.scala:127)\r\n\tat org.apache.spark.sql.execution.SQLExecution$.withNewExecutionId(SQLExecution.scala:75)\r\n\tat org.apache.spark.sql.Dataset.org$apache$spark$sql$Dataset$$withAction(Dataset.scala:3369)\r\n\tat org.apache.spark.sql.Dataset.count(Dataset.scala:2835)\r\n\tat sun.reflect.NativeMethodAccessorImpl.invoke0(Native Method)\r\n\tat sun.reflect.NativeMethodAccessorImpl.invoke(NativeMethodAccessorImpl.java:62)\r\n\tat sun.reflect.DelegatingMethodAccessorImpl.invoke(DelegatingMethodAccessorImpl.java:43)\r\n\tat java.lang.reflect.Method.invoke(Method.java:498)\r\n\tat py4j.reflection.MethodInvoker.invoke(MethodInvoker.java:244)\r\n\tat py4j.reflection.ReflectionEngine.invoke(ReflectionEngine.java:357)\r\n\tat py4j.Gateway.invoke(Gateway.java:282)\r\n\tat py4j.commands.AbstractCommand.invokeMethod(AbstractCommand.java:132)\r\n\tat py4j.commands.CallCommand.execute(CallCommand.java:79)\r\n\tat py4j.GatewayConnection.run(GatewayConnection.java:238)\r\n\tat java.lang.Thread.run(Thread.java:748)\r\nCaused by: java.io.FileNotFoundException: C:\\Users\\IrenaDJ\\AppData\\Local\\Temp\\blockmgr-4f297151-eb73-4d20-b9f7-1103452cbb9b\\2f\\temp_shuffle_c9d886ac-2607-444c-ab57-a7550f6c4be1 (The system cannot find the path specified)\r\n\tat java.io.FileOutputStream.open0(Native Method)\r\n\tat java.io.FileOutputStream.open(FileOutputStream.java:270)\r\n\tat java.io.FileOutputStream.<init>(FileOutputStream.java:213)\r\n\tat org.apache.spark.storage.DiskBlockObjectWriter.initialize(DiskBlockObjectWriter.scala:103)\r\n\tat org.apache.spark.storage.DiskBlockObjectWriter.open(DiskBlockObjectWriter.scala:116)\r\n\tat org.apache.spark.storage.DiskBlockObjectWriter.write(DiskBlockObjectWriter.scala:237)\r\n\tat org.apache.spark.shuffle.sort.BypassMergeSortShuffleWriter.write(BypassMergeSortShuffleWriter.java:151)\r\n\tat org.apache.spark.scheduler.ShuffleMapTask.runTask(ShuffleMapTask.scala:99)\r\n\tat org.apache.spark.scheduler.ShuffleMapTask.runTask(ShuffleMapTask.scala:55)\r\n\tat org.apache.spark.scheduler.Task.run(Task.scala:123)\r\n\tat org.apache.spark.executor.Executor$TaskRunner$$anonfun$10.apply(Executor.scala:408)\r\n\tat org.apache.spark.util.Utils$.tryWithSafeFinally(Utils.scala:1360)\r\n\tat org.apache.spark.executor.Executor$TaskRunner.run(Executor.scala:414)\r\n\tat java.util.concurrent.ThreadPoolExecutor.runWorker(ThreadPoolExecutor.java:1149)\r\n\tat java.util.concurrent.ThreadPoolExecutor$Worker.run(ThreadPoolExecutor.java:624)\r\n\t... 1 more\r\n"
     ]
    }
   ],
   "source": [
    "base.count()"
   ]
  },
  {
   "cell_type": "code",
   "execution_count": 29,
   "metadata": {},
   "outputs": [],
   "source": [
    "final = base.orderBy(base['count'], ascending = False)"
   ]
  },
  {
   "cell_type": "code",
   "execution_count": 32,
   "metadata": {},
   "outputs": [],
   "source": [
    "final = final \\\n",
    "    .groupBy(\"hour\", \"dayofyear\", \"month\", \"station\") \\\n",
    "    .agg(F.first(\"count\").alias(\"count\"), F.first(\"air_temp\").alias(\"air_temp\"), F.first(\"visibility\").alias(\"visibility\"), \\\n",
    "    F.first(\"wind_speed\").alias(\"wind_speed\"), \\\n",
    "    F.first(\"weather_class\").alias(\"weather_class\"))"
   ]
  },
  {
   "cell_type": "code",
   "execution_count": 35,
   "metadata": {},
   "outputs": [],
   "source": [
    "final.write.parquet(\"G:\\\\Master\\\\Big Data\\\\Data\\\\D.C\\\\New\\\\grand_dataset.parquet\")"
   ]
  },
  {
   "cell_type": "code",
   "execution_count": 36,
   "metadata": {},
   "outputs": [
    {
     "output_type": "execute_result",
     "data": {
      "text/plain": [
       "1286254"
      ]
     },
     "metadata": {},
     "execution_count": 36
    }
   ],
   "source": [
    "final.count()"
   ]
  },
  {
   "cell_type": "code",
   "execution_count": null,
   "metadata": {},
   "outputs": [],
   "source": []
  }
 ]
}