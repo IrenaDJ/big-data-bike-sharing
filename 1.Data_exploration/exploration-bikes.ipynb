{
 "metadata": {
  "language_info": {
   "codemirror_mode": {
    "name": "ipython",
    "version": 3
   },
   "file_extension": ".py",
   "mimetype": "text/x-python",
   "name": "python",
   "nbconvert_exporter": "python",
   "pygments_lexer": "ipython3",
   "version": "3.7.9-final"
  },
  "orig_nbformat": 2,
  "kernelspec": {
   "name": "Python 3.7.9 64-bit ('bigdata': conda)",
   "display_name": "Python 3.7.9 64-bit ('bigdata': conda)",
   "metadata": {
    "interpreter": {
     "hash": "40e50a53370bcdeb27a80424468b60995c94b295e609bd60d133ab3a198646dd"
    }
   }
  }
 },
 "nbformat": 4,
 "nbformat_minor": 2,
 "cells": [
  {
   "cell_type": "markdown",
   "metadata": {},
   "source": [
    "# 2. Bike stations and usage data\n",
    "\n",
    "In this notebook, preprocessing and the exploration of the bike stations and bike check-ins data is done. Data from Washington D.C. downloaded from https://www.capitalbikeshare.com/system-data"
   ]
  },
  {
   "cell_type": "code",
   "execution_count": 1,
   "metadata": {},
   "outputs": [],
   "source": [
    "from pyspark.sql import SparkSession\n",
    "from pyspark.sql import functions as F\n",
    "from pyspark.sql.types import *"
   ]
  },
  {
   "cell_type": "code",
   "execution_count": 2,
   "metadata": {},
   "outputs": [],
   "source": [
    "spark = SparkSession.builder.appName('BigData').getOrCreate()\n",
    "spark.conf.set(\"spark.sql.repl.eagerEval.enabled\", True)"
   ]
  },
  {
   "cell_type": "code",
   "execution_count": 3,
   "metadata": {},
   "outputs": [],
   "source": [
    "stations = spark.read.option(\"header\", True).csv(\"hdfs://localhost:9000/Data/D.C/New/stations.csv\")"
   ]
  },
  {
   "cell_type": "code",
   "execution_count": 4,
   "metadata": {
    "tags": []
   },
   "outputs": [
    {
     "output_type": "execute_result",
     "data": {
      "text/plain": "+---+--------------------+------------+------------------+-----------------+------------------+---------+------+-----------+-----------+---------+------+-------+------------+----------------+\n| id|                name|terminalName|lastCommWithServer|              lat|              long|installed|locked|installDate|removalDate|temporary|public|nbBikes|nbEmptyDocks|latestUpdateTime|\n+---+--------------------+------------+------------------+-----------------+------------------+---------+------+-----------+-----------+---------+------+-------+------------+----------------+\n|  1| Eads St & 15th St S|       31000|     1590835639505|        38.858971|         -77.05323|     true| false|          0|       null|    false|  true|     12|           2|   1590827288583|\n|  2| 18th St & S Eads St|       31001|     1590835561779|         38.85725|         -77.05332|     true| false|          0|       null|    false|  true|      2|           9|   1590826086864|\n|  3|Crystal Dr & 20th...|       31002|     1590835597498|        38.856425|        -77.049232|     true| false|          0|       null|    false|  true|     13|           4|   1590826087288|\n|  4|Crystal Dr & 15th...|       31003|     1590835631929|         38.86017|        -77.049593|     true| false|          0|       null|    false|  true|     10|           0|   1590801415972|\n|  5|Aurora Hills Cmty...|       31004|     1590835590411|        38.857866|         -77.05949|     true| false|          0|       null|    false|  true|      0|          11|   1590825786529|\n|  6|Pentagon City Met...|       31005|     1590835594427|        38.862303|        -77.059936|     true| false|          0|       null|    false|  true|     19|           0|   1590828803946|\n|  7|Army Navy Dr & S ...|       31006|     1590835550630|          38.8637|          -77.0633|     true| false|          0|       null|    false|  true|      9|           6|   1590826087311|\n|  8|Crystal City Metr...|       31007|     1590835577737|38.85740496261504|-77.05113172531128|     true| false|          0|       null|    false|  true|     18|           1|   1590829423555|\n| 10|Crystal Dr & 27th...|       31009|     1590835553998|        38.848466|        -77.051514|     true| false|          0|       null|    false|  true|      4|           6|   1590826386239|\n| 11|S Glebe Rd & Poto...|       31010|     1590835639782|          38.8426|          -77.0502|     true| false|          0|       null|    false|  true|      5|           6|   1590825786515|\n+---+--------------------+------------+------------------+-----------------+------------------+---------+------+-----------+-----------+---------+------+-------+------------+----------------+",
      "text/html": "<table border='1'>\n<tr><th>id</th><th>name</th><th>terminalName</th><th>lastCommWithServer</th><th>lat</th><th>long</th><th>installed</th><th>locked</th><th>installDate</th><th>removalDate</th><th>temporary</th><th>public</th><th>nbBikes</th><th>nbEmptyDocks</th><th>latestUpdateTime</th></tr>\n<tr><td>1</td><td>Eads St &amp; 15th St S</td><td>31000</td><td>1590835639505</td><td>38.858971</td><td>-77.05323</td><td>true</td><td>false</td><td>0</td><td>null</td><td>false</td><td>true</td><td>12</td><td>2</td><td>1590827288583</td></tr>\n<tr><td>2</td><td>18th St &amp; S Eads St</td><td>31001</td><td>1590835561779</td><td>38.85725</td><td>-77.05332</td><td>true</td><td>false</td><td>0</td><td>null</td><td>false</td><td>true</td><td>2</td><td>9</td><td>1590826086864</td></tr>\n<tr><td>3</td><td>Crystal Dr &amp; 20th...</td><td>31002</td><td>1590835597498</td><td>38.856425</td><td>-77.049232</td><td>true</td><td>false</td><td>0</td><td>null</td><td>false</td><td>true</td><td>13</td><td>4</td><td>1590826087288</td></tr>\n<tr><td>4</td><td>Crystal Dr &amp; 15th...</td><td>31003</td><td>1590835631929</td><td>38.86017</td><td>-77.049593</td><td>true</td><td>false</td><td>0</td><td>null</td><td>false</td><td>true</td><td>10</td><td>0</td><td>1590801415972</td></tr>\n<tr><td>5</td><td>Aurora Hills Cmty...</td><td>31004</td><td>1590835590411</td><td>38.857866</td><td>-77.05949</td><td>true</td><td>false</td><td>0</td><td>null</td><td>false</td><td>true</td><td>0</td><td>11</td><td>1590825786529</td></tr>\n<tr><td>6</td><td>Pentagon City Met...</td><td>31005</td><td>1590835594427</td><td>38.862303</td><td>-77.059936</td><td>true</td><td>false</td><td>0</td><td>null</td><td>false</td><td>true</td><td>19</td><td>0</td><td>1590828803946</td></tr>\n<tr><td>7</td><td>Army Navy Dr &amp; S ...</td><td>31006</td><td>1590835550630</td><td>38.8637</td><td>-77.0633</td><td>true</td><td>false</td><td>0</td><td>null</td><td>false</td><td>true</td><td>9</td><td>6</td><td>1590826087311</td></tr>\n<tr><td>8</td><td>Crystal City Metr...</td><td>31007</td><td>1590835577737</td><td>38.85740496261504</td><td>-77.05113172531128</td><td>true</td><td>false</td><td>0</td><td>null</td><td>false</td><td>true</td><td>18</td><td>1</td><td>1590829423555</td></tr>\n<tr><td>10</td><td>Crystal Dr &amp; 27th...</td><td>31009</td><td>1590835553998</td><td>38.848466</td><td>-77.051514</td><td>true</td><td>false</td><td>0</td><td>null</td><td>false</td><td>true</td><td>4</td><td>6</td><td>1590826386239</td></tr>\n<tr><td>11</td><td>S Glebe Rd &amp; Poto...</td><td>31010</td><td>1590835639782</td><td>38.8426</td><td>-77.0502</td><td>true</td><td>false</td><td>0</td><td>null</td><td>false</td><td>true</td><td>5</td><td>6</td><td>1590825786515</td></tr>\n</table>\n"
     },
     "metadata": {},
     "execution_count": 4
    }
   ],
   "source": [
    "stations.limit(10)"
   ]
  },
  {
   "cell_type": "code",
   "execution_count": 5,
   "metadata": {},
   "outputs": [],
   "source": [
    "stations = stations.select('id', 'name', 'terminalName', 'lat', 'long', 'nbBikes', 'nbEmptyDocks')"
   ]
  },
  {
   "cell_type": "code",
   "execution_count": 6,
   "metadata": {
    "tags": []
   },
   "outputs": [
    {
     "output_type": "stream",
     "name": "stdout",
     "text": "root\n |-- id: string (nullable = true)\n |-- name: string (nullable = true)\n |-- terminalName: string (nullable = true)\n |-- lat: string (nullable = true)\n |-- long: string (nullable = true)\n |-- nbBikes: string (nullable = true)\n |-- nbEmptyDocks: string (nullable = true)\n\n"
    }
   ],
   "source": [
    "stations.printSchema()"
   ]
  },
  {
   "cell_type": "code",
   "execution_count": 7,
   "metadata": {},
   "outputs": [],
   "source": [
    "stations = stations.withColumn('lat', stations.lat.cast(DoubleType()))\n",
    "stations = stations.withColumn('long', stations.long.cast(DoubleType()))\n",
    "stations = stations.withColumn('nbBikes', stations.nbBikes.cast(IntegerType()))\n",
    "stations = stations.withColumn('nbEmptyDocks', stations.nbEmptyDocks.cast(IntegerType()))"
   ]
  },
  {
   "cell_type": "code",
   "execution_count": 8,
   "metadata": {},
   "outputs": [
    {
     "output_type": "display_data",
     "data": {
      "text/plain": "Map(center=[38.900497, -77.007507], controls=(ZoomControl(options=['position', 'zoom_in_text', 'zoom_in_title'…",
      "application/vnd.jupyter.widget-view+json": {
       "version_major": 2,
       "version_minor": 0,
       "model_id": "51e9405b01184bcdab72dcb0de28b5d8"
      }
     },
     "metadata": {}
    }
   ],
   "source": [
    "from ipyleaflet import Map, Marker, MarkerCluster\n",
    "\n",
    "station_rows = stations.collect()\n",
    "markers = [Marker(location=(x.lat, x.long)) for x in station_rows]\n",
    "\n",
    "m = Map(center=(38.900497, -77.007507), zoom=10)\n",
    "\n",
    "marker_cluster = MarkerCluster(\n",
    "    markers=(markers)\n",
    ")\n",
    "\n",
    "m.add_layer(marker_cluster);\n",
    "\n",
    "m"
   ]
  },
  {
   "cell_type": "code",
   "execution_count": 9,
   "metadata": {},
   "outputs": [],
   "source": [
    "#COLLECT BIKE USAGE DATA FOR ALL MONTHS\n",
    "bike_data_raw = spark.read.option(\"header\", True).csv(\"hdfs://localhost:9000/Data/D.C/New/bikedata/*-capitalbikeshare-tripdata/*-capitalbikeshare-tripdata.csv\")\n",
    "bike_data = bike_data_raw"
   ]
  },
  {
   "cell_type": "code",
   "execution_count": 11,
   "metadata": {
    "tags": []
   },
   "outputs": [
    {
     "output_type": "execute_result",
     "data": {
      "text/plain": "+--------+-------------------+-------------------+--------------------+--------------------+------------------+--------------------+-----------+-----------+\n|Duration|         Start date|           End date|Start station number|       Start station|End station number|         End station|Bike number|Member type|\n+--------+-------------------+-------------------+--------------------+--------------------+------------------+--------------------+-----------+-----------+\n|     357|2019-08-01 00:00:34|2019-08-01 00:06:31|               31117|15th & Euclid St  NW|             31115|Columbia Rd & Geo...|     W21052|     Member|\n|    1100|2019-08-01 00:01:48|2019-08-01 00:20:09|               31407|14th St & Colorad...|             31115|Columbia Rd & Geo...|     W01101|     Member|\n|    1406|2019-08-01 00:04:04|2019-08-01 00:27:31|               31407|14th St & Colorad...|             31234|20th & O St NW / ...|     W20870|     Casual|\n|    3667|2019-08-01 00:05:09|2019-08-01 01:06:16|               31907|Franklin St & S W...|             31907|Franklin St & S W...|     W00966|     Member|\n|     282|2019-08-01 00:05:13|2019-08-01 00:09:56|               31201|      15th & P St NW|             31234|20th & O St NW / ...|     W20443|     Member|\n|    3596|2019-08-01 00:05:14|2019-08-01 01:05:10|               31907|Franklin St & S W...|             31907|Franklin St & S W...|     W21108|     Member|\n|    1095|2019-08-01 00:05:41|2019-08-01 00:23:57|               31246|M St & Pennsylvan...|             31295|   Potomac & M St NW|     W01369|     Casual|\n|     527|2019-08-01 00:05:59|2019-08-01 00:14:47|               31272|Washington & Inde...|             31269|3rd St & Pennsylv...|     W20165|     Casual|\n|     619|2019-08-01 00:06:14|2019-08-01 00:16:33|               31218|L'Enfant Plaza / ...|             31650|       1st & M St SE|     W01248|     Member|\n|    1000|2019-08-01 00:06:40|2019-08-01 00:23:21|               31246|M St & Pennsylvan...|             31295|   Potomac & M St NW|     W00222|     Member|\n+--------+-------------------+-------------------+--------------------+--------------------+------------------+--------------------+-----------+-----------+",
      "text/html": "<table border='1'>\n<tr><th>Duration</th><th>Start date</th><th>End date</th><th>Start station number</th><th>Start station</th><th>End station number</th><th>End station</th><th>Bike number</th><th>Member type</th></tr>\n<tr><td>357</td><td>2019-08-01 00:00:34</td><td>2019-08-01 00:06:31</td><td>31117</td><td>15th &amp; Euclid St  NW</td><td>31115</td><td>Columbia Rd &amp; Geo...</td><td>W21052</td><td>Member</td></tr>\n<tr><td>1100</td><td>2019-08-01 00:01:48</td><td>2019-08-01 00:20:09</td><td>31407</td><td>14th St &amp; Colorad...</td><td>31115</td><td>Columbia Rd &amp; Geo...</td><td>W01101</td><td>Member</td></tr>\n<tr><td>1406</td><td>2019-08-01 00:04:04</td><td>2019-08-01 00:27:31</td><td>31407</td><td>14th St &amp; Colorad...</td><td>31234</td><td>20th &amp; O St NW / ...</td><td>W20870</td><td>Casual</td></tr>\n<tr><td>3667</td><td>2019-08-01 00:05:09</td><td>2019-08-01 01:06:16</td><td>31907</td><td>Franklin St &amp; S W...</td><td>31907</td><td>Franklin St &amp; S W...</td><td>W00966</td><td>Member</td></tr>\n<tr><td>282</td><td>2019-08-01 00:05:13</td><td>2019-08-01 00:09:56</td><td>31201</td><td>15th &amp; P St NW</td><td>31234</td><td>20th &amp; O St NW / ...</td><td>W20443</td><td>Member</td></tr>\n<tr><td>3596</td><td>2019-08-01 00:05:14</td><td>2019-08-01 01:05:10</td><td>31907</td><td>Franklin St &amp; S W...</td><td>31907</td><td>Franklin St &amp; S W...</td><td>W21108</td><td>Member</td></tr>\n<tr><td>1095</td><td>2019-08-01 00:05:41</td><td>2019-08-01 00:23:57</td><td>31246</td><td>M St &amp; Pennsylvan...</td><td>31295</td><td>Potomac &amp; M St NW</td><td>W01369</td><td>Casual</td></tr>\n<tr><td>527</td><td>2019-08-01 00:05:59</td><td>2019-08-01 00:14:47</td><td>31272</td><td>Washington &amp; Inde...</td><td>31269</td><td>3rd St &amp; Pennsylv...</td><td>W20165</td><td>Casual</td></tr>\n<tr><td>619</td><td>2019-08-01 00:06:14</td><td>2019-08-01 00:16:33</td><td>31218</td><td>L&#x27;Enfant Plaza / ...</td><td>31650</td><td>1st &amp; M St SE</td><td>W01248</td><td>Member</td></tr>\n<tr><td>1000</td><td>2019-08-01 00:06:40</td><td>2019-08-01 00:23:21</td><td>31246</td><td>M St &amp; Pennsylvan...</td><td>31295</td><td>Potomac &amp; M St NW</td><td>W00222</td><td>Member</td></tr>\n</table>\n"
     },
     "metadata": {},
     "execution_count": 11
    }
   ],
   "source": [
    "bike_data.limit(10)"
   ]
  },
  {
   "cell_type": "code",
   "execution_count": 12,
   "metadata": {
    "tags": []
   },
   "outputs": [
    {
     "output_type": "stream",
     "name": "stdout",
     "text": "root\n |-- Duration: string (nullable = true)\n |-- Start date: string (nullable = true)\n |-- End date: string (nullable = true)\n |-- Start station number: string (nullable = true)\n |-- Start station: string (nullable = true)\n |-- End station number: string (nullable = true)\n |-- End station: string (nullable = true)\n |-- Bike number: string (nullable = true)\n |-- Member type: string (nullable = true)\n\n"
    }
   ],
   "source": [
    "bike_data.printSchema()"
   ]
  },
  {
   "cell_type": "code",
   "execution_count": 16,
   "metadata": {},
   "outputs": [
    {
     "output_type": "error",
     "ename": "SyntaxError",
     "evalue": "invalid syntax (<ipython-input-16-5b9784f11700>, line 5)",
     "traceback": [
      "\u001b[1;36m  File \u001b[1;32m\"<ipython-input-16-5b9784f11700>\"\u001b[1;36m, line \u001b[1;32m5\u001b[0m\n\u001b[1;33m    sample = sample.withColumn('end_date', F.to_timestamp(sample['End date'], \"yyyy-MM-dd HH:mm:ss\"))\u001b[0m\n\u001b[1;37m         ^\u001b[0m\n\u001b[1;31mSyntaxError\u001b[0m\u001b[1;31m:\u001b[0m invalid syntax\n"
     ]
    }
   ],
   "source": [
    "from pyspark.sql.functions import col, size\n",
    "\n",
    "sample = bike_data_raw.where((bike_data_raw['Start station number'] =='31114') & (bike_data_raw['End station number'] =='31282') & (bike_data_raw['Duration'] == '299'))\n",
    "sample = sample.withColumn('start_date', F.to_timestamp(lit(sample['Start date'], \"yyyy-MM-dd HH:mm:ss\"))\n",
    "sample = sample.withColumn('end_date', F.to_timestamp(sample['End date'], \"yyyy-MM-dd HH:mm:ss\"))"
   ]
  },
  {
   "cell_type": "code",
   "execution_count": 17,
   "metadata": {},
   "outputs": [
    {
     "output_type": "execute_result",
     "data": {
      "text/plain": "89"
     },
     "metadata": {},
     "execution_count": 17
    }
   ],
   "source": [
    "sample = bike_data_raw.where(bike_data_raw['Start date'].rlike('2019-03-31 02'))\n",
    "sample.count()"
   ]
  },
  {
   "cell_type": "code",
   "execution_count": 49,
   "metadata": {},
   "outputs": [],
   "source": [
    "bad_dates = sample.select('Start date')"
   ]
  },
  {
   "cell_type": "code",
   "execution_count": 50,
   "metadata": {
    "tags": []
   },
   "outputs": [
    {
     "output_type": "stream",
     "name": "stdout",
     "text": "+-------------------+\n|         Start date|\n+-------------------+\n|2019-03-31 02:00:49|\n|2019-03-31 02:01:21|\n|2019-03-31 02:02:01|\n|2019-03-31 02:02:51|\n|2019-03-31 02:03:01|\n|2019-03-31 02:03:38|\n|2019-03-31 02:04:11|\n|2019-03-31 02:04:14|\n|2019-03-31 02:04:52|\n|2019-03-31 02:05:39|\n|2019-03-31 02:05:50|\n|2019-03-31 02:06:43|\n|2019-03-31 02:07:07|\n|2019-03-31 02:07:20|\n|2019-03-31 02:07:28|\n|2019-03-31 02:08:43|\n|2019-03-31 02:09:28|\n|2019-03-31 02:09:58|\n|2019-03-31 02:10:10|\n|2019-03-31 02:10:26|\n+-------------------+\nonly showing top 20 rows\n\n"
    }
   ],
   "source": [
    "bad_dates.show()"
   ]
  },
  {
   "cell_type": "code",
   "execution_count": 53,
   "metadata": {},
   "outputs": [
    {
     "output_type": "execute_result",
     "data": {
      "text/plain": "+--------+-------------------+-------------------+--------------------+--------------------+------------------+--------------------+-----------+-----------+----------+--------+\n|Duration|         Start date|           End date|Start station number|       Start station|End station number|         End station|Bike number|Member type|start_date|end_date|\n+--------+-------------------+-------------------+--------------------+--------------------+------------------+--------------------+-----------+-----------+----------+--------+\n|     492|2019-03-31 02:00:49|2019-03-31 02:09:01|               31614|      11th & H St NE|             31630|15th & East Capit...|     W01424|     Member|      null|    null|\n|     861|2019-03-31 02:01:21|2019-03-31 02:15:43|               31202|      14th & R St NW|             31103|16th & Harvard St NW|     W01301|     Member|      null|    null|\n|     338|2019-03-31 02:02:01|2019-03-31 02:07:40|               31104|Adams Mill & Colu...|             31105|14th & Harvard St NW|     W20793|     Member|      null|    null|\n|    1639|2019-03-31 02:02:51|2019-03-31 02:30:10|               31508|Gallaudet / 8th S...|             31119|14th & Belmont St NW|      78240|     Member|      null|    null|\n|     267|2019-03-31 02:03:01|2019-03-31 02:07:29|               31102| 11th & Kenyon St NW|             31120|10th & Florida Av...|      75651|     Member|      null|    null|\n|     763|2019-03-31 02:03:38|2019-03-31 02:16:22|               31281|       8th & O St NW|             31611|      13th & H St NE|     W23790|     Member|      null|    null|\n|     481|2019-03-31 02:04:11|2019-03-31 02:12:13|               31114|18th St & Wyoming...|             31202|      14th & R St NW|     W01194|     Member|      null|    null|\n|     260|2019-03-31 02:04:14|2019-03-31 02:08:34|               31020|Wilson Blvd & N F...|             31029|N Veitch St & 20t...|     W00996|     Member|      null|    null|\n|    1131|2019-03-31 02:04:52|2019-03-31 02:23:44|               31114|18th St & Wyoming...|             31265|5th St & Massachu...|     W00504|     Member|      null|    null|\n|    1338|2019-03-31 02:05:39|2019-03-31 02:27:57|               31225|C & O Canal & Wis...|             31225|C & O Canal & Wis...|     W21930|     Casual|      null|    null|\n|    1337|2019-03-31 02:05:50|2019-03-31 02:28:07|               31225|C & O Canal & Wis...|             31225|C & O Canal & Wis...|     W22514|     Casual|      null|    null|\n|    1213|2019-03-31 02:06:43|2019-03-31 02:26:57|               31241|       Thomas Circle|             31650|       1st & M St SE|     W24001|     Member|      null|    null|\n|     263|2019-03-31 02:07:07|2019-03-31 02:11:31|               31125|      15th & W St NW|             31602|Park Rd & Holmead...|      78345|     Member|      null|    null|\n|     424|2019-03-31 02:07:20|2019-03-31 02:14:25|               31203|14th & Rhode Isla...|             31503|Florida Ave & R S...|     W20168|     Member|      null|    null|\n|     298|2019-03-31 02:07:28|2019-03-31 02:12:27|               31278|      18th & R St NW|             31229|New Hampshire Ave...|     W20850|     Member|      null|    null|\n|     844|2019-03-31 02:08:43|2019-03-31 02:22:48|               31258|    Lincoln Memorial|             31248|Smithsonian-Natio...|     W23928|     Member|      null|    null|\n|     299|2019-03-31 02:09:28|2019-03-31 02:14:28|               31114|18th St & Wyoming...|             31282|      16th & R St NW|     W22313|     Member|      null|    null|\n|    1087|2019-03-31 02:09:58|2019-03-31 02:28:05|               31225|C & O Canal & Wis...|             31225|C & O Canal & Wis...|     W21238|     Casual|      null|    null|\n|    1035|2019-03-31 02:10:10|2019-03-31 02:27:25|               31116|California St & F...|             31275|New Hampshire Ave...|     W21324|     Casual|      null|    null|\n|    1005|2019-03-31 02:10:26|2019-03-31 02:27:11|               31116|California St & F...|             31275|New Hampshire Ave...|     W22999|     Casual|      null|    null|\n+--------+-------------------+-------------------+--------------------+--------------------+------------------+--------------------+-----------+-----------+----------+--------+\nonly showing top 20 rows",
      "text/html": "<table border='1'>\n<tr><th>Duration</th><th>Start date</th><th>End date</th><th>Start station number</th><th>Start station</th><th>End station number</th><th>End station</th><th>Bike number</th><th>Member type</th><th>start_date</th><th>end_date</th></tr>\n<tr><td>492</td><td>2019-03-31 02:00:49</td><td>2019-03-31 02:09:01</td><td>31614</td><td>11th &amp; H St NE</td><td>31630</td><td>15th &amp; East Capit...</td><td>W01424</td><td>Member</td><td>null</td><td>null</td></tr>\n<tr><td>861</td><td>2019-03-31 02:01:21</td><td>2019-03-31 02:15:43</td><td>31202</td><td>14th &amp; R St NW</td><td>31103</td><td>16th &amp; Harvard St NW</td><td>W01301</td><td>Member</td><td>null</td><td>null</td></tr>\n<tr><td>338</td><td>2019-03-31 02:02:01</td><td>2019-03-31 02:07:40</td><td>31104</td><td>Adams Mill &amp; Colu...</td><td>31105</td><td>14th &amp; Harvard St NW</td><td>W20793</td><td>Member</td><td>null</td><td>null</td></tr>\n<tr><td>1639</td><td>2019-03-31 02:02:51</td><td>2019-03-31 02:30:10</td><td>31508</td><td>Gallaudet / 8th S...</td><td>31119</td><td>14th &amp; Belmont St NW</td><td>78240</td><td>Member</td><td>null</td><td>null</td></tr>\n<tr><td>267</td><td>2019-03-31 02:03:01</td><td>2019-03-31 02:07:29</td><td>31102</td><td>11th &amp; Kenyon St NW</td><td>31120</td><td>10th &amp; Florida Av...</td><td>75651</td><td>Member</td><td>null</td><td>null</td></tr>\n<tr><td>763</td><td>2019-03-31 02:03:38</td><td>2019-03-31 02:16:22</td><td>31281</td><td>8th &amp; O St NW</td><td>31611</td><td>13th &amp; H St NE</td><td>W23790</td><td>Member</td><td>null</td><td>null</td></tr>\n<tr><td>481</td><td>2019-03-31 02:04:11</td><td>2019-03-31 02:12:13</td><td>31114</td><td>18th St &amp; Wyoming...</td><td>31202</td><td>14th &amp; R St NW</td><td>W01194</td><td>Member</td><td>null</td><td>null</td></tr>\n<tr><td>260</td><td>2019-03-31 02:04:14</td><td>2019-03-31 02:08:34</td><td>31020</td><td>Wilson Blvd &amp; N F...</td><td>31029</td><td>N Veitch St &amp; 20t...</td><td>W00996</td><td>Member</td><td>null</td><td>null</td></tr>\n<tr><td>1131</td><td>2019-03-31 02:04:52</td><td>2019-03-31 02:23:44</td><td>31114</td><td>18th St &amp; Wyoming...</td><td>31265</td><td>5th St &amp; Massachu...</td><td>W00504</td><td>Member</td><td>null</td><td>null</td></tr>\n<tr><td>1338</td><td>2019-03-31 02:05:39</td><td>2019-03-31 02:27:57</td><td>31225</td><td>C &amp; O Canal &amp; Wis...</td><td>31225</td><td>C &amp; O Canal &amp; Wis...</td><td>W21930</td><td>Casual</td><td>null</td><td>null</td></tr>\n<tr><td>1337</td><td>2019-03-31 02:05:50</td><td>2019-03-31 02:28:07</td><td>31225</td><td>C &amp; O Canal &amp; Wis...</td><td>31225</td><td>C &amp; O Canal &amp; Wis...</td><td>W22514</td><td>Casual</td><td>null</td><td>null</td></tr>\n<tr><td>1213</td><td>2019-03-31 02:06:43</td><td>2019-03-31 02:26:57</td><td>31241</td><td>Thomas Circle</td><td>31650</td><td>1st &amp; M St SE</td><td>W24001</td><td>Member</td><td>null</td><td>null</td></tr>\n<tr><td>263</td><td>2019-03-31 02:07:07</td><td>2019-03-31 02:11:31</td><td>31125</td><td>15th &amp; W St NW</td><td>31602</td><td>Park Rd &amp; Holmead...</td><td>78345</td><td>Member</td><td>null</td><td>null</td></tr>\n<tr><td>424</td><td>2019-03-31 02:07:20</td><td>2019-03-31 02:14:25</td><td>31203</td><td>14th &amp; Rhode Isla...</td><td>31503</td><td>Florida Ave &amp; R S...</td><td>W20168</td><td>Member</td><td>null</td><td>null</td></tr>\n<tr><td>298</td><td>2019-03-31 02:07:28</td><td>2019-03-31 02:12:27</td><td>31278</td><td>18th &amp; R St NW</td><td>31229</td><td>New Hampshire Ave...</td><td>W20850</td><td>Member</td><td>null</td><td>null</td></tr>\n<tr><td>844</td><td>2019-03-31 02:08:43</td><td>2019-03-31 02:22:48</td><td>31258</td><td>Lincoln Memorial</td><td>31248</td><td>Smithsonian-Natio...</td><td>W23928</td><td>Member</td><td>null</td><td>null</td></tr>\n<tr><td>299</td><td>2019-03-31 02:09:28</td><td>2019-03-31 02:14:28</td><td>31114</td><td>18th St &amp; Wyoming...</td><td>31282</td><td>16th &amp; R St NW</td><td>W22313</td><td>Member</td><td>null</td><td>null</td></tr>\n<tr><td>1087</td><td>2019-03-31 02:09:58</td><td>2019-03-31 02:28:05</td><td>31225</td><td>C &amp; O Canal &amp; Wis...</td><td>31225</td><td>C &amp; O Canal &amp; Wis...</td><td>W21238</td><td>Casual</td><td>null</td><td>null</td></tr>\n<tr><td>1035</td><td>2019-03-31 02:10:10</td><td>2019-03-31 02:27:25</td><td>31116</td><td>California St &amp; F...</td><td>31275</td><td>New Hampshire Ave...</td><td>W21324</td><td>Casual</td><td>null</td><td>null</td></tr>\n<tr><td>1005</td><td>2019-03-31 02:10:26</td><td>2019-03-31 02:27:11</td><td>31116</td><td>California St &amp; F...</td><td>31275</td><td>New Hampshire Ave...</td><td>W22999</td><td>Casual</td><td>null</td><td>null</td></tr>\n</table>\nonly showing top 20 rows\n"
     },
     "metadata": {},
     "execution_count": 53
    }
   ],
   "source": [
    "sample = sample.withColumn('start_date', F.to_timestamp(F.lit(sample['Start date']), \"yyyy-MM-dd HH:mm:ss\"))\n",
    "sample = sample.withColumn('end_date', F.to_timestamp(F.lit(sample['End date']), \"yyyy-MM-dd HH:mm:ss\"))\n",
    "sample"
   ]
  },
  {
   "cell_type": "code",
   "execution_count": 30,
   "metadata": {},
   "outputs": [
    {
     "output_type": "execute_result",
     "data": {
      "text/plain": "+--------+-------------------+-------------------+--------------------+--------------------+------------------+--------------+-----------+-----------+----------+--------+\n|Duration|         Start date|           End date|Start station number|       Start station|End station number|   End station|Bike number|Member type|start_date|end_date|\n+--------+-------------------+-------------------+--------------------+--------------------+------------------+--------------+-----------+-----------+----------+--------+\n|     299|2019-03-31 02:09:28|2019-03-31 02:14:28|               31114|18th St & Wyoming...|             31282|16th & R St NW|     W22313|     Member|      null|    null|\n+--------+-------------------+-------------------+--------------------+--------------------+------------------+--------------+-----------+-----------+----------+--------+",
      "text/html": "<table border='1'>\n<tr><th>Duration</th><th>Start date</th><th>End date</th><th>Start station number</th><th>Start station</th><th>End station number</th><th>End station</th><th>Bike number</th><th>Member type</th><th>start_date</th><th>end_date</th></tr>\n<tr><td>299</td><td>2019-03-31 02:09:28</td><td>2019-03-31 02:14:28</td><td>31114</td><td>18th St &amp; Wyoming...</td><td>31282</td><td>16th &amp; R St NW</td><td>W22313</td><td>Member</td><td>null</td><td>null</td></tr>\n</table>\n"
     },
     "metadata": {},
     "execution_count": 30
    }
   ],
   "source": [
    "sample"
   ]
  },
  {
   "cell_type": "code",
   "execution_count": 36,
   "metadata": {},
   "outputs": [],
   "source": [
    "bike_data = bike_data.withColumn('duration', bike_data['Duration'].cast(IntegerType()))\n",
    "bike_data = bike_data.withColumn('start_date', F.to_timestamp(bike_data['Start date'], \"yyyy-MM-dd HH:mm:ss\"))\n",
    "bike_data = bike_data.withColumn('end_date', F.to_timestamp(bike_data['End date'], \"yyyy-MM-dd HH:mm:ss\"))\n",
    "bike_data = bike_data.withColumn('start_station_id', bike_data['Start station number'])\n",
    "bike_data = bike_data.withColumn('start_station_name', bike_data['Start station'])\n",
    "bike_data = bike_data.withColumn('end_station_id', bike_data['End station number'])\n",
    "bike_data = bike_data.withColumn('end_station_name', bike_data['End station'])\n",
    "bike_data = bike_data.withColumn('bike_number', bike_data['Bike number'])\n",
    "bike_data = bike_data.withColumn('member_type', bike_data['Member type'])\n",
    "\n",
    "bike_data = bike_data.select('duration', 'start_date', 'end_date', 'start_station_id', 'start_station_name', 'end_station_id', 'end_station_name', 'bike_number', 'member_type')"
   ]
  },
  {
   "cell_type": "markdown",
   "metadata": {},
   "source": [
    "Next thing we want to do is to extract all stations that are mentioned in bike usage data start and end locations."
   ]
  },
  {
   "cell_type": "code",
   "execution_count": 37,
   "metadata": {
    "tags": []
   },
   "outputs": [
    {
     "output_type": "stream",
     "name": "stdout",
     "text": "+--------+-------------------+-------------------+----------------+--------------------+--------------+--------------------+-----------+-----------+\n|duration|         start_date|           end_date|start_station_id|  start_station_name|end_station_id|    end_station_name|bike_number|member_type|\n+--------+-------------------+-------------------+----------------+--------------------+--------------+--------------------+-----------+-----------+\n|     677|               null|               null|           31202|      14th & R St NW|         31519|       1st & O St NW|     W00390|     Member|\n|    1830|               null|               null|           31401|14th St & Spring ...|         31408|        Takoma Metro|     W20879|     Member|\n|     578|               null|               null|           31045|Commerce St & Fay...|         31042|Market Square / K...|     W23700|     Member|\n|     925|               null|2019-03-31 03:04:50|           31125|      15th & W St NW|         31280|      11th & S St NW|     W01365|     Member|\n|     424|               null|2019-03-31 03:04:18|           31308| 39th & Veazey St NW|         32014|Friendship Hts Me...|     W01280|     Member|\n|     153|               null|               null|           31923|Columbia Pike & S...|         31068|Arlington Mill Cm...|     W21435|     Member|\n|     169|               null|               null|           31124| 14th & Irving St NW|         31401|14th St & Spring ...|     W20546|     Member|\n|     299|               null|2019-03-31 03:01:22|           31612|D St & Maryland A...|         31622|      13th & D St NE|     W21120|     Member|\n|    1075|               null|2019-03-31 03:12:24|           31111|      10th & U St NW|         31401|14th St & Spring ...|     W01054|     Member|\n|    1493|               null|               null|           31506|1st & Rhode Islan...|         31111|      10th & U St NW|      78158|     Member|\n|    1793|               null|2019-03-31 03:20:51|           31111|      10th & U St NW|         31296|Columbia & Ontari...|      78158|     Member|\n|     387|               null|               null|           31121|Calvert St & Wood...|         31305|Connecticut Ave &...|     W22081|     Casual|\n|     763|               null|               null|           31281|       8th & O St NW|         31611|      13th & H St NE|     W23790|     Member|\n|    1227|               null|               null|           31248|Smithsonian-Natio...|         31505|Eckington Pl & Q ...|     W23987|     Member|\n|     499|               null|               null|           31111|      10th & U St NW|         31223|Convention Center...|     W22030|     Member|\n|     483|               null|               null|           31611|      13th & H St NE|         31630|15th & East Capit...|     W00135|     Member|\n|    2353|               null|2019-03-31 03:36:33|           31109|       7th & T St NW|         31258|    Lincoln Memorial|     W23359|     Member|\n|     440|               null|               null|           31122| 16th & Irving St NW|         31123| 14th & Girard St NW|     W23090|     Member|\n|     608|               null|               null|           31070|Arlington Blvd & ...|         31923|Columbia Pike & S...|      78325|     Member|\n|    3009|               null|2019-03-31 03:35:35|           31109|       7th & T St NW|         31258|    Lincoln Memorial|     W01210|     Member|\n|     629|               null|               null|           31227|13th St & New Yor...|         31110|20th St & Florida...|     W23650|     Member|\n|     259|               null|               null|           31203|14th & Rhode Isla...|         31291|Vermont Ave & I S...|     W21254|     Member|\n|     876|               null|               null|           31109|       7th & T St NW|         31109|       7th & T St NW|     W00494|     Casual|\n|     837|               null|               null|           31503|Florida Ave & R S...|         31612|D St & Maryland A...|     W21120|     Member|\n|    1119|               null|2019-03-31 03:00:29|           31245|7th & R St NW / S...|         31513|Rhode Island Ave ...|     W21119|     Member|\n|     438|               null|               null|           31280|      11th & S St NW|         31102| 11th & Kenyon St NW|     W20254|     Casual|\n|    4503|               null|2019-03-31 03:55:15|           31109|       7th & T St NW|         31289|Henry Bacon Dr & ...|     W00461|     Casual|\n|     576|               null|               null|           31202|      14th & R St NW|         31207|Georgia Ave and F...|     W00865|     Member|\n|    1963|               null|               null|           31258|    Lincoln Memorial|         31505|Eckington Pl & Q ...|     W20746|     Casual|\n|     509|               null|               null|           31109|       7th & T St NW|         31109|       7th & T St NW|     W21259|     Member|\n|    1766|               null|2019-03-31 03:05:13|           31202|      14th & R St NW|         31269|3rd St & Pennsylv...|     W00249|     Member|\n|     860|               null|               null|           31278|      18th & R St NW|         31519|       1st & O St NW|     W23066|     Member|\n|    1096|               null|               null|           31202|      14th & R St NW|         31616|       3rd & H St NE|     W22545|     Member|\n|     414|               null|               null|           31102| 11th & Kenyon St NW|         31117|15th & Euclid St  NW|     W21196|     Casual|\n|     501|               null|               null|           31648|Potomac Ave & Hal...|         31609|Maine Ave & 7th S...|     W00304|     Member|\n|     724|               null|               null|           31298|      15th & M St NW|         31256|      10th & E St NW|     W21736|     Casual|\n|    1530|               null|2019-03-31 03:15:12|           31111|      10th & U St NW|         31015|Rosslyn Metro / W...|     W20849|     Casual|\n|     448|               null|               null|           31207|Georgia Ave and F...|         31404|  9th & Upshur St NW|     W23626|     Member|\n|     492|               null|               null|           31614|      11th & H St NE|         31630|15th & East Capit...|     W01424|     Member|\n|    2614|               null|2019-03-31 03:42:14|           31109|       7th & T St NW|         31258|    Lincoln Memorial|     W00494|     Casual|\n|     338|               null|               null|           31104|Adams Mill & Colu...|         31105|14th & Harvard St NW|     W20793|     Member|\n|    1213|               null|               null|           31241|       Thomas Circle|         31650|       1st & M St SE|     W24001|     Member|\n|     954|               null|2019-03-31 03:03:06|           31213|      17th & K St NW|         31122| 16th & Irving St NW|     W00128|     Member|\n|     861|               null|               null|           31202|      14th & R St NW|         31103|16th & Harvard St NW|     W01301|     Member|\n|    1337|               null|               null|           31225|C & O Canal & Wis...|         31225|C & O Canal & Wis...|     W22514|     Casual|\n|     409|               null|               null|           31114|18th St & Wyoming...|         31324|18th & New Hampsh...|     W21971|     Member|\n|    2798|               null|2019-03-31 03:09:37|           31111|      10th & U St NW|         31015|Rosslyn Metro / W...|     W22144|     Member|\n|     476|               null|               null|           31611|      13th & H St NE|         31618|4th & East Capito...|     W24087|     Member|\n|     477|               null|               null|           31114|18th St & Wyoming...|         31324|18th & New Hampsh...|     W20013|     Member|\n|     414|               null|               null|           31102| 11th & Kenyon St NW|         31117|15th & Euclid St  NW|     W01480|     Member|\n|     390|               null|               null|           31286|      11th & O St NW|         31506|1st & Rhode Islan...|     W21502|     Member|\n|    1467|               null|               null|           31324|18th & New Hampsh...|         31070|Arlington Blvd & ...|      75655|     Member|\n|     314|               null|               null|           31519|       1st & O St NW|         31506|1st & Rhode Islan...|     W00170|     Member|\n|     243|               null|               null|           31116|California St & F...|         31119|14th & Belmont St NW|     W23498|     Member|\n|     511|               null|               null|           31706|     Fairfax Village|         31706|     Fairfax Village|      78154|     Member|\n|     178|               null|               null|           31110|20th St & Florida...|         31324|18th & New Hampsh...|     W00445|     Member|\n|     454|               null|               null|           31239|Rhode Island & Co...|         31263|      10th & K St NW|     W23900|     Member|\n|     746|               null|               null|           31201|      15th & P St NW|         31228|       8th & H St NW|     W20506|     Member|\n|    1039|               null|               null|           31522|2nd St & Seaton P...|         31406| 14th & Upshur St NW|      78254|     Member|\n|    1731|               null|               null|           31107|Lamont & Mt Pleas...|         31107|Lamont & Mt Pleas...|     W00810|     Member|\n|     545|               null|               null|           31114|18th St & Wyoming...|         31257|22nd & I St NW / ...|     W00146|     Member|\n|     136|               null|               null|           31104|Adams Mill & Colu...|         31112|Harvard St & Adam...|     W23076|     Member|\n|    1255|               null|               null|           31116|California St & F...|         31205|      21st & I St NW|     W20351|     Casual|\n|     877|               null|               null|           31116|California St & F...|         31275|New Hampshire Ave...|     W20960|     Casual|\n|    1252|               null|2019-03-31 03:00:52|           31245|7th & R St NW / S...|         31513|Rhode Island Ave ...|     W23692|     Member|\n|     438|               null|2019-03-31 03:01:47|           31214|17th & Corcoran S...|         31103|16th & Harvard St NW|     W01088|     Member|\n|    3687|               null|2019-03-31 03:40:54|           31109|       7th & T St NW|         31258|    Lincoln Memorial|     W22513|     Casual|\n|     267|               null|               null|           31102| 11th & Kenyon St NW|         31120|10th & Florida Av...|      75651|     Member|\n|    3375|               null|2019-03-31 03:06:54|           31236|37th & O St NW / ...|         31236|37th & O St NW / ...|     W21413|     Casual|\n|    1005|               null|               null|           31116|California St & F...|         31275|New Hampshire Ave...|     W22999|     Casual|\n|    1035|               null|               null|           31116|California St & F...|         31275|New Hampshire Ave...|     W21324|     Casual|\n|    1087|               null|               null|           31225|C & O Canal & Wis...|         31225|C & O Canal & Wis...|     W21238|     Casual|\n|     299|               null|               null|           31114|18th St & Wyoming...|         31282|      16th & R St NW|     W22313|     Member|\n|     844|               null|               null|           31258|    Lincoln Memorial|         31248|Smithsonian-Natio...|     W23928|     Member|\n|     298|               null|               null|           31278|      18th & R St NW|         31229|New Hampshire Ave...|     W20850|     Member|\n|     424|               null|               null|           31203|14th & Rhode Isla...|         31503|Florida Ave & R S...|     W20168|     Member|\n|     263|               null|               null|           31125|      15th & W St NW|         31602|Park Rd & Holmead...|      78345|     Member|\n|     879|               null|               null|           31278|      18th & R St NW|         31519|       1st & O St NW|     W01363|     Member|\n|     194|               null|               null|           31203|14th & Rhode Isla...|         31245|7th & R St NW / S...|     W23885|     Member|\n|    1338|               null|               null|           31225|C & O Canal & Wis...|         31225|C & O Canal & Wis...|     W21930|     Casual|\n|    1131|               null|               null|           31114|18th St & Wyoming...|         31265|5th St & Massachu...|     W00504|     Member|\n|     260|               null|               null|           31020|Wilson Blvd & N F...|         31029|N Veitch St & 20t...|     W00996|     Member|\n|     481|               null|               null|           31114|18th St & Wyoming...|         31202|      14th & R St NW|     W01194|     Member|\n|   21859|               null|2019-03-31 08:33:09|           31120|10th & Florida Av...|         31296|Columbia & Ontari...|      75651|     Member|\n|     706|               null|               null|           31255|      24th & N St NW|         31653|       7th & K St NW|     W01173|     Member|\n|    1639|               null|               null|           31508|Gallaudet / 8th S...|         31119|14th & Belmont St NW|      78240|     Member|\n|     510|               null|               null|           31200|Massachusetts Ave...|         31251|      12th & L St NW|     W23836|     Member|\n|     687|               null|2019-03-31 03:01:02|           31200|Massachusetts Ave...|         31305|Connecticut Ave &...|     W01063|     Member|\n|     620|               null|               null|           31202|      14th & R St NW|         31519|       1st & O St NW|     W01348|     Member|\n|     230|2019-01-01 00:04:48|2019-01-01 00:08:39|           31203|14th & Rhode Isla...|         31200|Massachusetts Ave...|     E00141|     Member|\n|    1549|2019-01-01 00:06:37|2019-01-01 00:32:27|           31321|15th St & Constit...|         31114|18th St & Wyoming...|     W24067|     Casual|\n|     177|2019-01-01 00:08:46|2019-01-01 00:11:44|           31104|Adams Mill & Colu...|         31323|Woodley Park Metr...|     W22654|     Casual|\n|     228|2019-01-01 00:08:47|2019-01-01 00:12:35|           31281|       8th & O St NW|         31280|      11th & S St NW|     W22336|     Member|\n|    1300|2019-01-01 00:12:29|2019-01-01 00:34:10|           31014|Lynn & 19th St North|         31923|Columbia Pike & S...|      70004|     Member|\n|    1202|2019-01-01 00:12:50|2019-01-01 00:32:53|           31618|4th & East Capito...|         31269|3rd St & Pennsylv...|     W20775|     Member|\n|     389|2019-01-01 00:14:18|2019-01-01 00:20:47|           31103|16th & Harvard St NW|         31126| 11th & Girard St NW|     W00761|     Member|\n|     322|2019-01-01 00:17:34|2019-01-01 00:22:57|           31022|Clarendon Metro /...|         31030|Lee Hwy & N Adams St|     W23797|     Member|\n|     987|2019-01-01 00:17:51|2019-01-01 00:34:19|           31404|  9th & Upshur St NW|         31118|     3rd & Elm St NW|     W20474|     Member|\n|     960|2019-01-01 00:18:19|2019-01-01 00:34:20|           31404|  9th & Upshur St NW|         31118|     3rd & Elm St NW|     W00006|     Member|\n|    1965|2019-01-01 00:19:54|2019-01-01 00:52:39|           31305|Connecticut Ave &...|         31126| 11th & Girard St NW|     W20546|     Member|\n+--------+-------------------+-------------------+----------------+--------------------+--------------+--------------------+-----------+-----------+\nonly showing top 100 rows\n\n"
    }
   ],
   "source": [
    "#HELP function\n",
    "#here is the mistake\n",
    "\n",
    "sorted_bikes = bike_data.sort('start_date')\n",
    "sorted_bikes.show(100)"
   ]
  },
  {
   "cell_type": "code",
   "execution_count": 13,
   "metadata": {
    "tags": []
   },
   "outputs": [],
   "source": [
    "start_stations = bike_data.select('start_station_id').distinct()\n",
    "start_stations = start_stations.withColumn('station_id', start_stations['start_station_id']).select('station_id')"
   ]
  },
  {
   "cell_type": "code",
   "execution_count": 14,
   "metadata": {
    "tags": []
   },
   "outputs": [],
   "source": [
    "end_stations = bike_data.select('end_station_id').distinct()\n",
    "end_stations = end_stations.withColumn('station_id', end_stations['end_station_id']).select('station_id')"
   ]
  },
  {
   "cell_type": "code",
   "execution_count": 15,
   "metadata": {},
   "outputs": [
    {
     "output_type": "execute_result",
     "data": {
      "text/plain": "581"
     },
     "metadata": {},
     "execution_count": 15
    }
   ],
   "source": [
    "end_stations.count()"
   ]
  },
  {
   "cell_type": "markdown",
   "metadata": {},
   "source": [
    "We have one different station, so we create a union and and collect all station information with relevant ids."
   ]
  },
  {
   "cell_type": "code",
   "execution_count": 16,
   "metadata": {
    "tags": []
   },
   "outputs": [
    {
     "output_type": "execute_result",
     "data": {
      "text/plain": "+----------+\n|station_id|\n+----------+\n|     31718|\n+----------+",
      "text/html": "<table border='1'>\n<tr><th>station_id</th></tr>\n<tr><td>31718</td></tr>\n</table>\n"
     },
     "metadata": {},
     "execution_count": 16
    }
   ],
   "source": [
    "#all mentioned stations difference 1 station\n",
    "start_stations.subtract(end_stations)"
   ]
  },
  {
   "cell_type": "code",
   "execution_count": 17,
   "metadata": {
    "tags": []
   },
   "outputs": [],
   "source": [
    "all_used_stations = start_stations.union(end_stations).distinct()\n",
    "used_stations = all_used_stations.join(stations, all_used_stations.station_id == stations.terminalName)"
   ]
  },
  {
   "cell_type": "markdown",
   "metadata": {},
   "source": [
    "We can see that we have a different number when joining used data with the originally listed ones. The difference is in 4 stations."
   ]
  },
  {
   "cell_type": "code",
   "execution_count": 18,
   "metadata": {
    "tags": []
   },
   "outputs": [
    {
     "output_type": "stream",
     "name": "stdout",
     "text": "582\n578\n"
    }
   ],
   "source": [
    "print(all_used_stations.count())\n",
    "print(used_stations.count())"
   ]
  },
  {
   "cell_type": "code",
   "execution_count": 19,
   "metadata": {
    "tags": []
   },
   "outputs": [
    {
     "output_type": "execute_result",
     "data": {
      "text/plain": "+----------+\n|station_id|\n+----------+\n|     31086|\n|     31008|\n|     32031|\n|     00000|\n+----------+",
      "text/html": "<table border='1'>\n<tr><th>station_id</th></tr>\n<tr><td>31086</td></tr>\n<tr><td>31008</td></tr>\n<tr><td>32031</td></tr>\n<tr><td>00000</td></tr>\n</table>\n"
     },
     "metadata": {},
     "execution_count": 19
    }
   ],
   "source": [
    "all_used_stations.select('station_id').subtract(stations.select('terminalName'))"
   ]
  },
  {
   "cell_type": "code",
   "execution_count": 20,
   "metadata": {
    "tags": []
   },
   "outputs": [],
   "source": [
    "undefined = bike_data.where(bike_data['start_station_id'].isin(\"31086\", \"00000\", \"31008\", \"32031\")).select('start_station_id', 'start_station_name')"
   ]
  },
  {
   "cell_type": "code",
   "execution_count": 21,
   "metadata": {
    "tags": []
   },
   "outputs": [
    {
     "output_type": "execute_result",
     "data": {
      "text/plain": "498"
     },
     "metadata": {},
     "execution_count": 21
    }
   ],
   "source": [
    "undefined.where(undefined['start_station_id'].like(\"00000\")).count()"
   ]
  },
  {
   "cell_type": "code",
   "execution_count": 22,
   "metadata": {
    "tags": []
   },
   "outputs": [],
   "source": [
    "undefined_distinct = undefined.select('start_station_name', 'start_station_id').distinct()"
   ]
  },
  {
   "cell_type": "code",
   "execution_count": 23,
   "metadata": {},
   "outputs": [],
   "source": [
    "undefined_list = undefined_distinct.collect()"
   ]
  },
  {
   "cell_type": "code",
   "execution_count": 24,
   "metadata": {},
   "outputs": [
    {
     "output_type": "execute_result",
     "data": {
      "text/plain": "'22nd & H St NW'"
     },
     "metadata": {},
     "execution_count": 24
    }
   ],
   "source": [
    "undefined_list[1]['start_station_name']"
   ]
  },
  {
   "cell_type": "code",
   "execution_count": 25,
   "metadata": {
    "tags": []
   },
   "outputs": [
    {
     "output_type": "execute_result",
     "data": {
      "text/plain": "+---+--------------+------------+-----------------+------------------+-------+------------+\n| id|          name|terminalName|              lat|              long|nbBikes|nbEmptyDocks|\n+---+--------------+------------+-----------------+------------------+-------+------------+\n|609|22nd & H St NW|       31127|38.89892546716842|-77.04885238395946|      0|          17|\n+---+--------------+------------+-----------------+------------------+-------+------------+",
      "text/html": "<table border='1'>\n<tr><th>id</th><th>name</th><th>terminalName</th><th>lat</th><th>long</th><th>nbBikes</th><th>nbEmptyDocks</th></tr>\n<tr><td>609</td><td>22nd &amp; H St NW</td><td>31127</td><td>38.89892546716842</td><td>-77.04885238395946</td><td>0</td><td>17</td></tr>\n</table>\n"
     },
     "metadata": {},
     "execution_count": 25
    }
   ],
   "source": [
    "stations.where(stations['name'].like('22nd & H St NW'))"
   ]
  },
  {
   "cell_type": "code",
   "execution_count": 26,
   "metadata": {},
   "outputs": [],
   "source": [
    "undefined_end = bike_data.where(bike_data['end_station_id'].isin(\"31086\", \"00000\", \"31008\", \"32031\")).select('end_station_id', 'end_station_name')"
   ]
  },
  {
   "cell_type": "code",
   "execution_count": 27,
   "metadata": {
    "tags": []
   },
   "outputs": [
    {
     "output_type": "execute_result",
     "data": {
      "text/plain": "487"
     },
     "metadata": {},
     "execution_count": 27
    }
   ],
   "source": [
    "undefined_end.where(undefined_end['end_station_id'].like(\"00000\")).count()"
   ]
  },
  {
   "cell_type": "code",
   "execution_count": 28,
   "metadata": {
    "tags": []
   },
   "outputs": [],
   "source": [
    "stations = stations.select('id', 'name', 'terminalName', 'lat', 'long', 'nbBikes', 'nbEmptyDocks')"
   ]
  },
  {
   "cell_type": "code",
   "execution_count": 29,
   "metadata": {},
   "outputs": [
    {
     "output_type": "execute_result",
     "data": {
      "text/plain": "596"
     },
     "metadata": {},
     "execution_count": 29
    }
   ],
   "source": [
    "stations.count()"
   ]
  },
  {
   "cell_type": "code",
   "execution_count": 30,
   "metadata": {
    "tags": []
   },
   "outputs": [
    {
     "output_type": "execute_result",
     "data": {
      "text/plain": "+---+--------------------+------------+---------+---------+-------+------------+\n| id|                name|terminalName|      lat|     long|nbBikes|nbEmptyDocks|\n+---+--------------------+------------+---------+---------+-------+------------+\n|597|Mount Vernon Ave ...|       31086|38.826213|-77.05864|      5|          10|\n+---+--------------------+------------+---------+---------+-------+------------+",
      "text/html": "<table border='1'>\n<tr><th>id</th><th>name</th><th>terminalName</th><th>lat</th><th>long</th><th>nbBikes</th><th>nbEmptyDocks</th></tr>\n<tr><td>597</td><td>Mount Vernon Ave ...</td><td>31086</td><td>38.826213</td><td>-77.05864</td><td>5</td><td>10</td></tr>\n</table>\n"
     },
     "metadata": {},
     "execution_count": 30
    }
   ],
   "source": [
    "station_columns = ['id', 'name', 'terminalName', 'lat', 'long', 'nbBikes', 'nbEmptyDocks']\n",
    "new_station = spark.createDataFrame([(597, 'Mount Vernon Ave & E Del Ray Ave', '31086', 38.826213, -77.058640, 5, 10)], station_columns)\n",
    "new_station"
   ]
  },
  {
   "cell_type": "code",
   "execution_count": 31,
   "metadata": {},
   "outputs": [],
   "source": [
    "stations = stations.union(new_station)"
   ]
  },
  {
   "cell_type": "code",
   "execution_count": 32,
   "metadata": {
    "tags": []
   },
   "outputs": [
    {
     "output_type": "execute_result",
     "data": {
      "text/plain": "+---+--------------------+------------+---------+---------+-------+------------+\n| id|                name|terminalName|      lat|     long|nbBikes|nbEmptyDocks|\n+---+--------------------+------------+---------+---------+-------+------------+\n|597|Mount Vernon Ave ...|       31086|38.826213|-77.05864|      5|          10|\n+---+--------------------+------------+---------+---------+-------+------------+",
      "text/html": "<table border='1'>\n<tr><th>id</th><th>name</th><th>terminalName</th><th>lat</th><th>long</th><th>nbBikes</th><th>nbEmptyDocks</th></tr>\n<tr><td>597</td><td>Mount Vernon Ave ...</td><td>31086</td><td>38.826213</td><td>-77.05864</td><td>5</td><td>10</td></tr>\n</table>\n"
     },
     "metadata": {},
     "execution_count": 32
    }
   ],
   "source": [
    "stations.where(stations['terminalName'].like('31086'))"
   ]
  },
  {
   "cell_type": "code",
   "execution_count": 33,
   "metadata": {},
   "outputs": [],
   "source": [
    "import pyspark.sql.functions as F\n",
    "\n",
    "bike_data = bike_data.withColumn('start_station_id', F.when(bike_data['start_station_id'].like('00000'), '31127').otherwise(bike_data['start_station_id']))\n",
    "bike_data = bike_data.withColumn('end_station_id', F.when(bike_data['end_station_id'].like('00000'), '31127').otherwise(bike_data['end_station_id']))"
   ]
  },
  {
   "cell_type": "code",
   "execution_count": 34,
   "metadata": {
    "tags": []
   },
   "outputs": [
    {
     "output_type": "execute_result",
     "data": {
      "text/plain": "2681728"
     },
     "metadata": {},
     "execution_count": 34
    }
   ],
   "source": [
    "bike_data.count()"
   ]
  },
  {
   "cell_type": "code",
   "execution_count": 35,
   "metadata": {},
   "outputs": [],
   "source": [
    "bike_data = bike_data.withColumn('start_station_id', F.when(bike_data['start_station_id'].isin('31008', '32031'), None).otherwise(bike_data['start_station_id']))\n",
    "bike_data = bike_data.withColumn('end_station_id', F.when(bike_data['end_station_id'].isin('31008', '32031'), None).otherwise(bike_data['end_station_id']))\n",
    "bike_data = bike_data.dropna(subset=['start_station_id', 'end_station_id'])"
   ]
  },
  {
   "cell_type": "code",
   "execution_count": 36,
   "metadata": {},
   "outputs": [
    {
     "output_type": "execute_result",
     "data": {
      "text/plain": "2681369"
     },
     "metadata": {},
     "execution_count": 36
    }
   ],
   "source": [
    "bike_data.count()"
   ]
  },
  {
   "cell_type": "code",
   "execution_count": 37,
   "metadata": {},
   "outputs": [],
   "source": [
    "all_used_stations = bike_data.select('start_station_id').distinct()\n",
    "used_stations = all_used_stations.join(stations, all_used_stations.start_station_id == stations.terminalName)"
   ]
  },
  {
   "cell_type": "code",
   "execution_count": 38,
   "metadata": {},
   "outputs": [
    {
     "output_type": "display_data",
     "data": {
      "text/plain": "Map(center=[38.900497, -77.007507], controls=(ZoomControl(options=['position', 'zoom_in_text', 'zoom_in_title'…",
      "application/vnd.jupyter.widget-view+json": {
       "version_major": 2,
       "version_minor": 0,
       "model_id": "cdc88f5e0b764bd5b259cabf74eb74a0"
      }
     },
     "metadata": {}
    }
   ],
   "source": [
    "from ipyleaflet import Map, Marker, MarkerCluster\n",
    "\n",
    "used_stations = used_stations.collect()\n",
    "used_markers = [Marker(location=(x.lat, x.long)) for x in used_stations]\n",
    "\n",
    "m = Map(center=(38.900497, -77.007507), zoom=10)\n",
    "\n",
    "marker_cluster = MarkerCluster(\n",
    "    markers=(used_markers)\n",
    ")\n",
    "\n",
    "m.add_layer(marker_cluster);\n",
    "\n",
    "m"
   ]
  },
  {
   "cell_type": "markdown",
   "metadata": {},
   "source": [
    "Now, let's calculate distance between stations."
   ]
  },
  {
   "cell_type": "code",
   "execution_count": 39,
   "metadata": {
    "tags": []
   },
   "outputs": [
    {
     "output_type": "stream",
     "name": "stdout",
     "text": "root\n |-- id: string (nullable = true)\n |-- name: string (nullable = true)\n |-- terminalName: string (nullable = true)\n |-- lat: double (nullable = true)\n |-- long: double (nullable = true)\n |-- nbBikes: long (nullable = true)\n |-- nbEmptyDocks: long (nullable = true)\n\n"
    }
   ],
   "source": [
    "stations.printSchema()"
   ]
  },
  {
   "cell_type": "code",
   "execution_count": 40,
   "metadata": {},
   "outputs": [],
   "source": [
    "from pyspark.sql.types import *\n",
    "from pyspark.sql import functions as F\n",
    "from math import radians, cos, sin, asin, sqrt\n",
    "\n",
    "#Haversine distance\n",
    "def get_distance(longit_a, latit_a, longit_b, latit_b):\n",
    "    # Transform to radians\n",
    "    longit_a, latit_a, longit_b, latit_b = map(radians, [longit_a,  latit_a, longit_b, latit_b])\n",
    "    dist_longit = longit_b - longit_a\n",
    "    dist_latit = latit_b - latit_a\n",
    "    # Calculate area\n",
    "    area = sin(dist_latit/2)**2 + cos(latit_a) * cos(latit_b) * sin(dist_longit/2)**2\n",
    "    # Calculate the central angle\n",
    "    central_angle = 2 * asin(sqrt(area))\n",
    "    radius = 6371\n",
    "    # Calculate Distance\n",
    "    distance = central_angle * radius * 1000\n",
    "    return abs(round(distance))"
   ]
  },
  {
   "cell_type": "code",
   "execution_count": 41,
   "metadata": {},
   "outputs": [],
   "source": [
    "#calculate distance between stations - first 2 for now\n",
    "udf_get_distance = F.udf(get_distance)\n",
    "stations_partial = stations.select('id', 'lat', 'long')"
   ]
  },
  {
   "cell_type": "code",
   "execution_count": 42,
   "metadata": {},
   "outputs": [],
   "source": [
    "station_pairs = (stations_partial.crossJoin(stations_partial).toDF(\n",
    "\"id_A\",\"lat_A\", \"long_A\", \"id_B\",  \n",
    " \"lat_B\", \"long_B\"))"
   ]
  },
  {
   "cell_type": "code",
   "execution_count": 43,
   "metadata": {},
   "outputs": [],
   "source": [
    "station_pairs = (station_pairs.filter(\n",
    "station_pairs.id_A != station_pairs.id_B))"
   ]
  },
  {
   "cell_type": "code",
   "execution_count": 44,
   "metadata": {},
   "outputs": [],
   "source": [
    "pairs_distance = station_pairs.withColumn(\"abs_distance\", udf_get_distance(\n",
    "station_pairs.long_A, station_pairs.lat_A,\n",
    "station_pairs.long_B, station_pairs.lat_B))"
   ]
  },
  {
   "cell_type": "code",
   "execution_count": 45,
   "metadata": {
    "tags": []
   },
   "outputs": [],
   "source": [
    "summary = pairs_distance.select(F.max(\"abs_distance\"))"
   ]
  },
  {
   "cell_type": "code",
   "execution_count": 46,
   "metadata": {},
   "outputs": [
    {
     "output_type": "execute_result",
     "data": {
      "text/plain": "+----+---------+---------+----+-----------------+------------------+------------+\n|id_A|    lat_A|   long_A|id_B|            lat_B|            long_B|abs_distance|\n+----+---------+---------+----+-----------------+------------------+------------+\n|   1|38.858971|-77.05323|   2|         38.85725|         -77.05332|         192|\n|   1|38.858971|-77.05323|   3|        38.856425|        -77.049232|         447|\n|   1|38.858971|-77.05323|   4|         38.86017|        -77.049593|         342|\n|   1|38.858971|-77.05323|   5|        38.857866|         -77.05949|         556|\n|   1|38.858971|-77.05323|   6|        38.862303|        -77.059936|         689|\n|   1|38.858971|-77.05323|   7|          38.8637|          -77.0633|        1018|\n|   1|38.858971|-77.05323|   8|38.85740496261504|-77.05113172531128|         252|\n|   1|38.858971|-77.05323|  10|        38.848466|        -77.051514|        1178|\n|   1|38.858971|-77.05323|  11|          38.8426|          -77.0502|        1839|\n|   1|38.858971|-77.05323|  12|          38.8533|          -77.0498|         697|\n|   1|38.858971|-77.05323|  13|        38.850688|         -77.05152|         933|\n|   1|38.858971|-77.05323|  14|          38.9003|          -77.0429|        4682|\n|   1|38.858971|-77.05323|  15|        38.917931|        -77.032112|        6806|\n|   1|38.858971|-77.05323|  16|        38.929464|        -77.027822|        8141|\n|   1|38.858971|-77.05323|  17|        38.926088|        -77.036536|        7602|\n|   1|38.858971|-77.05323|  18|        38.922925|        -77.042581|        7171|\n|   1|38.858971|-77.05323|  19|          38.9268|          -77.0322|        7759|\n|   1|38.858971|-77.05323|  20|        38.923203|        -77.047637|        7159|\n|   1|38.858971|-77.05323|  21|          38.9319|          -77.0388|        8205|\n|   1|38.858971|-77.05323|  22|          38.8767|          -77.0178|        3646|\n+----+---------+---------+----+-----------------+------------------+------------+\nonly showing top 20 rows",
      "text/html": "<table border='1'>\n<tr><th>id_A</th><th>lat_A</th><th>long_A</th><th>id_B</th><th>lat_B</th><th>long_B</th><th>abs_distance</th></tr>\n<tr><td>1</td><td>38.858971</td><td>-77.05323</td><td>2</td><td>38.85725</td><td>-77.05332</td><td>192</td></tr>\n<tr><td>1</td><td>38.858971</td><td>-77.05323</td><td>3</td><td>38.856425</td><td>-77.049232</td><td>447</td></tr>\n<tr><td>1</td><td>38.858971</td><td>-77.05323</td><td>4</td><td>38.86017</td><td>-77.049593</td><td>342</td></tr>\n<tr><td>1</td><td>38.858971</td><td>-77.05323</td><td>5</td><td>38.857866</td><td>-77.05949</td><td>556</td></tr>\n<tr><td>1</td><td>38.858971</td><td>-77.05323</td><td>6</td><td>38.862303</td><td>-77.059936</td><td>689</td></tr>\n<tr><td>1</td><td>38.858971</td><td>-77.05323</td><td>7</td><td>38.8637</td><td>-77.0633</td><td>1018</td></tr>\n<tr><td>1</td><td>38.858971</td><td>-77.05323</td><td>8</td><td>38.85740496261504</td><td>-77.05113172531128</td><td>252</td></tr>\n<tr><td>1</td><td>38.858971</td><td>-77.05323</td><td>10</td><td>38.848466</td><td>-77.051514</td><td>1178</td></tr>\n<tr><td>1</td><td>38.858971</td><td>-77.05323</td><td>11</td><td>38.8426</td><td>-77.0502</td><td>1839</td></tr>\n<tr><td>1</td><td>38.858971</td><td>-77.05323</td><td>12</td><td>38.8533</td><td>-77.0498</td><td>697</td></tr>\n<tr><td>1</td><td>38.858971</td><td>-77.05323</td><td>13</td><td>38.850688</td><td>-77.05152</td><td>933</td></tr>\n<tr><td>1</td><td>38.858971</td><td>-77.05323</td><td>14</td><td>38.9003</td><td>-77.0429</td><td>4682</td></tr>\n<tr><td>1</td><td>38.858971</td><td>-77.05323</td><td>15</td><td>38.917931</td><td>-77.032112</td><td>6806</td></tr>\n<tr><td>1</td><td>38.858971</td><td>-77.05323</td><td>16</td><td>38.929464</td><td>-77.027822</td><td>8141</td></tr>\n<tr><td>1</td><td>38.858971</td><td>-77.05323</td><td>17</td><td>38.926088</td><td>-77.036536</td><td>7602</td></tr>\n<tr><td>1</td><td>38.858971</td><td>-77.05323</td><td>18</td><td>38.922925</td><td>-77.042581</td><td>7171</td></tr>\n<tr><td>1</td><td>38.858971</td><td>-77.05323</td><td>19</td><td>38.9268</td><td>-77.0322</td><td>7759</td></tr>\n<tr><td>1</td><td>38.858971</td><td>-77.05323</td><td>20</td><td>38.923203</td><td>-77.047637</td><td>7159</td></tr>\n<tr><td>1</td><td>38.858971</td><td>-77.05323</td><td>21</td><td>38.9319</td><td>-77.0388</td><td>8205</td></tr>\n<tr><td>1</td><td>38.858971</td><td>-77.05323</td><td>22</td><td>38.8767</td><td>-77.0178</td><td>3646</td></tr>\n</table>\nonly showing top 20 rows\n"
     },
     "metadata": {},
     "execution_count": 46
    }
   ],
   "source": [
    "pairs_distance"
   ]
  },
  {
   "cell_type": "code",
   "execution_count": 47,
   "metadata": {
    "tags": []
   },
   "outputs": [
    {
     "output_type": "stream",
     "name": "stdout",
     "text": "root\n |-- duration: integer (nullable = true)\n |-- start_date: timestamp (nullable = true)\n |-- end_date: timestamp (nullable = true)\n |-- start_station_id: string (nullable = true)\n |-- start_station_name: string (nullable = true)\n |-- end_station_id: string (nullable = true)\n |-- end_station_name: string (nullable = true)\n |-- bike_number: string (nullable = true)\n |-- member_type: string (nullable = true)\n\n"
    }
   ],
   "source": [
    "bike_data.printSchema()"
   ]
  },
  {
   "cell_type": "code",
   "execution_count": 48,
   "metadata": {},
   "outputs": [
    {
     "output_type": "execute_result",
     "data": {
      "text/plain": "+-----------+-------+\n|member_type|  count|\n+-----------+-------+\n|     Member|2346033|\n|     Casual| 335336|\n+-----------+-------+",
      "text/html": "<table border='1'>\n<tr><th>member_type</th><th>count</th></tr>\n<tr><td>Member</td><td>2346033</td></tr>\n<tr><td>Casual</td><td>335336</td></tr>\n</table>\n"
     },
     "metadata": {},
     "execution_count": 48
    }
   ],
   "source": [
    "bike_data.groupBy('member_type').count()"
   ]
  },
  {
   "cell_type": "code",
   "execution_count": 49,
   "metadata": {},
   "outputs": [
    {
     "output_type": "execute_result",
     "data": {
      "text/plain": "+--------+-------------------+-------------------+----------------+--------------------+--------------+--------------------+-----------+-----------+\n|duration|         start_date|           end_date|start_station_id|  start_station_name|end_station_id|    end_station_name|bike_number|member_type|\n+--------+-------------------+-------------------+----------------+--------------------+--------------+--------------------+-----------+-----------+\n|     207|2019-09-01 00:00:27|2019-09-01 00:03:54|           31246|M St & Pennsylvan...|         31128|      23rd & M St NW|     W21128|     Member|\n|     726|2019-09-01 00:00:46|2019-09-01 00:12:52|           31124| 14th & Irving St NW|         31116|California St & F...|     W01208|     Member|\n|    4401|2019-09-01 00:00:48|2019-09-01 01:14:10|           31129|15th St & Pennsyl...|         31277|      17th & G St NW|     W23690|     Casual|\n|     388|2019-09-01 00:01:01|2019-09-01 00:07:30|           31648|Potomac Ave & Hal...|         31609|Maine Ave & 7th S...|     W20449|     Member|\n|     537|2019-09-01 00:01:09|2019-09-01 00:10:07|           31200|Massachusetts Ave...|         31229|New Hampshire Ave...|     W20206|     Member|\n|      89|2019-09-01 00:01:39|2019-09-01 00:03:08|           31232|7th & F St NW / N...|         31620|       5th & F St NW|     W00942|     Member|\n|     770|2019-09-01 00:02:05|2019-09-01 00:14:56|           31129|15th St & Pennsyl...|         31235|19th St & Constit...|     W23948|     Casual|\n|     422|2019-09-01 00:02:14|2019-09-01 00:09:16|           31237|25th St & Pennsyl...|         31293|  31st & Water St NW|     W00183|     Casual|\n|     774|2019-09-01 00:02:14|2019-09-01 00:15:08|           31129|15th St & Pennsyl...|         31235|19th St & Constit...|     W01337|     Casual|\n|     405|2019-09-01 00:03:02|2019-09-01 00:09:47|           31237|25th St & Pennsyl...|         31289|Henry Bacon Dr & ...|     W21345|     Member|\n|    1676|2019-09-01 00:03:06|2019-09-01 00:31:03|           32029|Offutt Ln & Chevy...|         32002|Bethesda Ave & Ar...|     W21391|     Member|\n|    1356|2019-09-01 00:03:28|2019-09-01 00:26:05|           31321|15th St & Constit...|         31307|3000 Connecticut ...|     W20442|     Member|\n|    1090|2019-09-01 00:03:39|2019-09-01 00:21:49|           31514|  Hamlin & 7th St NE|         31640|Maryland Ave & E ...|     W22030|     Member|\n|     525|2019-09-01 00:03:46|2019-09-01 00:12:32|           31277|      17th & G St NW|         31267|17th St & Massach...|     W21408|     Member|\n|     213|2019-09-01 00:04:03|2019-09-01 00:07:36|           31128|      23rd & M St NW|         31285|      22nd & P ST NW|     W22332|     Member|\n|     583|2019-09-01 00:04:36|2019-09-01 00:14:19|           31606|Potomac & Pennsyl...|         31652|       4th & M St SE|     W24030|     Member|\n|     142|2019-09-01 00:04:36|2019-09-01 00:06:58|           31104|Adams Mill & Colu...|         31106|Calvert & Biltmor...|     W20646|     Member|\n|     554|2019-09-01 00:05:00|2019-09-01 00:14:15|           31606|Potomac & Pennsyl...|         31652|       4th & M St SE|     W22967|     Member|\n|    1018|2019-09-01 00:05:05|2019-09-01 00:22:04|           31234|20th & O St NW / ...|         31627|       3rd & M St NE|     W20469|     Casual|\n|     900|2019-09-01 00:05:21|2019-09-01 00:20:21|           31229|New Hampshire Ave...|         31122| 16th & Irving St NW|     W20860|     Casual|\n+--------+-------------------+-------------------+----------------+--------------------+--------------+--------------------+-----------+-----------+\nonly showing top 20 rows",
      "text/html": "<table border='1'>\n<tr><th>duration</th><th>start_date</th><th>end_date</th><th>start_station_id</th><th>start_station_name</th><th>end_station_id</th><th>end_station_name</th><th>bike_number</th><th>member_type</th></tr>\n<tr><td>207</td><td>2019-09-01 00:00:27</td><td>2019-09-01 00:03:54</td><td>31246</td><td>M St &amp; Pennsylvan...</td><td>31128</td><td>23rd &amp; M St NW</td><td>W21128</td><td>Member</td></tr>\n<tr><td>726</td><td>2019-09-01 00:00:46</td><td>2019-09-01 00:12:52</td><td>31124</td><td>14th &amp; Irving St NW</td><td>31116</td><td>California St &amp; F...</td><td>W01208</td><td>Member</td></tr>\n<tr><td>4401</td><td>2019-09-01 00:00:48</td><td>2019-09-01 01:14:10</td><td>31129</td><td>15th St &amp; Pennsyl...</td><td>31277</td><td>17th &amp; G St NW</td><td>W23690</td><td>Casual</td></tr>\n<tr><td>388</td><td>2019-09-01 00:01:01</td><td>2019-09-01 00:07:30</td><td>31648</td><td>Potomac Ave &amp; Hal...</td><td>31609</td><td>Maine Ave &amp; 7th S...</td><td>W20449</td><td>Member</td></tr>\n<tr><td>537</td><td>2019-09-01 00:01:09</td><td>2019-09-01 00:10:07</td><td>31200</td><td>Massachusetts Ave...</td><td>31229</td><td>New Hampshire Ave...</td><td>W20206</td><td>Member</td></tr>\n<tr><td>89</td><td>2019-09-01 00:01:39</td><td>2019-09-01 00:03:08</td><td>31232</td><td>7th &amp; F St NW / N...</td><td>31620</td><td>5th &amp; F St NW</td><td>W00942</td><td>Member</td></tr>\n<tr><td>770</td><td>2019-09-01 00:02:05</td><td>2019-09-01 00:14:56</td><td>31129</td><td>15th St &amp; Pennsyl...</td><td>31235</td><td>19th St &amp; Constit...</td><td>W23948</td><td>Casual</td></tr>\n<tr><td>422</td><td>2019-09-01 00:02:14</td><td>2019-09-01 00:09:16</td><td>31237</td><td>25th St &amp; Pennsyl...</td><td>31293</td><td>31st &amp; Water St NW</td><td>W00183</td><td>Casual</td></tr>\n<tr><td>774</td><td>2019-09-01 00:02:14</td><td>2019-09-01 00:15:08</td><td>31129</td><td>15th St &amp; Pennsyl...</td><td>31235</td><td>19th St &amp; Constit...</td><td>W01337</td><td>Casual</td></tr>\n<tr><td>405</td><td>2019-09-01 00:03:02</td><td>2019-09-01 00:09:47</td><td>31237</td><td>25th St &amp; Pennsyl...</td><td>31289</td><td>Henry Bacon Dr &amp; ...</td><td>W21345</td><td>Member</td></tr>\n<tr><td>1676</td><td>2019-09-01 00:03:06</td><td>2019-09-01 00:31:03</td><td>32029</td><td>Offutt Ln &amp; Chevy...</td><td>32002</td><td>Bethesda Ave &amp; Ar...</td><td>W21391</td><td>Member</td></tr>\n<tr><td>1356</td><td>2019-09-01 00:03:28</td><td>2019-09-01 00:26:05</td><td>31321</td><td>15th St &amp; Constit...</td><td>31307</td><td>3000 Connecticut ...</td><td>W20442</td><td>Member</td></tr>\n<tr><td>1090</td><td>2019-09-01 00:03:39</td><td>2019-09-01 00:21:49</td><td>31514</td><td>Hamlin &amp; 7th St NE</td><td>31640</td><td>Maryland Ave &amp; E ...</td><td>W22030</td><td>Member</td></tr>\n<tr><td>525</td><td>2019-09-01 00:03:46</td><td>2019-09-01 00:12:32</td><td>31277</td><td>17th &amp; G St NW</td><td>31267</td><td>17th St &amp; Massach...</td><td>W21408</td><td>Member</td></tr>\n<tr><td>213</td><td>2019-09-01 00:04:03</td><td>2019-09-01 00:07:36</td><td>31128</td><td>23rd &amp; M St NW</td><td>31285</td><td>22nd &amp; P ST NW</td><td>W22332</td><td>Member</td></tr>\n<tr><td>583</td><td>2019-09-01 00:04:36</td><td>2019-09-01 00:14:19</td><td>31606</td><td>Potomac &amp; Pennsyl...</td><td>31652</td><td>4th &amp; M St SE</td><td>W24030</td><td>Member</td></tr>\n<tr><td>142</td><td>2019-09-01 00:04:36</td><td>2019-09-01 00:06:58</td><td>31104</td><td>Adams Mill &amp; Colu...</td><td>31106</td><td>Calvert &amp; Biltmor...</td><td>W20646</td><td>Member</td></tr>\n<tr><td>554</td><td>2019-09-01 00:05:00</td><td>2019-09-01 00:14:15</td><td>31606</td><td>Potomac &amp; Pennsyl...</td><td>31652</td><td>4th &amp; M St SE</td><td>W22967</td><td>Member</td></tr>\n<tr><td>1018</td><td>2019-09-01 00:05:05</td><td>2019-09-01 00:22:04</td><td>31234</td><td>20th &amp; O St NW / ...</td><td>31627</td><td>3rd &amp; M St NE</td><td>W20469</td><td>Casual</td></tr>\n<tr><td>900</td><td>2019-09-01 00:05:21</td><td>2019-09-01 00:20:21</td><td>31229</td><td>New Hampshire Ave...</td><td>31122</td><td>16th &amp; Irving St NW</td><td>W20860</td><td>Casual</td></tr>\n</table>\nonly showing top 20 rows\n"
     },
     "metadata": {},
     "execution_count": 49
    }
   ],
   "source": [
    "bike_data"
   ]
  },
  {
   "cell_type": "code",
   "execution_count": 50,
   "metadata": {},
   "outputs": [
    {
     "output_type": "execute_result",
     "data": {
      "text/plain": "+-----------+-----+\n|bike_number|count|\n+-----------+-----+\n|     W00474|  745|\n|     W00826|  529|\n|     W00254|  555|\n|     W20296|  532|\n|     W20676|  678|\n|     W23518|  456|\n|     W22623|  552|\n|     W22547|  731|\n|     W21144|  594|\n|     W22173|  799|\n|     W00746|  275|\n|     W00117|  327|\n|     W20024|  353|\n|     W21495|  344|\n|     W21869|  434|\n|     W22337|  586|\n|     W21528|  245|\n|     W01020|  259|\n|      77814|   15|\n|     W22837|  141|\n+-----------+-----+\nonly showing top 20 rows",
      "text/html": "<table border='1'>\n<tr><th>bike_number</th><th>count</th></tr>\n<tr><td>W00474</td><td>745</td></tr>\n<tr><td>W00826</td><td>529</td></tr>\n<tr><td>W00254</td><td>555</td></tr>\n<tr><td>W20296</td><td>532</td></tr>\n<tr><td>W20676</td><td>678</td></tr>\n<tr><td>W23518</td><td>456</td></tr>\n<tr><td>W22623</td><td>552</td></tr>\n<tr><td>W22547</td><td>731</td></tr>\n<tr><td>W21144</td><td>594</td></tr>\n<tr><td>W22173</td><td>799</td></tr>\n<tr><td>W00746</td><td>275</td></tr>\n<tr><td>W00117</td><td>327</td></tr>\n<tr><td>W20024</td><td>353</td></tr>\n<tr><td>W21495</td><td>344</td></tr>\n<tr><td>W21869</td><td>434</td></tr>\n<tr><td>W22337</td><td>586</td></tr>\n<tr><td>W21528</td><td>245</td></tr>\n<tr><td>W01020</td><td>259</td></tr>\n<tr><td>77814</td><td>15</td></tr>\n<tr><td>W22837</td><td>141</td></tr>\n</table>\nonly showing top 20 rows\n"
     },
     "metadata": {},
     "execution_count": 50
    }
   ],
   "source": [
    "bike_data.groupBy('bike_number').count()"
   ]
  },
  {
   "cell_type": "code",
   "execution_count": 51,
   "metadata": {},
   "outputs": [],
   "source": [
    "bikes_partial = bike_data.select('start_station_id', 'end_station_id')\n",
    "stations_partial = stations.select('terminalName','lat', 'long')\n",
    "bikes_joined = bikes_partial.join(stations_partial.withColumnRenamed('lat','lat_start'), bike_data.start_station_id == stations.terminalName)"
   ]
  },
  {
   "cell_type": "code",
   "execution_count": 52,
   "metadata": {},
   "outputs": [
    {
     "output_type": "execute_result",
     "data": {
      "text/plain": "+----------------+--------------+------------+---------+----------+\n|start_station_id|end_station_id|terminalName|lat_start|      long|\n+----------------+--------------+------------+---------+----------+\n|           31039|         31092|       31039|38.880012|-77.107854|\n|           31039|         31038|       31039|38.880012|-77.107854|\n|           31039|         31089|       31039|38.880012|-77.107854|\n|           31039|         31215|       31039|38.880012|-77.107854|\n|           31039|         31920|       31039|38.880012|-77.107854|\n|           31039|         31901|       31039|38.880012|-77.107854|\n|           31039|         31089|       31039|38.880012|-77.107854|\n|           31039|         31075|       31039|38.880012|-77.107854|\n|           31039|         31003|       31039|38.880012|-77.107854|\n|           31039|         31905|       31039|38.880012|-77.107854|\n|           31039|         31905|       31039|38.880012|-77.107854|\n|           31039|         31923|       31039|38.880012|-77.107854|\n|           31039|         31078|       31039|38.880012|-77.107854|\n|           31039|         31078|       31039|38.880012|-77.107854|\n|           31039|         31016|       31039|38.880012|-77.107854|\n|           31039|         31016|       31039|38.880012|-77.107854|\n|           31039|         31078|       31039|38.880012|-77.107854|\n|           31039|         31020|       31039|38.880012|-77.107854|\n|           31039|         31900|       31039|38.880012|-77.107854|\n|           31039|         31923|       31039|38.880012|-77.107854|\n+----------------+--------------+------------+---------+----------+\nonly showing top 20 rows",
      "text/html": "<table border='1'>\n<tr><th>start_station_id</th><th>end_station_id</th><th>terminalName</th><th>lat_start</th><th>long</th></tr>\n<tr><td>31039</td><td>31092</td><td>31039</td><td>38.880012</td><td>-77.107854</td></tr>\n<tr><td>31039</td><td>31038</td><td>31039</td><td>38.880012</td><td>-77.107854</td></tr>\n<tr><td>31039</td><td>31089</td><td>31039</td><td>38.880012</td><td>-77.107854</td></tr>\n<tr><td>31039</td><td>31215</td><td>31039</td><td>38.880012</td><td>-77.107854</td></tr>\n<tr><td>31039</td><td>31920</td><td>31039</td><td>38.880012</td><td>-77.107854</td></tr>\n<tr><td>31039</td><td>31901</td><td>31039</td><td>38.880012</td><td>-77.107854</td></tr>\n<tr><td>31039</td><td>31089</td><td>31039</td><td>38.880012</td><td>-77.107854</td></tr>\n<tr><td>31039</td><td>31075</td><td>31039</td><td>38.880012</td><td>-77.107854</td></tr>\n<tr><td>31039</td><td>31003</td><td>31039</td><td>38.880012</td><td>-77.107854</td></tr>\n<tr><td>31039</td><td>31905</td><td>31039</td><td>38.880012</td><td>-77.107854</td></tr>\n<tr><td>31039</td><td>31905</td><td>31039</td><td>38.880012</td><td>-77.107854</td></tr>\n<tr><td>31039</td><td>31923</td><td>31039</td><td>38.880012</td><td>-77.107854</td></tr>\n<tr><td>31039</td><td>31078</td><td>31039</td><td>38.880012</td><td>-77.107854</td></tr>\n<tr><td>31039</td><td>31078</td><td>31039</td><td>38.880012</td><td>-77.107854</td></tr>\n<tr><td>31039</td><td>31016</td><td>31039</td><td>38.880012</td><td>-77.107854</td></tr>\n<tr><td>31039</td><td>31016</td><td>31039</td><td>38.880012</td><td>-77.107854</td></tr>\n<tr><td>31039</td><td>31078</td><td>31039</td><td>38.880012</td><td>-77.107854</td></tr>\n<tr><td>31039</td><td>31020</td><td>31039</td><td>38.880012</td><td>-77.107854</td></tr>\n<tr><td>31039</td><td>31900</td><td>31039</td><td>38.880012</td><td>-77.107854</td></tr>\n<tr><td>31039</td><td>31923</td><td>31039</td><td>38.880012</td><td>-77.107854</td></tr>\n</table>\nonly showing top 20 rows\n"
     },
     "metadata": {},
     "execution_count": 52
    }
   ],
   "source": [
    "bikes_joined"
   ]
  },
  {
   "cell_type": "code",
   "execution_count": 53,
   "metadata": {},
   "outputs": [
    {
     "output_type": "execute_result",
     "data": {
      "text/plain": "2681369"
     },
     "metadata": {},
     "execution_count": 53
    }
   ],
   "source": [
    "bike_data.count()\n"
   ]
  },
  {
   "cell_type": "code",
   "execution_count": 54,
   "metadata": {},
   "outputs": [
    {
     "output_type": "execute_result",
     "data": {
      "text/plain": "356409"
     },
     "metadata": {},
     "execution_count": 54
    }
   ],
   "source": [
    "stations.count()**2"
   ]
  },
  {
   "cell_type": "code",
   "execution_count": null,
   "metadata": {},
   "outputs": [],
   "source": [
    "pairs_distance = station_pairs.withColumn(\"abs_distance\", udf_get_distance(\n",
    "station_pairs.long_A, station_pairs.lat_A,\n",
    "station_pairs.long_B, station_pairs.lat_B))"
   ]
  },
  {
   "cell_type": "code",
   "execution_count": 57,
   "metadata": {},
   "outputs": [],
   "source": [
    " bikes = bike_data\n",
    " bikes_joined = bikes.join(stations_partial.withColumnRenamed('lat','lat_start').withColumnRenamed('long','long_start'), bikes.start_station_id == stations.terminalName)\n",
    " bikes_joined = bikes_joined.join(stations_partial.withColumnRenamed('lat','lat_end').withColumnRenamed('long','long_end'), bikes.end_station_id == stations.terminalName)"
   ]
  },
  {
   "cell_type": "code",
   "execution_count": 58,
   "metadata": {},
   "outputs": [
    {
     "output_type": "execute_result",
     "data": {
      "text/plain": "+--------+-------------------+-------------------+----------------+------------------+--------------+----------------+-----------+-----------+------------+---------+----------+------------+-----------------+------------------+\n|duration|         start_date|           end_date|start_station_id|start_station_name|end_station_id|end_station_name|bike_number|member_type|terminalName|lat_start|long_start|terminalName|          lat_end|          long_end|\n+--------+-------------------+-------------------+----------------+------------------+--------------+----------------+-----------+-----------+------------+---------+----------+------------+-----------------+------------------+\n|    1315|2019-09-03 18:50:05|2019-09-03 19:12:00|           31109|     7th & T St NW|         31109|   7th & T St NW|     W21554|     Member|       31109|  38.9155|  -77.0222|       31000|        38.858971|         -77.05323|\n|    1315|2019-09-03 18:50:05|2019-09-03 19:12:00|           31109|     7th & T St NW|         31109|   7th & T St NW|     W21554|     Member|       31109|  38.9155|  -77.0222|       31001|         38.85725|         -77.05332|\n|    1315|2019-09-03 18:50:05|2019-09-03 19:12:00|           31109|     7th & T St NW|         31109|   7th & T St NW|     W21554|     Member|       31109|  38.9155|  -77.0222|       31002|        38.856425|        -77.049232|\n|    1315|2019-09-03 18:50:05|2019-09-03 19:12:00|           31109|     7th & T St NW|         31109|   7th & T St NW|     W21554|     Member|       31109|  38.9155|  -77.0222|       31003|         38.86017|        -77.049593|\n|    1315|2019-09-03 18:50:05|2019-09-03 19:12:00|           31109|     7th & T St NW|         31109|   7th & T St NW|     W21554|     Member|       31109|  38.9155|  -77.0222|       31004|        38.857866|         -77.05949|\n|    1315|2019-09-03 18:50:05|2019-09-03 19:12:00|           31109|     7th & T St NW|         31109|   7th & T St NW|     W21554|     Member|       31109|  38.9155|  -77.0222|       31005|        38.862303|        -77.059936|\n|    1315|2019-09-03 18:50:05|2019-09-03 19:12:00|           31109|     7th & T St NW|         31109|   7th & T St NW|     W21554|     Member|       31109|  38.9155|  -77.0222|       31006|          38.8637|          -77.0633|\n|    1315|2019-09-03 18:50:05|2019-09-03 19:12:00|           31109|     7th & T St NW|         31109|   7th & T St NW|     W21554|     Member|       31109|  38.9155|  -77.0222|       31007|38.85740496261504|-77.05113172531128|\n|    1315|2019-09-03 18:50:05|2019-09-03 19:12:00|           31109|     7th & T St NW|         31109|   7th & T St NW|     W21554|     Member|       31109|  38.9155|  -77.0222|       31009|        38.848466|        -77.051514|\n|    1315|2019-09-03 18:50:05|2019-09-03 19:12:00|           31109|     7th & T St NW|         31109|   7th & T St NW|     W21554|     Member|       31109|  38.9155|  -77.0222|       31010|          38.8426|          -77.0502|\n|    1315|2019-09-03 18:50:05|2019-09-03 19:12:00|           31109|     7th & T St NW|         31109|   7th & T St NW|     W21554|     Member|       31109|  38.9155|  -77.0222|       31011|          38.8533|          -77.0498|\n|    1315|2019-09-03 18:50:05|2019-09-03 19:12:00|           31109|     7th & T St NW|         31109|   7th & T St NW|     W21554|     Member|       31109|  38.9155|  -77.0222|       31012|        38.850688|         -77.05152|\n|    1315|2019-09-03 18:50:05|2019-09-03 19:12:00|           31109|     7th & T St NW|         31109|   7th & T St NW|     W21554|     Member|       31109|  38.9155|  -77.0222|       31100|          38.9003|          -77.0429|\n|    1315|2019-09-03 18:50:05|2019-09-03 19:12:00|           31109|     7th & T St NW|         31109|   7th & T St NW|     W21554|     Member|       31109|  38.9155|  -77.0222|       31101|        38.917931|        -77.032112|\n|    1315|2019-09-03 18:50:05|2019-09-03 19:12:00|           31109|     7th & T St NW|         31109|   7th & T St NW|     W21554|     Member|       31109|  38.9155|  -77.0222|       31102|        38.929464|        -77.027822|\n|    1315|2019-09-03 18:50:05|2019-09-03 19:12:00|           31109|     7th & T St NW|         31109|   7th & T St NW|     W21554|     Member|       31109|  38.9155|  -77.0222|       31103|        38.926088|        -77.036536|\n|    1315|2019-09-03 18:50:05|2019-09-03 19:12:00|           31109|     7th & T St NW|         31109|   7th & T St NW|     W21554|     Member|       31109|  38.9155|  -77.0222|       31104|        38.922925|        -77.042581|\n|    1315|2019-09-03 18:50:05|2019-09-03 19:12:00|           31109|     7th & T St NW|         31109|   7th & T St NW|     W21554|     Member|       31109|  38.9155|  -77.0222|       31105|          38.9268|          -77.0322|\n|    1315|2019-09-03 18:50:05|2019-09-03 19:12:00|           31109|     7th & T St NW|         31109|   7th & T St NW|     W21554|     Member|       31109|  38.9155|  -77.0222|       31106|        38.923203|        -77.047637|\n|    1315|2019-09-03 18:50:05|2019-09-03 19:12:00|           31109|     7th & T St NW|         31109|   7th & T St NW|     W21554|     Member|       31109|  38.9155|  -77.0222|       31107|          38.9319|          -77.0388|\n+--------+-------------------+-------------------+----------------+------------------+--------------+----------------+-----------+-----------+------------+---------+----------+------------+-----------------+------------------+\nonly showing top 20 rows",
      "text/html": "<table border='1'>\n<tr><th>duration</th><th>start_date</th><th>end_date</th><th>start_station_id</th><th>start_station_name</th><th>end_station_id</th><th>end_station_name</th><th>bike_number</th><th>member_type</th><th>terminalName</th><th>lat_start</th><th>long_start</th><th>terminalName</th><th>lat_end</th><th>long_end</th></tr>\n<tr><td>1315</td><td>2019-09-03 18:50:05</td><td>2019-09-03 19:12:00</td><td>31109</td><td>7th &amp; T St NW</td><td>31109</td><td>7th &amp; T St NW</td><td>W21554</td><td>Member</td><td>31109</td><td>38.9155</td><td>-77.0222</td><td>31000</td><td>38.858971</td><td>-77.05323</td></tr>\n<tr><td>1315</td><td>2019-09-03 18:50:05</td><td>2019-09-03 19:12:00</td><td>31109</td><td>7th &amp; T St NW</td><td>31109</td><td>7th &amp; T St NW</td><td>W21554</td><td>Member</td><td>31109</td><td>38.9155</td><td>-77.0222</td><td>31001</td><td>38.85725</td><td>-77.05332</td></tr>\n<tr><td>1315</td><td>2019-09-03 18:50:05</td><td>2019-09-03 19:12:00</td><td>31109</td><td>7th &amp; T St NW</td><td>31109</td><td>7th &amp; T St NW</td><td>W21554</td><td>Member</td><td>31109</td><td>38.9155</td><td>-77.0222</td><td>31002</td><td>38.856425</td><td>-77.049232</td></tr>\n<tr><td>1315</td><td>2019-09-03 18:50:05</td><td>2019-09-03 19:12:00</td><td>31109</td><td>7th &amp; T St NW</td><td>31109</td><td>7th &amp; T St NW</td><td>W21554</td><td>Member</td><td>31109</td><td>38.9155</td><td>-77.0222</td><td>31003</td><td>38.86017</td><td>-77.049593</td></tr>\n<tr><td>1315</td><td>2019-09-03 18:50:05</td><td>2019-09-03 19:12:00</td><td>31109</td><td>7th &amp; T St NW</td><td>31109</td><td>7th &amp; T St NW</td><td>W21554</td><td>Member</td><td>31109</td><td>38.9155</td><td>-77.0222</td><td>31004</td><td>38.857866</td><td>-77.05949</td></tr>\n<tr><td>1315</td><td>2019-09-03 18:50:05</td><td>2019-09-03 19:12:00</td><td>31109</td><td>7th &amp; T St NW</td><td>31109</td><td>7th &amp; T St NW</td><td>W21554</td><td>Member</td><td>31109</td><td>38.9155</td><td>-77.0222</td><td>31005</td><td>38.862303</td><td>-77.059936</td></tr>\n<tr><td>1315</td><td>2019-09-03 18:50:05</td><td>2019-09-03 19:12:00</td><td>31109</td><td>7th &amp; T St NW</td><td>31109</td><td>7th &amp; T St NW</td><td>W21554</td><td>Member</td><td>31109</td><td>38.9155</td><td>-77.0222</td><td>31006</td><td>38.8637</td><td>-77.0633</td></tr>\n<tr><td>1315</td><td>2019-09-03 18:50:05</td><td>2019-09-03 19:12:00</td><td>31109</td><td>7th &amp; T St NW</td><td>31109</td><td>7th &amp; T St NW</td><td>W21554</td><td>Member</td><td>31109</td><td>38.9155</td><td>-77.0222</td><td>31007</td><td>38.85740496261504</td><td>-77.05113172531128</td></tr>\n<tr><td>1315</td><td>2019-09-03 18:50:05</td><td>2019-09-03 19:12:00</td><td>31109</td><td>7th &amp; T St NW</td><td>31109</td><td>7th &amp; T St NW</td><td>W21554</td><td>Member</td><td>31109</td><td>38.9155</td><td>-77.0222</td><td>31009</td><td>38.848466</td><td>-77.051514</td></tr>\n<tr><td>1315</td><td>2019-09-03 18:50:05</td><td>2019-09-03 19:12:00</td><td>31109</td><td>7th &amp; T St NW</td><td>31109</td><td>7th &amp; T St NW</td><td>W21554</td><td>Member</td><td>31109</td><td>38.9155</td><td>-77.0222</td><td>31010</td><td>38.8426</td><td>-77.0502</td></tr>\n<tr><td>1315</td><td>2019-09-03 18:50:05</td><td>2019-09-03 19:12:00</td><td>31109</td><td>7th &amp; T St NW</td><td>31109</td><td>7th &amp; T St NW</td><td>W21554</td><td>Member</td><td>31109</td><td>38.9155</td><td>-77.0222</td><td>31011</td><td>38.8533</td><td>-77.0498</td></tr>\n<tr><td>1315</td><td>2019-09-03 18:50:05</td><td>2019-09-03 19:12:00</td><td>31109</td><td>7th &amp; T St NW</td><td>31109</td><td>7th &amp; T St NW</td><td>W21554</td><td>Member</td><td>31109</td><td>38.9155</td><td>-77.0222</td><td>31012</td><td>38.850688</td><td>-77.05152</td></tr>\n<tr><td>1315</td><td>2019-09-03 18:50:05</td><td>2019-09-03 19:12:00</td><td>31109</td><td>7th &amp; T St NW</td><td>31109</td><td>7th &amp; T St NW</td><td>W21554</td><td>Member</td><td>31109</td><td>38.9155</td><td>-77.0222</td><td>31100</td><td>38.9003</td><td>-77.0429</td></tr>\n<tr><td>1315</td><td>2019-09-03 18:50:05</td><td>2019-09-03 19:12:00</td><td>31109</td><td>7th &amp; T St NW</td><td>31109</td><td>7th &amp; T St NW</td><td>W21554</td><td>Member</td><td>31109</td><td>38.9155</td><td>-77.0222</td><td>31101</td><td>38.917931</td><td>-77.032112</td></tr>\n<tr><td>1315</td><td>2019-09-03 18:50:05</td><td>2019-09-03 19:12:00</td><td>31109</td><td>7th &amp; T St NW</td><td>31109</td><td>7th &amp; T St NW</td><td>W21554</td><td>Member</td><td>31109</td><td>38.9155</td><td>-77.0222</td><td>31102</td><td>38.929464</td><td>-77.027822</td></tr>\n<tr><td>1315</td><td>2019-09-03 18:50:05</td><td>2019-09-03 19:12:00</td><td>31109</td><td>7th &amp; T St NW</td><td>31109</td><td>7th &amp; T St NW</td><td>W21554</td><td>Member</td><td>31109</td><td>38.9155</td><td>-77.0222</td><td>31103</td><td>38.926088</td><td>-77.036536</td></tr>\n<tr><td>1315</td><td>2019-09-03 18:50:05</td><td>2019-09-03 19:12:00</td><td>31109</td><td>7th &amp; T St NW</td><td>31109</td><td>7th &amp; T St NW</td><td>W21554</td><td>Member</td><td>31109</td><td>38.9155</td><td>-77.0222</td><td>31104</td><td>38.922925</td><td>-77.042581</td></tr>\n<tr><td>1315</td><td>2019-09-03 18:50:05</td><td>2019-09-03 19:12:00</td><td>31109</td><td>7th &amp; T St NW</td><td>31109</td><td>7th &amp; T St NW</td><td>W21554</td><td>Member</td><td>31109</td><td>38.9155</td><td>-77.0222</td><td>31105</td><td>38.9268</td><td>-77.0322</td></tr>\n<tr><td>1315</td><td>2019-09-03 18:50:05</td><td>2019-09-03 19:12:00</td><td>31109</td><td>7th &amp; T St NW</td><td>31109</td><td>7th &amp; T St NW</td><td>W21554</td><td>Member</td><td>31109</td><td>38.9155</td><td>-77.0222</td><td>31106</td><td>38.923203</td><td>-77.047637</td></tr>\n<tr><td>1315</td><td>2019-09-03 18:50:05</td><td>2019-09-03 19:12:00</td><td>31109</td><td>7th &amp; T St NW</td><td>31109</td><td>7th &amp; T St NW</td><td>W21554</td><td>Member</td><td>31109</td><td>38.9155</td><td>-77.0222</td><td>31107</td><td>38.9319</td><td>-77.0388</td></tr>\n</table>\nonly showing top 20 rows\n"
     },
     "metadata": {},
     "execution_count": 58
    }
   ],
   "source": [
    "bikes_joined"
   ]
  },
  {
   "cell_type": "code",
   "execution_count": null,
   "metadata": {},
   "outputs": [],
   "source": [
    "bikes = bikes_joined.withColumn(\"abs_distance\", udf_get_distance(\n",
    "bikes_joined.long_start, station_pairs.lat_start,\n",
    "station_pairs.long_end, station_pairs.lat_end))"
   ]
  }
 ]
}